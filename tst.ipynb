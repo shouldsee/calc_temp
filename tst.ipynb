{
 "cells": [
  {
   "cell_type": "code",
   "execution_count": 1,
   "metadata": {
    "collapsed": false
   },
   "outputs": [
    {
     "name": "stdout",
     "output_type": "stream",
     "text": [
      "using default rule, B3/S23\n",
      "000000000060031c61c67f86a0\n"
     ]
    }
   ],
   "source": [
    "from os import environ\n",
    "try:\n",
    "    input_rulestr= environ['input_rulestr']\n",
    "except:\n",
    "    input_rulestr='000000000060031c61c67f86a0';\n",
    "    print('using default rule, B3/S23')\n",
    "print(input_rulestr)\n"
   ]
  }
 ],
 "metadata": {
  "kernelspec": {
   "display_name": "Python 3",
   "language": "python",
   "name": "python3"
  },
  "language_info": {
   "codemirror_mode": {
    "name": "ipython",
    "version": 3
   },
   "file_extension": ".py",
   "mimetype": "text/x-python",
   "name": "python",
   "nbconvert_exporter": "python",
   "pygments_lexer": "ipython3",
   "version": "3.5.2"
  }
 },
 "nbformat": 4,
 "nbformat_minor": 2
}
