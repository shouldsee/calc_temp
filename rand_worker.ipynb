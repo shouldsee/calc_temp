{
 "cells": [
  {
   "cell_type": "code",
   "execution_count": 1,
   "metadata": {},
   "outputs": [
    {
     "name": "stdout",
     "output_type": "stream",
     "text": [
      "is in ipython: 1\n",
      "[WARN] pymisca.vis_util cannot find network\n"
     ]
    }
   ],
   "source": [
    "from pymisca.util import *\n",
    "from pymisca.vis_util import *\n",
    "import IPython.display as ipd\n",
    "\n",
    "import KBs\n",
    "import random\n",
    "\n",
    "DIR = 'data_rand'\n",
    "!mkdir -p {DIR}\n"
   ]
  },
  {
   "cell_type": "code",
   "execution_count": 2,
   "metadata": {},
   "outputs": [],
   "source": [
    "from KBs import *\n",
    "ps = np.array([0.1   , 0.01  , 0.001 , 0.0001, 0.    ]) \n",
    "def main(env,ps=ps,agg=np.min):\n",
    "#     ps = np.array([0.1   , 0.01  , 0.001 , 0.0001, 0.    ])\n",
    "    lst = []\n",
    "    for pr in ps:\n",
    "        adv = mix_adv(fill_ber,env.adv,pa=pr)\n",
    "        hist = sample(env,adv=adv)\n",
    "        hist = hist.reshape(hist.shape[:-2]+(-1,))\n",
    "        dlst=  []\n",
    "        for x in hist:\n",
    "            d= spdist.pdist(x,'hamming')\n",
    "            d = hill(d)\n",
    "            D = spdist.squareform(d)\n",
    "            dlst+=[D]        \n",
    "            np.fill_diagonal(D,2)    \n",
    "        lst.append(agg(dlst,axis=(-1)))\n",
    "    lst=  np.array(lst)\n",
    "    \n",
    "    opt = post(lst)\n",
    "    out = np.vstack([[ps],opt])\n",
    "    return out\n",
    "def post(o,ps=None,ylim=[0,150],axs = None,silent=0,lab=''):\n",
    "    arr = np.mean(o,axis=-1)\n",
    "    out = map(lambda x:fit_exp(x)[0],arr) \n",
    "    #### out = (popt,yfit,loss)\n",
    "    return zip(*out)\n",
    "# def worker0325(**kwargs):\n",
    "def worker0325(dct):\n",
    "    env = KBs.guess(dct=dct)\n",
    "    env.change_size((128,128,32**2))\n",
    "    out = main(env)\n",
    "    return out"
   ]
  },
  {
   "cell_type": "markdown",
   "metadata": {},
   "source": [
    "20 rule per min\n",
    "\n",
    "bsize/20 = 2 min"
   ]
  },
  {
   "cell_type": "code",
   "execution_count": null,
   "metadata": {},
   "outputs": [
    {
     "name": "stdout",
     "output_type": "stream",
     "text": [
      "finished 0 of 1440\n",
      "finished 1 of 1440\n"
     ]
    }
   ],
   "source": [
    "%%time\n",
    "import os\n",
    "import workers\n",
    "workers.worker0325 = worker0325\n",
    "import time\n",
    "import warnings\n",
    "# warnings.filterwarnings(\"once\")\n",
    "warnings.filterwarnings(\"ignore\")\n",
    "\n",
    "ts = []\n",
    "t0 = time.time()\n",
    "oit = list(range(0,60*24))\n",
    "for seed in oit:\n",
    "    bsize= 40\n",
    "    worker = workers.worker0325\n",
    "    kb = KBs.kb_2dntca()\n",
    "    it = kb.bulk_rstr(seed=seed,bsize=bsize)\n",
    "    out = mp_map(worker,it,n_cpu=6)\n",
    "\n",
    "    fname = os.path.join(DIR,'seed%d_size%d.npy'%(seed,bsize))\n",
    "    np.save(fname,out)\n",
    "    \n",
    "    print \"finished %d of %d\"%(seed,len(oit))\n",
    "    t = time.time()\n",
    "    ts.append(t-t0)\n",
    "    t0 = t\n",
    "#     break\n",
    "print 'finished'\n",
    "print 'avgtime:%.5fs'%(np.mean(ts))"
   ]
  }
 ],
 "metadata": {
  "kernelspec": {
   "display_name": "Python 2",
   "language": "python",
   "name": "python2"
  },
  "language_info": {
   "codemirror_mode": {
    "name": "ipython",
    "version": 2
   },
   "file_extension": ".py",
   "mimetype": "text/x-python",
   "name": "python",
   "nbconvert_exporter": "python",
   "pygments_lexer": "ipython2",
   "version": "2.7.12"
  }
 },
 "nbformat": 4,
 "nbformat_minor": 2
}
