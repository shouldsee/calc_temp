{
 "cells": [
  {
   "cell_type": "markdown",
   "metadata": {},
   "source": [
    "There is some vague discussion of De-Brujn diagram in LifeWiki:\n",
    "\n",
    "http://conwaylife.com/wiki/Ripples\n",
    "http://conwaylife.com/wiki/Subset_diagram\n",
    "\n",
    "The discussion is mainly restricted to cycles on De-Brujn diagram. The notations are inclear hence not attracitve.\n",
    "\n",
    "Cycles on DeBruijn graphs are indicative of spatial periodicity. In other words, it allows a certain element to be repeated in space. My current approach identify a set of fragments under certain mapping constraints, say the middle 3 cells are conserved after 3 steps. This can then tile space with a 3-cycle pattern.\n",
    "\n",
    "The definition of a glider is less straight-forward, since a single constraint no longer applies. By definition, a glider follows a constraint different from that of its background (otherwise they will move in sync and glider is not recognised any more).  Instead, "
   ]
  },
  {
   "cell_type": "markdown",
   "metadata": {},
   "source": [
    "Pioneers in the field\n",
    "Andrew Wuensche http://uncomp.uwe.ac.uk/wuensche/bio.html\n",
    "Genaro Martinez http://uncomp.uwe.ac.uk/genaro/home.html"
   ]
  }
 ],
 "metadata": {
  "kernelspec": {
   "display_name": "Python 2",
   "language": "python",
   "name": "python2"
  },
  "language_info": {
   "codemirror_mode": {
    "name": "ipython",
    "version": 2
   },
   "file_extension": ".py",
   "mimetype": "text/x-python",
   "name": "python",
   "nbconvert_exporter": "python",
   "pygments_lexer": "ipython2",
   "version": "2.7.12"
  }
 },
 "nbformat": 4,
 "nbformat_minor": 2
}
