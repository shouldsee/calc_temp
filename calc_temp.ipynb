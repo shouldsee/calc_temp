{
 "cells": [
  {
   "cell_type": "code",
   "execution_count": 1,
   "metadata": {},
   "outputs": [],
   "source": [
    "from astropy.convolution import *\n",
    "import sys\n",
    "import os\n",
    "sys.path.append(os.path.abspath('..'))\n",
    "%matplotlib notebook\n",
    "# utils=os.path.abspath('..')\n",
    "from utils import *\n",
    "import time\n",
    "from KBs import *\n",
    "(HTML(tog))\n",
    "\n",
    "\n",
    "global log\n",
    "log = []"
   ]
  },
  {
   "cell_type": "code",
   "execution_count": 2,
   "metadata": {
    "collapsed": true
   },
   "outputs": [],
   "source": [
    "# tog"
   ]
  },
  {
   "cell_type": "code",
   "execution_count": 3,
   "metadata": {
    "collapsed": true
   },
   "outputs": [],
   "source": [
    "# convolve_int=lambda a,fir,method:np.around(convolve(a,fir,method)).astype(np.int);\n",
    "\n",
    "def csv2dat(fname):\n",
    "    import csv \n",
    "    import numpy as np\n",
    "    global log\n",
    "    dat=[];\n",
    "    with open(fname, 'r') as csvfile:\n",
    "        spamreader = csv.reader(csvfile, delimiter='\\t')\n",
    "        for row in (spamreader):\n",
    "            dat+=[row];\n",
    "\n",
    "    log = log + ['Used \\''+fname+'\\' as input '];\n",
    "\n",
    "\n",
    "    return (np.array(dat));\n",
    "\n",
    "# if not 'input_rulestr' in locals():\n",
    "#     input_rulestr='000000000060031c61c67f86a0';\n",
    "# input_rulestr\n",
    "# CA_sys"
   ]
  },
  {
   "cell_type": "code",
   "execution_count": null,
   "metadata": {
    "collapsed": true
   },
   "outputs": [],
   "source": [
    "def profile(input_list, log = []):\n",
    "    # global log\n",
    "    output_data=[];    \n",
    "    repeat=2;\n",
    "    # input_list=[input_rulestr];\n",
    "    ipt_list=input_list*repeat;\n",
    "    # for i in range(5):\n",
    "    l_ipt=len(input_list)\n",
    "    log += ['Log of the process:'];\n",
    "    logs='Starting to profile {:d} rules at {:d} replicates,\\n totaling {:d} instances'.format(l_ipt,repeat,l_ipt*repeat);\n",
    "    log += [logs];\n",
    "    # print('Starting to profile {:d} rules at {:d} replicates,\\n totaling {:d} instances'.format(l_ipt,repeat,l_ipt*repeat))\n",
    "\n",
    "    for num,rulestr in enumerate(ipt_list):\n",
    "        ca1=CA_sys(familyname,rulestr,[400,100,400]);\n",
    "        ca1.rulestr2alias();\n",
    "        s=measure_temperature(ca1,hdist);\n",
    "        output_data+=[s];\n",
    "    #     print('{:d} of {:d}'.format(num,len(ipt_list)))\n",
    "        logs =('{:d} of {:d} '.format(num,len(ipt_list)));\n",
    "        log += [logs];\n",
    "    temp_data=[];\n",
    "    # sample_data=[]\n",
    "    for line in output_data:\n",
    "        temp_data+=[line.rstrip('\\n').split('\\t')];\n",
    "    sample_data=np.array(temp_data)\n",
    "    # print('data is succesfully generated at {:d} replicates'.format(repeat))\n",
    "    logs=('data is succesfully generated at {:d} replicates'.format(repeat))\n",
    "\n",
    "    log  += [logs];\n",
    "\n",
    "    # print('\\n Detail of the input:')\n",
    "    logs='\\n Detail of the input:';\n",
    "    log+=[logs];\n",
    "    for k,v in ca1.__dict__.items():\n",
    "        if not callable(v):\n",
    "    #         print(k+str(v).ljust(-10))\n",
    "    #         print(\"{:5} {:<15} {:<10}\".format('',k, str(v)))\n",
    "\n",
    "            logs=(\"{:5} {:<15} {:<10}\".format('',k, str(v)));\n",
    "            log+=[logs];\n",
    "    return( [sample_data,log]);"
   ]
  },
  {
   "cell_type": "code",
   "execution_count": 3,
   "metadata": {},
   "outputs": [
    {
     "ename": "NameError",
     "evalue": "global name 'log' is not defined",
     "output_type": "error",
     "traceback": [
      "\u001b[0;31m---------------------------------------------------------------------------\u001b[0m",
      "\u001b[0;31mNameError\u001b[0m                                 Traceback (most recent call last)",
      "\u001b[0;32m<ipython-input-3-aa49f79a6180>\u001b[0m in \u001b[0;36m<module>\u001b[0;34m()\u001b[0m\n\u001b[1;32m     31\u001b[0m \u001b[0;32mif\u001b[0m \u001b[0mquery_type\u001b[0m \u001b[0;34m==\u001b[0m \u001b[0;34m'rulestr'\u001b[0m\u001b[0;34m:\u001b[0m\u001b[0;34m\u001b[0m\u001b[0m\n\u001b[1;32m     32\u001b[0m     \u001b[0mfamilyname\u001b[0m\u001b[0;34m,\u001b[0m \u001b[0minput_rulestr\u001b[0m \u001b[0;34m=\u001b[0m \u001b[0mquery\u001b[0m\u001b[0;34m.\u001b[0m\u001b[0msplit\u001b[0m\u001b[0;34m(\u001b[0m\u001b[0;34m'_'\u001b[0m\u001b[0;34m)\u001b[0m\u001b[0;34m;\u001b[0m\u001b[0;34m\u001b[0m\u001b[0m\n\u001b[0;32m---> 33\u001b[0;31m     \u001b[0msample_data\u001b[0m\u001b[0;34m=\u001b[0m \u001b[0mprofile\u001b[0m\u001b[0;34m(\u001b[0m\u001b[0;34m[\u001b[0m\u001b[0minput_rulestr\u001b[0m\u001b[0;34m]\u001b[0m\u001b[0;34m)\u001b[0m\u001b[0;34m\u001b[0m\u001b[0m\n\u001b[0m\u001b[1;32m     34\u001b[0m     \u001b[0mlog\u001b[0m\u001b[0;34m+=\u001b[0m\u001b[0;34m[\u001b[0m\u001b[0;34m'data generated for '\u001b[0m\u001b[0;34m+\u001b[0m\u001b[0mquery\u001b[0m\u001b[0;34m]\u001b[0m\u001b[0;34m;\u001b[0m\u001b[0;34m\u001b[0m\u001b[0m\n",
      "\u001b[0;32m/media/DATA/Documents/repos/calc_temp/KBs.pyc\u001b[0m in \u001b[0;36mprofile\u001b[0;34m(input_list)\u001b[0m\n\u001b[1;32m    252\u001b[0m     \u001b[0;31m# for i in range(5):\u001b[0m\u001b[0;34m\u001b[0m\u001b[0;34m\u001b[0m\u001b[0m\n\u001b[1;32m    253\u001b[0m     \u001b[0ml_ipt\u001b[0m\u001b[0;34m=\u001b[0m\u001b[0mlen\u001b[0m\u001b[0;34m(\u001b[0m\u001b[0minput_list\u001b[0m\u001b[0;34m)\u001b[0m\u001b[0;34m\u001b[0m\u001b[0m\n\u001b[0;32m--> 254\u001b[0;31m     \u001b[0mlog\u001b[0m \u001b[0;34m+=\u001b[0m \u001b[0;34m[\u001b[0m\u001b[0;34m'Log of the process:'\u001b[0m\u001b[0;34m]\u001b[0m\u001b[0;34m;\u001b[0m\u001b[0;34m\u001b[0m\u001b[0m\n\u001b[0m\u001b[1;32m    255\u001b[0m     \u001b[0mlogs\u001b[0m\u001b[0;34m=\u001b[0m\u001b[0;34m'Starting to profile {:d} rules at {:d} replicates,\\n totaling {:d} instances'\u001b[0m\u001b[0;34m.\u001b[0m\u001b[0mformat\u001b[0m\u001b[0;34m(\u001b[0m\u001b[0ml_ipt\u001b[0m\u001b[0;34m,\u001b[0m\u001b[0mrepeat\u001b[0m\u001b[0;34m,\u001b[0m\u001b[0ml_ipt\u001b[0m\u001b[0;34m*\u001b[0m\u001b[0mrepeat\u001b[0m\u001b[0;34m)\u001b[0m\u001b[0;34m;\u001b[0m\u001b[0;34m\u001b[0m\u001b[0m\n\u001b[1;32m    256\u001b[0m     \u001b[0mlog\u001b[0m \u001b[0;34m+=\u001b[0m \u001b[0;34m[\u001b[0m\u001b[0mlogs\u001b[0m\u001b[0;34m]\u001b[0m\u001b[0;34m;\u001b[0m\u001b[0;34m\u001b[0m\u001b[0m\n",
      "\u001b[0;31mNameError\u001b[0m: global name 'log' is not defined"
     ]
    }
   ],
   "source": [
    "# #test\n",
    "# ca1=CA_sys('2dntca',input_rulestr,[600,100,400]);\n",
    "# ca1.rulestr2alias();\n",
    "# s=measure_temperature(ca1,hdist);\n",
    "# output_data=[];\n",
    "from os import environ\n",
    "# global log\n",
    "# log=[];\n",
    "if 'query' not in locals():\n",
    "    query = environ.get('query');\n",
    "    if not query==None:        \n",
    "        query = environ['query'];\n",
    "        if query[-4:]=='.csv':\n",
    "            query_type = 'csv';\n",
    "        else:\n",
    "            query_type = 'rulestr';\n",
    "#             familyname, input_rulestr = query.split('_');\n",
    "    else:\n",
    "    #     familynam\n",
    "        query='2dntca_000000000060031c61c67f86a0';\n",
    "        query_type = 'rulestr'\n",
    "#         familyname, input_rulestr = query.split('_');\n",
    "        log+=['fail to fetch query, using default rule, B3/S23 \\n' +\n",
    "        'example query:'+query];\n",
    "        ## Using B3/S23 as example\n",
    "\n",
    "if query_type == 'csv':\n",
    "#     sample_dat, log = \n",
    "    sample_data=csv2dat('../calc_temp_data/'+query);\n",
    "    print('data loaded')\n",
    "if query_type == 'rulestr':\n",
    "    familyname, input_rulestr = query.split('_');\n",
    "    sample_data,log = profile([input_rulestr],log)\n",
    "    log+=['data generated for '+query];"
   ]
  },
  {
   "cell_type": "code",
   "execution_count": 8,
   "metadata": {
    "collapsed": true
   },
   "outputs": [],
   "source": [
    "# import numpy as np\n",
    "\n",
    "# # TEST sample_data\n",
    "# sample_data=np.array([['2dntca_b3ianjrecqyks2ac3i2e3a2k3nj2i3re2n3cqyk',\n",
    "#         '000000000060031c61c67f86a0', '99', '0.148772', '0.087523',\n",
    "#         '0.089563'],\n",
    "#        ['2dntca_b3ianjrecqyks2ac3i2e3a2k3nj2i3re2n3cqyk',\n",
    "#         '000000000060031c61c67f86a0', '99', '0.152794', '0.086693',\n",
    "#         '0.091644'],\n",
    "#        ['2dntca_b3ianjrecqyks2ac3i2e3a2k3nj2i3re2n3cqyk',\n",
    "#         '000000000060031c61c67f86a0', '99', '0.148733', '0.089657',\n",
    "#         '0.089387'],\n",
    "#        ['2dntca_b3ianjrecqyks2ac3i2e3a2k3nj2i3re2n3cqyk',\n",
    "#         '000000000060031c61c67f86a0', '99', '0.150105', '0.092000',\n",
    "#         '0.090981'],\n",
    "#        ['2dntca_b3ianjrecqyks2ac3i2e3a2k3nj2i3re2n3cqyk',\n",
    "#         '000000000060031c61c67f86a0', '99', '0.153150', '0.089772',\n",
    "#         '0.090938']], \n",
    "#       dtype='<U46')"
   ]
  },
  {
   "cell_type": "markdown",
   "metadata": {},
   "source": [
    "## Landscape of the dynamics\n",
    "* Each point represent a single Cellular Automata. The position of the point indicates the characteristic of its dynamics. The red patch on the right indicates the disordered cluster, whereas the yellow patch on the lower-left indicate the ordered cluster. Anything outside represents some intermediate behaviour. \n",
    "* The green patch indicates complex dynamics of particular interest.\n",
    "* Hover on the point to display the rule-string of a single point. Click to display the rulestring as a copyable string, and open a simulator in a new pop-up window. (The simulator is provided by lv-plugin.js at http://lazyslug.no-ip.biz/lifeview/plugin/js/)\n",
    "* Click on the bottom-left widgets to Zoom-and-pan"
   ]
  },
  {
   "cell_type": "code",
   "execution_count": 9,
   "metadata": {
    "collapsed": true
   },
   "outputs": [],
   "source": [
    "viewer='''<script src=\"lv-plugin.js\"></script>\\n\n",
    "<meta name=\"LifeViewer\" content=\"viewer textarea 60 hide\">\\n\n",
    "<div class=\"viewer\" id=\"viewer\"><textarea id=\"textarea\">bob!</textarea><br><canvas id=\"cv1\" width=\"480\" height=\"480\"></canvas></div>\\n''';\n",
    "# HTML(viewer)"
   ]
  },
  {
   "cell_type": "code",
   "execution_count": 10,
   "metadata": {},
   "outputs": [
    {
     "data": {
      "text/html": [
       "<script>\n",
       "String.prototype.formatUnicorn = String.prototype.formatUnicorn ||\n",
       "function () {\n",
       "    \"use strict\";\n",
       "    var str = this.toString();\n",
       "    if (arguments.length) {\n",
       "        var t = typeof arguments[0];\n",
       "        var key;\n",
       "        var args = (\"string\" === t || \"number\" === t) ?\n",
       "            Array.prototype.slice.call(arguments)\n",
       "            : arguments[0];\n",
       "\n",
       "        for (key in args) {\n",
       "            str = str.replace(new RegExp(\"\\\\{\" + key + \"\\\\}\", \"gi\"), args[key]);\n",
       "        }\n",
       "    }\n",
       "\n",
       "    return str;\n",
       "};\n",
       "\n",
       "var s= new String(\"\");\n",
       "var soup=new String(\"3bo4b11o2b2ob2o2bobo$obobo2bo3bobo3bo2bob3ob2o$2b3obobob6o3b5o2bo2bo$bob2o3b2ob2ob3o4bo5bob2o$2o3b3o3bob4ob2o4bobob2o$5bo4bo4b2obo3b3o2bo$o2bob3obob4o4b3obob2obobo$3bo4bob5o5b3ob2o2b2o$2b3obob2ob4o2bo3bobo3bo$bo4bob2ob6obo3bo4bob2o$5b4obo3bo4bo5bo2bo$ob2obobo2bob2o2bobo2bo2b2o4bo$obo2b2ob2o2b2o3bo2b2obobob4o$6ob2ob2o3b2ob4obo3bob2o$3ob3obo2b3ob4ob4o5bo$obobo7bo3b2o6b3o3bo$bob3o6bob2ob2o3b4obob2o$o2b2o2bo2bo2bobob7ob2o3bo$2obo2bo2b5ob2obo3b2o4b2o$b2o2bob5obo2b5o2bob4o$2o2b4ob2ob4obo3bob3obo2bo$b2o3bo2bo3b6o2bo3bo2bo$bobo3b2ob2o3b3obo3bo5bo$o4b8obobobobob2ob2ob2o$3obo3b4obo3bob3obobo$o3b2obobob2o2b2o5bob2o$6bo5bob2o3b2obo2b2obo$7bo2b2obo2bobobo3bobo2b2o$2o4b7o4bo2b2ob2o3bo$o2bo3bobo3b4o2bo3b2obobo!\");\n",
       "var rule=\"b3s23578\";\n",
       "var template=\"x = 300, y = 300, rule = {0} \\n {1}\";\n",
       "var div_template=\"<textarea>{0}</textarea><br><canvas width=\\\"480\\\" height=\\\"480\\\" tabindex=\\\"1\\\"></canvas>\";\n",
       "\n",
       "//s=template.formatUnicorn(\"B3/S23\",\"bbboooobbbboo!\");\n",
       "//var s=\"<textarea>x = 300, y = 300, rule = B3/S238 \\nbobbbbbbooooooo!</textarea><br><canvas width=\\\"480\\\" height=\\\"480\\\"></canvas>\";\n",
       "//alert(s)\n",
       "var s = template.formatUnicorn(rule,soup)\n",
       "//document.getElementById(\"viewer\").innerHTML = s;\n",
       "</script>\n",
       "\n",
       "\n"
      ],
      "text/plain": [
       "<IPython.core.display.HTML object>"
      ]
     },
     "metadata": {},
     "output_type": "display_data"
    }
   ],
   "source": [
    "%%html\n",
    "<script>\n",
    "String.prototype.formatUnicorn = String.prototype.formatUnicorn ||\n",
    "function () {\n",
    "    \"use strict\";\n",
    "    var str = this.toString();\n",
    "    if (arguments.length) {\n",
    "        var t = typeof arguments[0];\n",
    "        var key;\n",
    "        var args = (\"string\" === t || \"number\" === t) ?\n",
    "            Array.prototype.slice.call(arguments)\n",
    "            : arguments[0];\n",
    "\n",
    "        for (key in args) {\n",
    "            str = str.replace(new RegExp(\"\\\\{\" + key + \"\\\\}\", \"gi\"), args[key]);\n",
    "        }\n",
    "    }\n",
    "\n",
    "    return str;\n",
    "};\n",
    "\n",
    "var s= new String(\"\");\n",
    "var soup=new String(\"3bo4b11o2b2ob2o2bobo$obobo2bo3bobo3bo2bob3ob2o$2b3obobob6o3b5o2bo2bo$bob2o3b2ob2ob3o4bo5bob2o$2o3b3o3bob4ob2o4bobob2o$5bo4bo4b2obo3b3o2bo$o2bob3obob4o4b3obob2obobo$3bo4bob5o5b3ob2o2b2o$2b3obob2ob4o2bo3bobo3bo$bo4bob2ob6obo3bo4bob2o$5b4obo3bo4bo5bo2bo$ob2obobo2bob2o2bobo2bo2b2o4bo$obo2b2ob2o2b2o3bo2b2obobob4o$6ob2ob2o3b2ob4obo3bob2o$3ob3obo2b3ob4ob4o5bo$obobo7bo3b2o6b3o3bo$bob3o6bob2ob2o3b4obob2o$o2b2o2bo2bo2bobob7ob2o3bo$2obo2bo2b5ob2obo3b2o4b2o$b2o2bob5obo2b5o2bob4o$2o2b4ob2ob4obo3bob3obo2bo$b2o3bo2bo3b6o2bo3bo2bo$bobo3b2ob2o3b3obo3bo5bo$o4b8obobobobob2ob2ob2o$3obo3b4obo3bob3obobo$o3b2obobob2o2b2o5bob2o$6bo5bob2o3b2obo2b2obo$7bo2b2obo2bobobo3bobo2b2o$2o4b7o4bo2b2ob2o3bo$o2bo3bobo3b4o2bo3b2obobo!\");\n",
    "var rule=\"b3s23578\";\n",
    "var template=\"x = 300, y = 300, rule = {0} \\n {1}\";\n",
    "var div_template=\"<textarea>{0}</textarea><br><canvas width=\\\"480\\\" height=\\\"480\\\" tabindex=\\\"1\\\"></canvas>\";\n",
    "\n",
    "//s=template.formatUnicorn(\"B3/S23\",\"bbboooobbbboo!\");\n",
    "//var s=\"<textarea>x = 300, y = 300, rule = B3/S238 \\nbobbbbbbooooooo!</textarea><br><canvas width=\\\"480\\\" height=\\\"480\\\"></canvas>\";\n",
    "//alert(s)\n",
    "var s = template.formatUnicorn(rule,soup)\n",
    "//document.getElementById(\"viewer\").innerHTML = s;\n",
    "</script>\n",
    "\n",
    "\n",
    "\n"
   ]
  },
  {
   "cell_type": "code",
   "execution_count": null,
   "metadata": {
    "collapsed": true
   },
   "outputs": [],
   "source": []
  },
  {
   "cell_type": "code",
   "execution_count": 11,
   "metadata": {
    "scrolled": true
   },
   "outputs": [
    {
     "name": "stderr",
     "output_type": "stream",
     "text": [
      "/home/shouldsee/.local/lib/python3.5/site-packages/matplotlib/cbook.py:136: MatplotlibDeprecationWarning: The axisbg attribute was deprecated in version 2.0. Use facecolor instead.\n",
      "  warnings.warn(message, mplDeprecation, stacklevel=1)\n"
     ]
    },
    {
     "data": {
      "text/html": [
       "\n",
       "\n",
       "<style>\n",
       "\n",
       "</style>\n",
       "\n",
       "<div id=\"fig_el247961403544675104805697480371\"></div>\n",
       "<script>\n",
       "function mpld3_load_lib(url, callback){\n",
       "  var s = document.createElement('script');\n",
       "  s.src = url;\n",
       "  s.async = true;\n",
       "  s.onreadystatechange = s.onload = callback;\n",
       "  s.onerror = function(){console.warn(\"failed to load library \" + url);};\n",
       "  document.getElementsByTagName(\"head\")[0].appendChild(s);\n",
       "}\n",
       "\n",
       "if(typeof(mpld3) !== \"undefined\" && mpld3._mpld3IsLoaded){\n",
       "   // already loaded: just create the figure\n",
       "   !function(mpld3){\n",
       "       \n",
       "    mpld3.register_plugin(\"clickinfo\", ClickInfo);\n",
       "    ClickInfo.prototype = Object.create(mpld3.Plugin.prototype);\n",
       "    ClickInfo.prototype.constructor = ClickInfo;\n",
       "    ClickInfo.prototype.requiredProps = [\"id\",\"labels\",\"rules\"];\n",
       "    function ClickInfo(fig, props){\n",
       "        mpld3.Plugin.call(this, fig, props);\n",
       "    };\n",
       "    \n",
       "    ClickInfo.prototype.draw = function(){\n",
       "        var obj = mpld3.get_element(this.props.id);\n",
       "        var labels = (this.props.labels);\n",
       "        var rules = (this.props.rules);\n",
       "        \n",
       "        obj.elements().on(\"mousedown\",\n",
       "                          function(d, i){\n",
       "                          txt=labels[i];\n",
       "                          window.prompt(\"You clicked Point \"+ i + \", Ctrl+C to copy to clipboard, Click 'OK' or 'Cancel' to open the CA in a pop-up Rulestring:\", txt);\n",
       "                            \n",
       "                            rule=rules[i];\n",
       "\n",
       "//                            var s = template.formatUnicorn(rule,soup);\n",
       "//                            var s = 'bbbbbboooooooo!';\n",
       "//                            var divs=div_template.formatUnicorn(s);\n",
       "//                            document.getElementById(\"viewer\").innerHTML = s;\n",
       "//                            document.getElementById(\"viewer\").visibility = \"show\";\n",
       "//                            document.getElementById(\"viewer\")\n",
       "                            window.open(\"/view.php?rule_alias=\"+rule);\n",
       "\n",
       "//                            var sp1 = document.createElement('textarea');\n",
       "//                            elementText = document.createTextNode(s);                            \n",
       "//                            sp1.appendChild(elementText);\n",
       "\n",
       "//                            var sp2 = document.getElementById(\"textarea\");\n",
       "//                            var parentDiv = sp2.parentNode;\n",
       "//                            parentDiv.replaceChild(sp1, sp2);\n",
       "\n",
       "//                            var cv1=document.createElement('canvas')\n",
       "//                             cv1.appendChild(document.createTextNode(''));\n",
       "//                            cv1.setAttribute('width','480');\n",
       "//                            cv1.setAttribute('height','480');\n",
       "\n",
       "                            var newviewer=document.createElement('div');\n",
       "                            newviewer.setAttribute('class','viewer');\n",
       "                            newviewer.setAttribute('id','viewer');\n",
       "                            newviewer.appendChild(sp1);\n",
       "                            newviewer.appendChild(cv1);\n",
       "\n",
       "//                            newviewer.appendChild(document.getElementById('cv1'))\n",
       "                            document.body.appendChild(newviewer);\n",
       "//                            parentDiv.parentNode.appendChild(newviewer);\n",
       "\n",
       "                            document.getElementById('viewer').contentWindow.location.reload();\n",
       "\n",
       "//                            viewer.innerHTML=s;\n",
       "alert(txt);\n",
       "                          //document.getElementById(\"viewer\").innerHTML = rule;\n",
       "\n",
       "                          \n",
       "                          });\n",
       "    }\n",
       "    \n",
       "    \n",
       "    \n",
       "       mpld3.draw_figure(\"fig_el247961403544675104805697480371\", {\"width\": 504.0, \"axes\": [{\"yscale\": \"linear\", \"ydomain\": [-0.1, 0.38], \"axesbgalpha\": null, \"xdomain\": [0.0, 1.0], \"texts\": [{\"zorder\": 3, \"alpha\": 1, \"position\": [0.5, -0.05518763796909494], \"id\": \"el24796140354461217400\", \"color\": \"#000000\", \"h_anchor\": \"middle\", \"v_baseline\": \"hanging\", \"fontsize\": 15.0, \"text\": \"Avg Temp\", \"rotation\": -0.0, \"coordinates\": \"axes\"}, {\"zorder\": 3, \"alpha\": 1, \"position\": [-0.09024577572964669, 0.5], \"id\": \"el24796140354460776768\", \"color\": \"#000000\", \"h_anchor\": \"middle\", \"v_baseline\": \"auto\", \"fontsize\": 15.0, \"text\": \"mean(abs(d_Temp)) - abs(mean(d_Temp))\", \"rotation\": -90.0, \"coordinates\": \"axes\"}, {\"zorder\": 3, \"alpha\": 1, \"position\": [0.5, 1.0157678965625985], \"id\": \"el24796140354460565856\", \"color\": \"#000000\", \"h_anchor\": \"middle\", \"v_baseline\": \"auto\", \"fontsize\": 20.0, \"text\": \"Dynamic landscape, 2D projection\", \"rotation\": -0.0, \"coordinates\": \"axes\"}, {\"zorder\": 1000003.0, \"alpha\": 1, \"position\": [0.7932667690732208, 0.9553242930726373], \"id\": \"el24796140354460069336\", \"color\": \"#000000\", \"h_anchor\": \"start\", \"v_baseline\": \"auto\", \"fontsize\": 10.0, \"text\": \"Uncond_Comp\", \"rotation\": -0.0, \"coordinates\": \"axes\"}, {\"zorder\": 1000003.0, \"alpha\": 1, \"position\": [0.7932667690732208, 0.9135229422894986], \"id\": \"el24796140354460095768\", \"color\": \"#000000\", \"h_anchor\": \"start\", \"v_baseline\": \"auto\", \"fontsize\": 10.0, \"text\": \"Cond_Comp\", \"rotation\": -0.0, \"coordinates\": \"axes\"}, {\"zorder\": 1000003.0, \"alpha\": 1, \"position\": [0.7932667690732208, 0.8717215915063596], \"id\": \"el24796140354460097448\", \"color\": \"#000000\", \"h_anchor\": \"start\", \"v_baseline\": \"auto\", \"fontsize\": 10.0, \"text\": \"Chaos\", \"rotation\": -0.0, \"coordinates\": \"axes\"}, {\"zorder\": 1000003.0, \"alpha\": 1, \"position\": [0.7932667690732208, 0.8323018500998633], \"id\": \"el24796140354460139928\", \"color\": \"#000000\", \"h_anchor\": \"start\", \"v_baseline\": \"auto\", \"fontsize\": 10.0, \"text\": \"sample\", \"rotation\": -0.0, \"coordinates\": \"axes\"}, {\"zorder\": 1000003.0, \"alpha\": 1, \"position\": [0.7932667690732208, 0.7928821086933668], \"id\": \"el24796140354460141664\", \"color\": \"#000000\", \"h_anchor\": \"start\", \"v_baseline\": \"auto\", \"fontsize\": 10.0, \"text\": \"reference\", \"rotation\": -0.0, \"coordinates\": \"axes\"}], \"sharex\": [], \"collections\": [{\"offsetcoordinates\": \"display\", \"alphas\": [0.5], \"edgewidths\": [1.0], \"zorder\": 1, \"offsets\": \"data01\", \"yindex\": 1, \"xindex\": 0, \"pathcoordinates\": \"data\", \"id\": \"el24796140355484263200\", \"pathtransforms\": [], \"facecolors\": [\"#008000\"], \"edgecolors\": [], \"paths\": [[[[0.12, 0.07500000000000001], [0.12, 0.125], [0.4, 0.215], [0.4, 0.165], [0.4, 0.165], [0.12, 0.07500000000000001]], [\"M\", \"L\", \"L\", \"L\", \"L\", \"L\", \"Z\"]]]}, {\"offsetcoordinates\": \"display\", \"alphas\": [0.5], \"edgewidths\": [1.0], \"zorder\": 1, \"offsets\": \"data01\", \"yindex\": 0, \"xindex\": 0, \"pathcoordinates\": \"data\", \"id\": \"el24796140354459946904\", \"pathtransforms\": [], \"facecolors\": [\"#FFFF00\"], \"edgecolors\": [], \"paths\": [[[[0.015, 0.009946941188791317], [0.015, 0.014946941188791318], [0.017142857142857144, 0.016296485031500184], [0.019285714285714285, 0.017596505955331895], [0.02142857142857143, 0.018854421454599337], [0.02357142857142857, 0.020075914228472942], [0.025714285714285714, 0.021265457861439827], [0.027857142857142858, 0.022426652810737534], [0.03, 0.02356245046045434], [0.03214285714285714, 0.024675307848649207], [0.03428571428571429, 0.025767297698913217], [0.03642857142857143, 0.02684018864591421], [0.038571428571428576, 0.02789550500173977], [0.04071428571428572, 0.028934572123470684], [0.04285714285714286, 0.029958551423472417], [0.045, 0.030968467784686933], [0.047142857142857146, 0.03196523131041616], [0.04928571428571429, 0.032949654782736607], [0.05142857142857143, 0.0339224678253189], [0.053571428571428575, 0.03488432850362945], [0.055714285714285716, 0.03583583290976222], [0.05785714285714286, 0.036777523145796714], [0.060000000000000005, 0.03770989402244363], [0.062142857142857146, 0.03863339871804698], [0.06428571428571428, 0.03954845358945097], [0.06642857142857143, 0.04045544228577542], [0.06857142857142857, 0.04135471928525511], [0.07071428571428572, 0.042246612951491805], [0.07285714285714286, 0.04313142818695434], [0.07500000000000001, 0.04400944874704474], [0.07714285714285715, 0.04488093926657467], [0.07928571428571429, 0.04574614704136246], [0.08142857142857143, 0.04660530360033824], [0.08357142857142857, 0.04745862609763713], [0.08571428571428572, 0.04830631854936491], [0.08785714285714286, 0.04914857293580454], [0.09, 0.04998557018661817], [0.09214285714285715, 0.05081748106394657], [0.09428571428571429, 0.05164446695610856], [0.09642857142857143, 0.05246668059277081], [0.09857142857142857, 0.053284266690925085], [0.10071428571428571, 0.054097362539721416], [0.10285714285714286, 0.054906098531118865], [0.10500000000000001, 0.05571059864239458], [0.10714285714285715, 0.05651098087576917], [0.10928571428571429, 0.05730735765973889], [0.11142857142857143, 0.058099836216133544], [0.11357142857142857, 0.058888518896428016], [0.11571428571428571, 0.05967350349041314], [0.11785714285714287, 0.060454883509965834], [0.12, 0.061232748450342295], [0.12, 0.0310327484503423], [0.12, 0.0310327484503423], [0.11785714285714287, 0.030769169224251547], [0.11571428571428571, 0.030502074918984573], [0.11357142857142857, 0.030231376039285163], [0.11142857142857143, 0.029956979073276397], [0.10928571428571429, 0.02967878623116746], [0.10714285714285715, 0.029396695161483452], [0.10500000000000001, 0.029110598642394583], [0.10285714285714286, 0.028820384245404583], [0.10071428571428571, 0.02852593396829284], [0.09857142857142857, 0.028227123833782224], [0.09642857142857143, 0.02792382344991367], [0.09428571428571429, 0.027615895527537133], [0.09214285714285715, 0.027303195349660855], [0.09, 0.02698557018661817], [0.08785714285714286, 0.02666285865009025], [0.08571428571428572, 0.026334889977936336], [0.08357142857142857, 0.026001483240494276], [0.08142857142857143, 0.02566244645748109], [0.07928571428571429, 0.025317575612791028], [0.07714285714285715, 0.02496665355228895], [0.07500000000000001, 0.024609448747044738], [0.07285714285714286, 0.024245713901240057], [0.07071428571428572, 0.02387518438006324], [0.06857142857142857, 0.02349757642811225], [0.06642857142857143, 0.023112585142918272], [0.06428571428571428, 0.02271988216087955], [0.062142857142857146, 0.02231911300376127], [0.060000000000000005, 0.02190989402244363], [0.05785714285714286, 0.02149180886008243], [0.055714285714285716, 0.021064404338333648], [0.053571428571428575, 0.02062718564648659], [0.05142857142857143, 0.02017961068246176], [0.04928571428571429, 0.019721083354165173], [0.047142857142857146, 0.019250945596130442], [0.045, 0.018768467784686937], [0.04285714285714286, 0.01827283713775813], [0.04071428571428572, 0.017763143552042115], [0.038571428571428576, 0.01723836214459691], [0.03642857142857143, 0.016697331503057068], [0.03428571428571429, 0.016138726270341786], [0.03214285714285714, 0.015561022134363493], [0.03, 0.014962450460454342], [0.027857142857142858, 0.014340938525023248], [0.025714285714285714, 0.013694029290011258], [0.02357142857142857, 0.013018771371330083], [0.02142857142857143, 0.012311564311742195], [0.019285714285714285, 0.011567934526760465], [0.017142857142857144, 0.010782199317214467], [0.015, 0.009946941188791317]], [\"M\", \"L\", \"L\", \"L\", \"L\", \"L\", \"L\", \"L\", \"L\", \"L\", \"L\", \"L\", \"L\", \"L\", \"L\", \"L\", \"L\", \"L\", \"L\", \"L\", \"L\", \"L\", \"L\", \"L\", \"L\", \"L\", \"L\", \"L\", \"L\", \"L\", \"L\", \"L\", \"L\", \"L\", \"L\", \"L\", \"L\", \"L\", \"L\", \"L\", \"L\", \"L\", \"L\", \"L\", \"L\", \"L\", \"L\", \"L\", \"L\", \"L\", \"L\", \"L\", \"L\", \"L\", \"L\", \"L\", \"L\", \"L\", \"L\", \"L\", \"L\", \"L\", \"L\", \"L\", \"L\", \"L\", \"L\", \"L\", \"L\", \"L\", \"L\", \"L\", \"L\", \"L\", \"L\", \"L\", \"L\", \"L\", \"L\", \"L\", \"L\", \"L\", \"L\", \"L\", \"L\", \"L\", \"L\", \"L\", \"L\", \"L\", \"L\", \"L\", \"L\", \"L\", \"L\", \"L\", \"L\", \"L\", \"L\", \"L\", \"L\", \"L\", \"Z\"]]]}, {\"offsetcoordinates\": \"display\", \"alphas\": [0.2], \"edgewidths\": [1.0], \"zorder\": 1, \"offsets\": \"data01\", \"yindex\": 0, \"xindex\": 0, \"pathcoordinates\": \"data\", \"id\": \"el24796140354460030568\", \"pathtransforms\": [], \"facecolors\": [\"#FF0000\"], \"edgecolors\": [], \"paths\": [[[[0.65, 0.0885], [0.65, 0.1715], [0.653061224489796, 0.16947959183673472], [0.6561224489795918, 0.1674591836734694], [0.6591836734693878, 0.1654387755102041], [0.6622448979591837, 0.16341836734693876], [0.6653061224489796, 0.1613979591836735], [0.6683673469387755, 0.15937755102040818], [0.6714285714285715, 0.15735714285714286], [0.6744897959183673, 0.15533673469387757], [0.6775510204081633, 0.15331632653061228], [0.6806122448979592, 0.15129591836734696], [0.6836734693877551, 0.14927551020408167], [0.686734693877551, 0.14725510204081635], [0.689795918367347, 0.14523469387755103], [0.6928571428571428, 0.14321428571428574], [0.6959183673469388, 0.14119387755102042], [0.6989795918367347, 0.1391734693877551], [0.7020408163265306, 0.1371530612244898], [0.7051020408163265, 0.1351326530612245], [0.7081632653061225, 0.1331122448979592], [0.7112244897959183, 0.1310918367346939], [0.7142857142857143, 0.1290714285714286], [0.7173469387755103, 0.12705102040816327], [0.7204081632653061, 0.12503061224489798], [0.7234693877551021, 0.12301020408163267], [0.726530612244898, 0.12098979591836734], [0.7295918367346939, 0.11896938775510207], [0.7326530612244898, 0.11694897959183674], [0.7357142857142858, 0.11492857142857144], [0.7387755102040816, 0.11290816326530614], [0.7418367346938776, 0.11088775510204082], [0.7448979591836735, 0.10886734693877552], [0.7479591836734694, 0.10684693877551023], [0.7510204081632653, 0.10482653061224491], [0.7540816326530613, 0.1028061224489796], [0.7571428571428571, 0.10078571428571431], [0.7602040816326531, 0.09876530612244899], [0.763265306122449, 0.09674489795918369], [0.7663265306122449, 0.09472448979591838], [0.7693877551020408, 0.09270408163265309], [0.7724489795918368, 0.09068367346938776], [0.7755102040816326, 0.08866326530612248], [0.7785714285714286, 0.08664285714285715], [0.7816326530612245, 0.08462244897959184], [0.7846938775510204, 0.08260204081632656], [0.7877551020408163, 0.08058163265306124], [0.7908163265306123, 0.07856122448979592], [0.7938775510204081, 0.07654081632653063], [0.7969387755102041, 0.07452040816326533], [0.8, 0.07250000000000001], [0.8, 0.0675], [0.8, 0.0675], [0.7969387755102041, 0.06792857142857142], [0.7938775510204081, 0.06835714285714285], [0.7908163265306123, 0.0687857142857143], [0.7877551020408163, 0.06921428571428571], [0.7846938775510204, 0.06964285714285713], [0.7816326530612245, 0.07007142857142859], [0.7785714285714286, 0.0705], [0.7755102040816326, 0.07092857142857142], [0.7724489795918368, 0.07135714285714286], [0.7693877551020408, 0.07178571428571429], [0.7663265306122449, 0.0722142857142857], [0.763265306122449, 0.07264285714285716], [0.7602040816326531, 0.07307142857142856], [0.7571428571428571, 0.07349999999999998], [0.7540816326530613, 0.07392857142857143], [0.7510204081632653, 0.07435714285714286], [0.7479591836734694, 0.07478571428571427], [0.7448979591836735, 0.07521428571428572], [0.7418367346938776, 0.07564285714285715], [0.7387755102040816, 0.07607142857142857], [0.7357142857142858, 0.07650000000000001], [0.7326530612244898, 0.07692857142857142], [0.7295918367346939, 0.07735714285714285], [0.726530612244898, 0.07778571428571429], [0.7234693877551021, 0.07821428571428572], [0.7204081632653061, 0.07864285714285713], [0.7173469387755103, 0.07907142857142858], [0.7142857142857143, 0.07949999999999999], [0.7112244897959183, 0.07992857142857142], [0.7081632653061225, 0.08035714285714286], [0.7051020408163265, 0.08078571428571428], [0.7020408163265306, 0.08121428571428571], [0.6989795918367347, 0.08164285714285716], [0.6959183673469388, 0.08207142857142857], [0.6928571428571428, 0.08249999999999999], [0.689795918367347, 0.08292857142857143], [0.686734693877551, 0.08335714285714285], [0.6836734693877551, 0.08378571428571427], [0.6806122448979592, 0.08421428571428573], [0.6775510204081633, 0.08464285714285714], [0.6744897959183673, 0.08507142857142855], [0.6714285714285715, 0.08550000000000002], [0.6683673469387755, 0.08592857142857141], [0.6653061224489796, 0.08635714285714284], [0.6622448979591837, 0.08678571428571429], [0.6591836734693878, 0.08721428571428572], [0.6561224489795918, 0.08764285714285713], [0.653061224489796, 0.08807142857142859], [0.65, 0.0885]], [\"M\", \"L\", \"L\", \"L\", \"L\", \"L\", \"L\", \"L\", \"L\", \"L\", \"L\", \"L\", \"L\", \"L\", \"L\", \"L\", \"L\", \"L\", \"L\", \"L\", \"L\", \"L\", \"L\", \"L\", \"L\", \"L\", \"L\", \"L\", \"L\", \"L\", \"L\", \"L\", \"L\", \"L\", \"L\", \"L\", \"L\", \"L\", \"L\", \"L\", \"L\", \"L\", \"L\", \"L\", \"L\", \"L\", \"L\", \"L\", \"L\", \"L\", \"L\", \"L\", \"L\", \"L\", \"L\", \"L\", \"L\", \"L\", \"L\", \"L\", \"L\", \"L\", \"L\", \"L\", \"L\", \"L\", \"L\", \"L\", \"L\", \"L\", \"L\", \"L\", \"L\", \"L\", \"L\", \"L\", \"L\", \"L\", \"L\", \"L\", \"L\", \"L\", \"L\", \"L\", \"L\", \"L\", \"L\", \"L\", \"L\", \"L\", \"L\", \"L\", \"L\", \"L\", \"L\", \"L\", \"L\", \"L\", \"L\", \"L\", \"L\", \"L\", \"Z\"]]]}, {\"offsetcoordinates\": \"data\", \"alphas\": [1.0], \"edgewidths\": [1.0], \"zorder\": 1, \"offsets\": \"data02\", \"yindex\": 1, \"xindex\": 0, \"pathcoordinates\": \"display\", \"id\": \"el24796140354460032080\", \"pathtransforms\": [[7.735700330458063, 0.0, 0.0, 7.735700330458063, 0.0, 0.0], [8.885057029113321, 0.0, 0.0, 8.885057029113321, 0.0, 0.0], [3.8294951511371287, 0.0, 0.0, 3.8294951511371287, 0.0, 0.0], [3.82812872516375, 0.0, 0.0, 3.82812872516375, 0.0, 0.0], [3.954492792386036, 0.0, 0.0, 3.954492792386036, 0.0, 0.0], [7.749120864471363, 0.0, 0.0, 7.749120864471363, 0.0, 0.0], [8.883208357821898, 0.0, 0.0, 8.883208357821898, 0.0, 0.0], [3.8633616079662128, 0.0, 0.0, 3.8633616079662128, 0.0, 0.0], [3.841857304698974, 0.0, 0.0, 3.841857304698974, 0.0, 0.0], [3.912012405348767, 0.0, 0.0, 3.912012405348767, 0.0, 0.0], [8.436996735052395, 0.0, 0.0, 8.436996735052395, 0.0, 0.0], [8.18808696900079, 0.0, 0.0, 8.18808696900079, 0.0, 0.0], [8.821068998604742, 0.0, 0.0, 8.821068998604742, 0.0, 0.0], [8.603864833098271, 0.0, 0.0, 8.603864833098271, 0.0, 0.0], [8.860351449833665, 0.0, 0.0, 8.860351449833665, 0.0, 0.0], [3.6787379062365195, 0.0, 0.0, 3.6787379062365195, 0.0, 0.0], [8.73491888611565, 0.0, 0.0, 8.73491888611565, 0.0, 0.0], [6.046037507030851, 0.0, 0.0, 6.046037507030851, 0.0, 0.0], [6.168913736529448, 0.0, 0.0, 6.168913736529448, 0.0, 0.0], [8.73440331817253, 0.0, 0.0, 8.73440331817253, 0.0, 0.0], [4.609951803342316, 0.0, 0.0, 4.609951803342316, 0.0, 0.0], [7.7177013357142, 0.0, 0.0, 7.7177013357142, 0.0, 0.0], [8.818298254536431, 0.0, 0.0, 8.818298254536431, 0.0, 0.0], [8.707110590456347, 0.0, 0.0, 8.707110590456347, 0.0, 0.0], [4.220040488177133, 0.0, 0.0, 4.220040488177133, 0.0, 0.0], [3.947603850304687, 0.0, 0.0, 3.947603850304687, 0.0, 0.0], [8.617324303152072, 0.0, 0.0, 8.617324303152072, 0.0, 0.0], [8.882418082559358, 0.0, 0.0, 8.882418082559358, 0.0, 0.0], [6.872837408213226, 0.0, 0.0, 6.872837408213226, 0.0, 0.0], [4.403310013256808, 0.0, 0.0, 4.403310013256808, 0.0, 0.0], [3.7272399816479074, 0.0, 0.0, 3.7272399816479074, 0.0, 0.0], [8.891405181000088, 0.0, 0.0, 8.891405181000088, 0.0, 0.0], [8.172494654276147, 0.0, 0.0, 8.172494654276147, 0.0, 0.0], [8.202220665225948, 0.0, 0.0, 8.202220665225948, 0.0, 0.0]], \"facecolors\": [\"#7B06FE\", \"#7B06FE\", \"#7B06FE\", \"#7B06FE\", \"#7B06FE\", \"#7B06FE\", \"#7B06FE\", \"#7B06FE\", \"#7B06FE\", \"#7B06FE\", \"#7B06FE\", \"#7B06FE\", \"#7B06FE\", \"#7B06FE\", \"#7B06FE\", \"#7B06FE\", \"#7B06FE\", \"#7B06FE\", \"#7B06FE\", \"#7B06FE\", \"#7B06FE\", \"#7B06FE\", \"#7B06FE\", \"#7B06FE\", \"#7B06FE\", \"#7B06FE\", \"#7B06FE\", \"#7B06FE\", \"#7B06FE\", \"#7B06FE\", \"#7B06FE\", \"#7B06FE\", \"#FF4D27\", \"#FF4D27\"], \"edgecolors\": [\"#7B06FE\", \"#7B06FE\", \"#7B06FE\", \"#7B06FE\", \"#7B06FE\", \"#7B06FE\", \"#7B06FE\", \"#7B06FE\", \"#7B06FE\", \"#7B06FE\", \"#7B06FE\", \"#7B06FE\", \"#7B06FE\", \"#7B06FE\", \"#7B06FE\", \"#7B06FE\", \"#7B06FE\", \"#7B06FE\", \"#7B06FE\", \"#7B06FE\", \"#7B06FE\", \"#7B06FE\", \"#7B06FE\", \"#7B06FE\", \"#7B06FE\", \"#7B06FE\", \"#7B06FE\", \"#7B06FE\", \"#7B06FE\", \"#7B06FE\", \"#7B06FE\", \"#7B06FE\", \"#FF4D27\", \"#FF4D27\"], \"paths\": [[[[0.0, -0.5], [0.13260155, -0.5], [0.25978993539242673, -0.44731684579412084], [0.3535533905932738, -0.3535533905932738], [0.44731684579412084, -0.25978993539242673], [0.5, -0.13260155], [0.5, 0.0], [0.5, 0.13260155], [0.44731684579412084, 0.25978993539242673], [0.3535533905932738, 0.3535533905932738], [0.25978993539242673, 0.44731684579412084], [0.13260155, 0.5], [0.0, 0.5], [-0.13260155, 0.5], [-0.25978993539242673, 0.44731684579412084], [-0.3535533905932738, 0.3535533905932738], [-0.44731684579412084, 0.25978993539242673], [-0.5, 0.13260155], [-0.5, 0.0], [-0.5, -0.13260155], [-0.44731684579412084, -0.25978993539242673], [-0.3535533905932738, -0.3535533905932738], [-0.25978993539242673, -0.44731684579412084], [-0.13260155, -0.5], [0.0, -0.5]], [\"M\", \"C\", \"C\", \"C\", \"C\", \"C\", \"C\", \"C\", \"C\", \"Z\"]]]}], \"markers\": [], \"xlim\": [0.0, 1.0], \"lines\": [], \"ylim\": [-0.1, 0.38], \"xscale\": \"linear\", \"sharey\": [], \"zoomable\": true, \"axes\": [{\"tickvalues\": null, \"scale\": \"linear\", \"grid\": {\"alpha\": 1.0, \"gridOn\": true, \"dasharray\": \"none\", \"color\": \"#FFFFFF\"}, \"tickformat\": null, \"position\": \"bottom\", \"visible\": true, \"nticks\": 6, \"fontsize\": 10.0}, {\"tickvalues\": null, \"scale\": \"linear\", \"grid\": {\"alpha\": 1.0, \"gridOn\": true, \"dasharray\": \"none\", \"color\": \"#FFFFFF\"}, \"tickformat\": null, \"position\": \"left\", \"visible\": true, \"nticks\": 6, \"fontsize\": 10.0}], \"id\": \"el24796140354461106128\", \"images\": [], \"axesbg\": \"#DDDDDD\", \"paths\": [{\"facecolor\": \"#008000\", \"zorder\": 1000001.0, \"alpha\": 0.5, \"yindex\": 1, \"xindex\": 0, \"edgewidth\": 1.0, \"edgecolor\": \"none\", \"id\": \"el24796140354460095152\", \"dasharray\": \"none\", \"coordinates\": \"axes\", \"pathcodes\": [\"M\", \"L\", \"L\", \"L\", \"Z\"], \"data\": \"data03\"}, {\"facecolor\": \"#FFFF00\", \"zorder\": 1000001.0, \"alpha\": 0.5, \"yindex\": 2, \"xindex\": 0, \"edgewidth\": 1.0, \"edgecolor\": \"none\", \"id\": \"el24796140354460096832\", \"dasharray\": \"none\", \"coordinates\": \"axes\", \"pathcodes\": [\"M\", \"L\", \"L\", \"L\", \"Z\"], \"data\": \"data03\"}, {\"facecolor\": \"#FF0000\", \"zorder\": 1000001.0, \"alpha\": 0.2, \"yindex\": 3, \"xindex\": 0, \"edgewidth\": 1.0, \"edgecolor\": \"none\", \"id\": \"el24796140354460098512\", \"dasharray\": \"none\", \"coordinates\": \"axes\", \"pathcodes\": [\"M\", \"L\", \"L\", \"L\", \"Z\"], \"data\": \"data03\"}, {\"facecolor\": \"#FF0F07\", \"zorder\": 1000001.0, \"alpha\": 1, \"yindex\": 4, \"xindex\": 0, \"edgewidth\": 1.0, \"edgecolor\": \"#FF0F07\", \"id\": \"el24796140354460140992\", \"dasharray\": \"none\", \"coordinates\": \"axes\", \"pathcodes\": [\"M\", \"L\", \"L\", \"L\", \"Z\"], \"data\": \"data03\"}, {\"facecolor\": \"#750FFE\", \"zorder\": 1000001.0, \"alpha\": 1, \"yindex\": 5, \"xindex\": 0, \"edgewidth\": 1.0, \"edgecolor\": \"#750FFE\", \"id\": \"el24796140354460142840\", \"dasharray\": \"none\", \"coordinates\": \"axes\", \"pathcodes\": [\"M\", \"L\", \"L\", \"L\", \"Z\"], \"data\": \"data03\"}, {\"facecolor\": \"#FFFFFF\", \"zorder\": 1000000.0, \"alpha\": 0.8, \"yindex\": 1, \"xindex\": 0, \"edgewidth\": 1.0, \"edgecolor\": \"#CCCCCC\", \"id\": \"el24796140354460068608\", \"dasharray\": \"none\", \"coordinates\": \"axes\", \"pathcodes\": [\"M\", \"L\", \"S\", \"L\", \"S\", \"L\", \"S\", \"L\", \"S\", \"Z\"], \"data\": \"data04\"}], \"bbox\": [0.125, 0.125, 0.775, 0.755]}], \"plugins\": [{\"type\": \"reset\"}, {\"button\": true, \"type\": \"zoom\", \"enabled\": false}, {\"button\": true, \"type\": \"boxzoom\", \"enabled\": false}, {\"hoffset\": 0, \"labels\": [\"0c83820e0060061941946a68f0\", \"1733981849c04af6ae996424e0\", \"1125390c5add882663707cbf2f\", \"2410f90c3c1ad303184fcf7bf5\", \"022478c58a1fbb91f2022bf36f\", \"0c83820e0060061941946a68f0\", \"1733981849c04af6ae996424e0\", \"1125390c5add882663707cbf2f\", \"2410f90c3c1ad303184fcf7bf5\", \"022478c58a1fbb91f2022bf36f\", \"3a96bf992f7527f42eb3dab5ef\", \"184af6a375706e604132428008\", \"009ef96711dfbee0513a90a090\", \"06273cd54233f548a66e4bc060\", \"305cb6ddda2c4e21184b802670\", \"0781dacd5bd3d20501ce483466\", \"3d4403a2e9f179119ab1d510b0\", \"1cefed47ef30e2abc2fab59c8f\", \"31445202992e8424e138e10428\", \"2bfcf170f18f47108305a86a90\", \"1ff2bc7cc13d268fd438c5d6f4\", \"3515080e9f1f901ded2c222408\", \"0822c9dff9148d209ab200cae0\", \"2f52d5ea152c8c90c2268d8660\", \"0715dde195e109487316f371df\", \"37fa0df5c75f284a7216801b2b\", \"2f6ad89296f7e1e79ee4eff181\", \"3b9629635edae6b69e815a5e02\", \"1384bbf3f0da584d09c2c88088\", \"0045c6f8269fa82435cf56ecff\", \"131a8d7c583c89551ccd48c1dc\", \"3bfefd222c3875a02d732e6fd0\", \"000000000060031c61c67f86a0\", \"000000000060031c61c67f86a0\"], \"type\": \"tooltip\", \"location\": \"mouse\", \"voffset\": 10, \"id\": \"el24796140354460032080\"}, {\"rules\": [\"B2ce3aeikq4aeikw5c/S1367\", \"B2ei3acijk4inrty5acy6-ac7e8/S1c2en3jknqr4-aejq5ai6ikn7c\", \"B012ak3cijnq4aceijy5-ejky6-ce7c8/S01c2-c3aejkn4-aeiwy5y6n\", \"B01e2-a3-cjq4-cikny5acq6-ci7c/S012cei3aij4ajt5ijkny6ik8\", \"B012-ci3-aej4-aikrt5jnqr6akn7/S012ac3ainq4ceqrt5ackqr\", \"B2ce3aeikq4aeikw5c/S1367\", \"B2ei3acijk4inrty5acy6-ac7e8/S1c2en3jknqr4-aejq5ai6ikn7c\", \"B012ak3cijnq4aceijy5-ejky6-ce7c8/S01c2-c3aejkn4-aeiwy5y6n\", \"B01e2-a3-cjq4-cikny5acq6-ci7c/S012cei3aij4ajt5ijkny6ik8\", \"B012-ci3-aej4-aikrt5jnqr6akn7/S012ac3ainq4ceqrt5ackqr\", \"B012-cn3-enq4cik5-aeq6-ci78/S01c2akn3-cen4-cejkz5-ekr6cek78\", \"B2a3kqr4ikty5eijk6acn7c8/S2a3eijky4jnwyz5-airy6ack7\", \"B2cn3akqr4-antw5-acky6-i7c/S1c2ak3ek4-ciqrtz5akqy6aek7c\", \"B2e3ceiry4-aiwy5ijkny6akn7/S1e2aci3acijy4-ajknty5cq6in7c\", \"B2-ak3ijknr4-aijnqz5-aijn6en7c8/S1c2i3y4-cikrwy5ceiqr6ck8\", \"B12e3eijkr4-acikny5cn6-ce7e/S01c2in3aejkr4-acinrw5ckq6-a\", \"B2cin3aiy4-aejkrz5ijn6aci8/S02cek3jkqry4akrtyz5-ajkq6aci7e8\", \"B012a3ajkqr4-kqyz5aeijk6ak7c8/S02-n3cnry4-ijkw5-ci6-c7\", \"B2a3cijq4-aeqtwy5iqr6in8/S2cn3ejny4ajnty5ekr6ac8\", \"B2ci3aekny4ackntz5enqry6-ak7/S13aenq4-inqtw5eknry6ek7e8\", \"B1e2cen3-cery4eiknrw5-e678/S01e2-ik3cjy4aceiyz5aer6eik7\", \"B2a3cejq4-aikty5cinqr6-cn8/S1c2n3ceinq4ijqty5ijr6ain8\", \"B2en3ainry4-cqrtwz5ciry6ak/S1e2a3r4-aikqw5-aej6ak7\", \"B2e3-acky4jkny5cikqr6-ak7e/S2ace3aqy4aejry5-inqr6aik78\", \"B012-i3-ijkn4ciy5kn6-a7e/S012ck3-aqr4-cinqtz5-aein6ikn\", \"B01c2akn3-ajky4aeiyz5-ci6-n7e8/S03ck4-ijknt5-aikn6ei7c8\", \"B02kn3aey4jntwz5-ckq6-ce7e/S012-k3-ceq4-etyz5-nqy6aik78\", \"B1c2in3jkn4-eiqrwy5ajq6-n78/S01e2kn3-ceny4-acwy5aijqy6ae78\", \"B2a3ar4cqtwyz5qy6-e78/S2ain3-inqy4aejkwz5-aejk6-in\", \"B012-k3-knqy4acjryz5-aei6ac/S12-c3eijr4eiknq5cejkn6ckn\", \"B1e23aey4ejrwy5-aijn6-n7e8/S1e2ain3ajqry4eijtwz5iy6k7c\", \"B2-an3-eikq4acikqt5eijkq678/S12ei3aeiny4cint5-cqr6aek78\", \"B3/S23\", \"B3/S23\"], \"type\": \"clickinfo\", \"id\": \"el24796140354460032080\", \"labels\": [\"0c83820e0060061941946a68f0\", \"1733981849c04af6ae996424e0\", \"1125390c5add882663707cbf2f\", \"2410f90c3c1ad303184fcf7bf5\", \"022478c58a1fbb91f2022bf36f\", \"0c83820e0060061941946a68f0\", \"1733981849c04af6ae996424e0\", \"1125390c5add882663707cbf2f\", \"2410f90c3c1ad303184fcf7bf5\", \"022478c58a1fbb91f2022bf36f\", \"3a96bf992f7527f42eb3dab5ef\", \"184af6a375706e604132428008\", \"009ef96711dfbee0513a90a090\", \"06273cd54233f548a66e4bc060\", \"305cb6ddda2c4e21184b802670\", \"0781dacd5bd3d20501ce483466\", \"3d4403a2e9f179119ab1d510b0\", \"1cefed47ef30e2abc2fab59c8f\", \"31445202992e8424e138e10428\", \"2bfcf170f18f47108305a86a90\", \"1ff2bc7cc13d268fd438c5d6f4\", \"3515080e9f1f901ded2c222408\", \"0822c9dff9148d209ab200cae0\", \"2f52d5ea152c8c90c2268d8660\", \"0715dde195e109487316f371df\", \"37fa0df5c75f284a7216801b2b\", \"2f6ad89296f7e1e79ee4eff181\", \"3b9629635edae6b69e815a5e02\", \"1384bbf3f0da584d09c2c88088\", \"0045c6f8269fa82435cf56ecff\", \"131a8d7c583c89551ccd48c1dc\", \"3bfefd222c3875a02d732e6fd0\", \"000000000060031c61c67f86a0\", \"000000000060031c61c67f86a0\"]}], \"id\": \"el24796140354467510480\", \"height\": 504.0, \"data\": {\"data03\": [[0.7215821812596007, 0.9553242930726373, 0.9135229422894986, 0.8717215915063596, 0.8323018500998633, 0.7928821086933668], [0.7727854582693293, 0.9553242930726373, 0.9135229422894986, 0.8717215915063596, 0.8323018500998633, 0.7928821086933668], [0.7727854582693293, 0.973720172395669, 0.9319188216125303, 0.8901174708293913, 0.850697729422895, 0.8112779880163985], [0.7215821812596007, 0.973720172395669, 0.9319188216125303, 0.8901174708293913, 0.850697729422895, 0.8112779880163985]], \"data01\": [[0.0, 0.0]], \"data04\": [[0.7164618535586278, 0.7771142121307684], [0.982078853046595, 0.7771142121307684], [0.9871991807475679, 0.7771142121307684], [0.9871991807475679, 0.7823701776516345], [0.9871991807475679, 0.9816041206769683], [0.9871991807475679, 0.9868600861978345], [0.982078853046595, 0.9868600861978345], [0.7164618535586278, 0.9868600861978345], [0.711341525857655, 0.9868600861978345], [0.711341525857655, 0.9816041206769683], [0.711341525857655, 0.7823701776516345], [0.711341525857655, 0.7771142121307684], [0.7164618535586278, 0.7771142121307684]], \"data02\": [[0.321636, 0.14867], [0.019919, 0.002572], [0.022815, 0.00557], [0.417415, 0.098694], [0.084043, 0.036189], [0.316082, 0.144094], [0.016928, 0.002308], [0.023104, 0.004945], [0.430551, 0.101365], [0.074235, 0.033086], [0.185792, 0.119161], [0.253568, 0.13943], [0.020131, 0.01066], [0.101852, 0.032517], [0.023084, 0.000618], [0.340072, 0.15847], [0.0199, 0.0101], [0.550777, 0.133415], [0.554252, 0.147002], [0.034876, 0.020657], [0.489023, 0.143845], [0.39422, 0.167817], [0.032118, 0.005496], [0.076012, 0.027663], [0.068578, 0.014057], [0.215438, 0.083427], [0.072518, 0.03355], [0.019017, 0.003947], [0.493316, 0.215395], [0.042749, 0.010969], [0.106887, 0.039119], [0.018284, 0.00198], [0.15376, 0.094752], [0.154527, 0.090349]]}});\n",
       "   }(mpld3);\n",
       "}else if(typeof define === \"function\" && define.amd){\n",
       "   // require.js is available: use it to load d3/mpld3\n",
       "   require.config({paths: {d3: \"https://mpld3.github.io/js/d3.v3.min\"}});\n",
       "   require([\"d3\"], function(d3){\n",
       "      window.d3 = d3;\n",
       "      mpld3_load_lib(\"https://mpld3.github.io/js/mpld3.v0.3.js\", function(){\n",
       "         \n",
       "    mpld3.register_plugin(\"clickinfo\", ClickInfo);\n",
       "    ClickInfo.prototype = Object.create(mpld3.Plugin.prototype);\n",
       "    ClickInfo.prototype.constructor = ClickInfo;\n",
       "    ClickInfo.prototype.requiredProps = [\"id\",\"labels\",\"rules\"];\n",
       "    function ClickInfo(fig, props){\n",
       "        mpld3.Plugin.call(this, fig, props);\n",
       "    };\n",
       "    \n",
       "    ClickInfo.prototype.draw = function(){\n",
       "        var obj = mpld3.get_element(this.props.id);\n",
       "        var labels = (this.props.labels);\n",
       "        var rules = (this.props.rules);\n",
       "        \n",
       "        obj.elements().on(\"mousedown\",\n",
       "                          function(d, i){\n",
       "                          txt=labels[i];\n",
       "                          window.prompt(\"You clicked Point \"+ i + \", Ctrl+C to copy to clipboard, Click 'OK' or 'Cancel' to open the CA in a pop-up Rulestring:\", txt);\n",
       "                            \n",
       "                            rule=rules[i];\n",
       "\n",
       "//                            var s = template.formatUnicorn(rule,soup);\n",
       "//                            var s = 'bbbbbboooooooo!';\n",
       "//                            var divs=div_template.formatUnicorn(s);\n",
       "//                            document.getElementById(\"viewer\").innerHTML = s;\n",
       "//                            document.getElementById(\"viewer\").visibility = \"show\";\n",
       "//                            document.getElementById(\"viewer\")\n",
       "                            window.open(\"/view.php?rule_alias=\"+rule);\n",
       "\n",
       "//                            var sp1 = document.createElement('textarea');\n",
       "//                            elementText = document.createTextNode(s);                            \n",
       "//                            sp1.appendChild(elementText);\n",
       "\n",
       "//                            var sp2 = document.getElementById(\"textarea\");\n",
       "//                            var parentDiv = sp2.parentNode;\n",
       "//                            parentDiv.replaceChild(sp1, sp2);\n",
       "\n",
       "//                            var cv1=document.createElement('canvas')\n",
       "//                             cv1.appendChild(document.createTextNode(''));\n",
       "//                            cv1.setAttribute('width','480');\n",
       "//                            cv1.setAttribute('height','480');\n",
       "\n",
       "                            var newviewer=document.createElement('div');\n",
       "                            newviewer.setAttribute('class','viewer');\n",
       "                            newviewer.setAttribute('id','viewer');\n",
       "                            newviewer.appendChild(sp1);\n",
       "                            newviewer.appendChild(cv1);\n",
       "\n",
       "//                            newviewer.appendChild(document.getElementById('cv1'))\n",
       "                            document.body.appendChild(newviewer);\n",
       "//                            parentDiv.parentNode.appendChild(newviewer);\n",
       "\n",
       "                            document.getElementById('viewer').contentWindow.location.reload();\n",
       "\n",
       "//                            viewer.innerHTML=s;\n",
       "alert(txt);\n",
       "                          //document.getElementById(\"viewer\").innerHTML = rule;\n",
       "\n",
       "                          \n",
       "                          });\n",
       "    }\n",
       "    \n",
       "    \n",
       "    \n",
       "         mpld3.draw_figure(\"fig_el247961403544675104805697480371\", {\"width\": 504.0, \"axes\": [{\"yscale\": \"linear\", \"ydomain\": [-0.1, 0.38], \"axesbgalpha\": null, \"xdomain\": [0.0, 1.0], \"texts\": [{\"zorder\": 3, \"alpha\": 1, \"position\": [0.5, -0.05518763796909494], \"id\": \"el24796140354461217400\", \"color\": \"#000000\", \"h_anchor\": \"middle\", \"v_baseline\": \"hanging\", \"fontsize\": 15.0, \"text\": \"Avg Temp\", \"rotation\": -0.0, \"coordinates\": \"axes\"}, {\"zorder\": 3, \"alpha\": 1, \"position\": [-0.09024577572964669, 0.5], \"id\": \"el24796140354460776768\", \"color\": \"#000000\", \"h_anchor\": \"middle\", \"v_baseline\": \"auto\", \"fontsize\": 15.0, \"text\": \"mean(abs(d_Temp)) - abs(mean(d_Temp))\", \"rotation\": -90.0, \"coordinates\": \"axes\"}, {\"zorder\": 3, \"alpha\": 1, \"position\": [0.5, 1.0157678965625985], \"id\": \"el24796140354460565856\", \"color\": \"#000000\", \"h_anchor\": \"middle\", \"v_baseline\": \"auto\", \"fontsize\": 20.0, \"text\": \"Dynamic landscape, 2D projection\", \"rotation\": -0.0, \"coordinates\": \"axes\"}, {\"zorder\": 1000003.0, \"alpha\": 1, \"position\": [0.7932667690732208, 0.9553242930726373], \"id\": \"el24796140354460069336\", \"color\": \"#000000\", \"h_anchor\": \"start\", \"v_baseline\": \"auto\", \"fontsize\": 10.0, \"text\": \"Uncond_Comp\", \"rotation\": -0.0, \"coordinates\": \"axes\"}, {\"zorder\": 1000003.0, \"alpha\": 1, \"position\": [0.7932667690732208, 0.9135229422894986], \"id\": \"el24796140354460095768\", \"color\": \"#000000\", \"h_anchor\": \"start\", \"v_baseline\": \"auto\", \"fontsize\": 10.0, \"text\": \"Cond_Comp\", \"rotation\": -0.0, \"coordinates\": \"axes\"}, {\"zorder\": 1000003.0, \"alpha\": 1, \"position\": [0.7932667690732208, 0.8717215915063596], \"id\": \"el24796140354460097448\", \"color\": \"#000000\", \"h_anchor\": \"start\", \"v_baseline\": \"auto\", \"fontsize\": 10.0, \"text\": \"Chaos\", \"rotation\": -0.0, \"coordinates\": \"axes\"}, {\"zorder\": 1000003.0, \"alpha\": 1, \"position\": [0.7932667690732208, 0.8323018500998633], \"id\": \"el24796140354460139928\", \"color\": \"#000000\", \"h_anchor\": \"start\", \"v_baseline\": \"auto\", \"fontsize\": 10.0, \"text\": \"sample\", \"rotation\": -0.0, \"coordinates\": \"axes\"}, {\"zorder\": 1000003.0, \"alpha\": 1, \"position\": [0.7932667690732208, 0.7928821086933668], \"id\": \"el24796140354460141664\", \"color\": \"#000000\", \"h_anchor\": \"start\", \"v_baseline\": \"auto\", \"fontsize\": 10.0, \"text\": \"reference\", \"rotation\": -0.0, \"coordinates\": \"axes\"}], \"sharex\": [], \"collections\": [{\"offsetcoordinates\": \"display\", \"alphas\": [0.5], \"edgewidths\": [1.0], \"zorder\": 1, \"offsets\": \"data01\", \"yindex\": 1, \"xindex\": 0, \"pathcoordinates\": \"data\", \"id\": \"el24796140355484263200\", \"pathtransforms\": [], \"facecolors\": [\"#008000\"], \"edgecolors\": [], \"paths\": [[[[0.12, 0.07500000000000001], [0.12, 0.125], [0.4, 0.215], [0.4, 0.165], [0.4, 0.165], [0.12, 0.07500000000000001]], [\"M\", \"L\", \"L\", \"L\", \"L\", \"L\", \"Z\"]]]}, {\"offsetcoordinates\": \"display\", \"alphas\": [0.5], \"edgewidths\": [1.0], \"zorder\": 1, \"offsets\": \"data01\", \"yindex\": 0, \"xindex\": 0, \"pathcoordinates\": \"data\", \"id\": \"el24796140354459946904\", \"pathtransforms\": [], \"facecolors\": [\"#FFFF00\"], \"edgecolors\": [], \"paths\": [[[[0.015, 0.009946941188791317], [0.015, 0.014946941188791318], [0.017142857142857144, 0.016296485031500184], [0.019285714285714285, 0.017596505955331895], [0.02142857142857143, 0.018854421454599337], [0.02357142857142857, 0.020075914228472942], [0.025714285714285714, 0.021265457861439827], [0.027857142857142858, 0.022426652810737534], [0.03, 0.02356245046045434], [0.03214285714285714, 0.024675307848649207], [0.03428571428571429, 0.025767297698913217], [0.03642857142857143, 0.02684018864591421], [0.038571428571428576, 0.02789550500173977], [0.04071428571428572, 0.028934572123470684], [0.04285714285714286, 0.029958551423472417], [0.045, 0.030968467784686933], [0.047142857142857146, 0.03196523131041616], [0.04928571428571429, 0.032949654782736607], [0.05142857142857143, 0.0339224678253189], [0.053571428571428575, 0.03488432850362945], [0.055714285714285716, 0.03583583290976222], [0.05785714285714286, 0.036777523145796714], [0.060000000000000005, 0.03770989402244363], [0.062142857142857146, 0.03863339871804698], [0.06428571428571428, 0.03954845358945097], [0.06642857142857143, 0.04045544228577542], [0.06857142857142857, 0.04135471928525511], [0.07071428571428572, 0.042246612951491805], [0.07285714285714286, 0.04313142818695434], [0.07500000000000001, 0.04400944874704474], [0.07714285714285715, 0.04488093926657467], [0.07928571428571429, 0.04574614704136246], [0.08142857142857143, 0.04660530360033824], [0.08357142857142857, 0.04745862609763713], [0.08571428571428572, 0.04830631854936491], [0.08785714285714286, 0.04914857293580454], [0.09, 0.04998557018661817], [0.09214285714285715, 0.05081748106394657], [0.09428571428571429, 0.05164446695610856], [0.09642857142857143, 0.05246668059277081], [0.09857142857142857, 0.053284266690925085], [0.10071428571428571, 0.054097362539721416], [0.10285714285714286, 0.054906098531118865], [0.10500000000000001, 0.05571059864239458], [0.10714285714285715, 0.05651098087576917], [0.10928571428571429, 0.05730735765973889], [0.11142857142857143, 0.058099836216133544], [0.11357142857142857, 0.058888518896428016], [0.11571428571428571, 0.05967350349041314], [0.11785714285714287, 0.060454883509965834], [0.12, 0.061232748450342295], [0.12, 0.0310327484503423], [0.12, 0.0310327484503423], [0.11785714285714287, 0.030769169224251547], [0.11571428571428571, 0.030502074918984573], [0.11357142857142857, 0.030231376039285163], [0.11142857142857143, 0.029956979073276397], [0.10928571428571429, 0.02967878623116746], [0.10714285714285715, 0.029396695161483452], [0.10500000000000001, 0.029110598642394583], [0.10285714285714286, 0.028820384245404583], [0.10071428571428571, 0.02852593396829284], [0.09857142857142857, 0.028227123833782224], [0.09642857142857143, 0.02792382344991367], [0.09428571428571429, 0.027615895527537133], [0.09214285714285715, 0.027303195349660855], [0.09, 0.02698557018661817], [0.08785714285714286, 0.02666285865009025], [0.08571428571428572, 0.026334889977936336], [0.08357142857142857, 0.026001483240494276], [0.08142857142857143, 0.02566244645748109], [0.07928571428571429, 0.025317575612791028], [0.07714285714285715, 0.02496665355228895], [0.07500000000000001, 0.024609448747044738], [0.07285714285714286, 0.024245713901240057], [0.07071428571428572, 0.02387518438006324], [0.06857142857142857, 0.02349757642811225], [0.06642857142857143, 0.023112585142918272], [0.06428571428571428, 0.02271988216087955], [0.062142857142857146, 0.02231911300376127], [0.060000000000000005, 0.02190989402244363], [0.05785714285714286, 0.02149180886008243], [0.055714285714285716, 0.021064404338333648], [0.053571428571428575, 0.02062718564648659], [0.05142857142857143, 0.02017961068246176], [0.04928571428571429, 0.019721083354165173], [0.047142857142857146, 0.019250945596130442], [0.045, 0.018768467784686937], [0.04285714285714286, 0.01827283713775813], [0.04071428571428572, 0.017763143552042115], [0.038571428571428576, 0.01723836214459691], [0.03642857142857143, 0.016697331503057068], [0.03428571428571429, 0.016138726270341786], [0.03214285714285714, 0.015561022134363493], [0.03, 0.014962450460454342], [0.027857142857142858, 0.014340938525023248], [0.025714285714285714, 0.013694029290011258], [0.02357142857142857, 0.013018771371330083], [0.02142857142857143, 0.012311564311742195], [0.019285714285714285, 0.011567934526760465], [0.017142857142857144, 0.010782199317214467], [0.015, 0.009946941188791317]], [\"M\", \"L\", \"L\", \"L\", \"L\", \"L\", \"L\", \"L\", \"L\", \"L\", \"L\", \"L\", \"L\", \"L\", \"L\", \"L\", \"L\", \"L\", \"L\", \"L\", \"L\", \"L\", \"L\", \"L\", \"L\", \"L\", \"L\", \"L\", \"L\", \"L\", \"L\", \"L\", \"L\", \"L\", \"L\", \"L\", \"L\", \"L\", \"L\", \"L\", \"L\", \"L\", \"L\", \"L\", \"L\", \"L\", \"L\", \"L\", \"L\", \"L\", \"L\", \"L\", \"L\", \"L\", \"L\", \"L\", \"L\", \"L\", \"L\", \"L\", \"L\", \"L\", \"L\", \"L\", \"L\", \"L\", \"L\", \"L\", \"L\", \"L\", \"L\", \"L\", \"L\", \"L\", \"L\", \"L\", \"L\", \"L\", \"L\", \"L\", \"L\", \"L\", \"L\", \"L\", \"L\", \"L\", \"L\", \"L\", \"L\", \"L\", \"L\", \"L\", \"L\", \"L\", \"L\", \"L\", \"L\", \"L\", \"L\", \"L\", \"L\", \"L\", \"Z\"]]]}, {\"offsetcoordinates\": \"display\", \"alphas\": [0.2], \"edgewidths\": [1.0], \"zorder\": 1, \"offsets\": \"data01\", \"yindex\": 0, \"xindex\": 0, \"pathcoordinates\": \"data\", \"id\": \"el24796140354460030568\", \"pathtransforms\": [], \"facecolors\": [\"#FF0000\"], \"edgecolors\": [], \"paths\": [[[[0.65, 0.0885], [0.65, 0.1715], [0.653061224489796, 0.16947959183673472], [0.6561224489795918, 0.1674591836734694], [0.6591836734693878, 0.1654387755102041], [0.6622448979591837, 0.16341836734693876], [0.6653061224489796, 0.1613979591836735], [0.6683673469387755, 0.15937755102040818], [0.6714285714285715, 0.15735714285714286], [0.6744897959183673, 0.15533673469387757], [0.6775510204081633, 0.15331632653061228], [0.6806122448979592, 0.15129591836734696], [0.6836734693877551, 0.14927551020408167], [0.686734693877551, 0.14725510204081635], [0.689795918367347, 0.14523469387755103], [0.6928571428571428, 0.14321428571428574], [0.6959183673469388, 0.14119387755102042], [0.6989795918367347, 0.1391734693877551], [0.7020408163265306, 0.1371530612244898], [0.7051020408163265, 0.1351326530612245], [0.7081632653061225, 0.1331122448979592], [0.7112244897959183, 0.1310918367346939], [0.7142857142857143, 0.1290714285714286], [0.7173469387755103, 0.12705102040816327], [0.7204081632653061, 0.12503061224489798], [0.7234693877551021, 0.12301020408163267], [0.726530612244898, 0.12098979591836734], [0.7295918367346939, 0.11896938775510207], [0.7326530612244898, 0.11694897959183674], [0.7357142857142858, 0.11492857142857144], [0.7387755102040816, 0.11290816326530614], [0.7418367346938776, 0.11088775510204082], [0.7448979591836735, 0.10886734693877552], [0.7479591836734694, 0.10684693877551023], [0.7510204081632653, 0.10482653061224491], [0.7540816326530613, 0.1028061224489796], [0.7571428571428571, 0.10078571428571431], [0.7602040816326531, 0.09876530612244899], [0.763265306122449, 0.09674489795918369], [0.7663265306122449, 0.09472448979591838], [0.7693877551020408, 0.09270408163265309], [0.7724489795918368, 0.09068367346938776], [0.7755102040816326, 0.08866326530612248], [0.7785714285714286, 0.08664285714285715], [0.7816326530612245, 0.08462244897959184], [0.7846938775510204, 0.08260204081632656], [0.7877551020408163, 0.08058163265306124], [0.7908163265306123, 0.07856122448979592], [0.7938775510204081, 0.07654081632653063], [0.7969387755102041, 0.07452040816326533], [0.8, 0.07250000000000001], [0.8, 0.0675], [0.8, 0.0675], [0.7969387755102041, 0.06792857142857142], [0.7938775510204081, 0.06835714285714285], [0.7908163265306123, 0.0687857142857143], [0.7877551020408163, 0.06921428571428571], [0.7846938775510204, 0.06964285714285713], [0.7816326530612245, 0.07007142857142859], [0.7785714285714286, 0.0705], [0.7755102040816326, 0.07092857142857142], [0.7724489795918368, 0.07135714285714286], [0.7693877551020408, 0.07178571428571429], [0.7663265306122449, 0.0722142857142857], [0.763265306122449, 0.07264285714285716], [0.7602040816326531, 0.07307142857142856], [0.7571428571428571, 0.07349999999999998], [0.7540816326530613, 0.07392857142857143], [0.7510204081632653, 0.07435714285714286], [0.7479591836734694, 0.07478571428571427], [0.7448979591836735, 0.07521428571428572], [0.7418367346938776, 0.07564285714285715], [0.7387755102040816, 0.07607142857142857], [0.7357142857142858, 0.07650000000000001], [0.7326530612244898, 0.07692857142857142], [0.7295918367346939, 0.07735714285714285], [0.726530612244898, 0.07778571428571429], [0.7234693877551021, 0.07821428571428572], [0.7204081632653061, 0.07864285714285713], [0.7173469387755103, 0.07907142857142858], [0.7142857142857143, 0.07949999999999999], [0.7112244897959183, 0.07992857142857142], [0.7081632653061225, 0.08035714285714286], [0.7051020408163265, 0.08078571428571428], [0.7020408163265306, 0.08121428571428571], [0.6989795918367347, 0.08164285714285716], [0.6959183673469388, 0.08207142857142857], [0.6928571428571428, 0.08249999999999999], [0.689795918367347, 0.08292857142857143], [0.686734693877551, 0.08335714285714285], [0.6836734693877551, 0.08378571428571427], [0.6806122448979592, 0.08421428571428573], [0.6775510204081633, 0.08464285714285714], [0.6744897959183673, 0.08507142857142855], [0.6714285714285715, 0.08550000000000002], [0.6683673469387755, 0.08592857142857141], [0.6653061224489796, 0.08635714285714284], [0.6622448979591837, 0.08678571428571429], [0.6591836734693878, 0.08721428571428572], [0.6561224489795918, 0.08764285714285713], [0.653061224489796, 0.08807142857142859], [0.65, 0.0885]], [\"M\", \"L\", \"L\", \"L\", \"L\", \"L\", \"L\", \"L\", \"L\", \"L\", \"L\", \"L\", \"L\", \"L\", \"L\", \"L\", \"L\", \"L\", \"L\", \"L\", \"L\", \"L\", \"L\", \"L\", \"L\", \"L\", \"L\", \"L\", \"L\", \"L\", \"L\", \"L\", \"L\", \"L\", \"L\", \"L\", \"L\", \"L\", \"L\", \"L\", \"L\", \"L\", \"L\", \"L\", \"L\", \"L\", \"L\", \"L\", \"L\", \"L\", \"L\", \"L\", \"L\", \"L\", \"L\", \"L\", \"L\", \"L\", \"L\", \"L\", \"L\", \"L\", \"L\", \"L\", \"L\", \"L\", \"L\", \"L\", \"L\", \"L\", \"L\", \"L\", \"L\", \"L\", \"L\", \"L\", \"L\", \"L\", \"L\", \"L\", \"L\", \"L\", \"L\", \"L\", \"L\", \"L\", \"L\", \"L\", \"L\", \"L\", \"L\", \"L\", \"L\", \"L\", \"L\", \"L\", \"L\", \"L\", \"L\", \"L\", \"L\", \"L\", \"Z\"]]]}, {\"offsetcoordinates\": \"data\", \"alphas\": [1.0], \"edgewidths\": [1.0], \"zorder\": 1, \"offsets\": \"data02\", \"yindex\": 1, \"xindex\": 0, \"pathcoordinates\": \"display\", \"id\": \"el24796140354460032080\", \"pathtransforms\": [[7.735700330458063, 0.0, 0.0, 7.735700330458063, 0.0, 0.0], [8.885057029113321, 0.0, 0.0, 8.885057029113321, 0.0, 0.0], [3.8294951511371287, 0.0, 0.0, 3.8294951511371287, 0.0, 0.0], [3.82812872516375, 0.0, 0.0, 3.82812872516375, 0.0, 0.0], [3.954492792386036, 0.0, 0.0, 3.954492792386036, 0.0, 0.0], [7.749120864471363, 0.0, 0.0, 7.749120864471363, 0.0, 0.0], [8.883208357821898, 0.0, 0.0, 8.883208357821898, 0.0, 0.0], [3.8633616079662128, 0.0, 0.0, 3.8633616079662128, 0.0, 0.0], [3.841857304698974, 0.0, 0.0, 3.841857304698974, 0.0, 0.0], [3.912012405348767, 0.0, 0.0, 3.912012405348767, 0.0, 0.0], [8.436996735052395, 0.0, 0.0, 8.436996735052395, 0.0, 0.0], [8.18808696900079, 0.0, 0.0, 8.18808696900079, 0.0, 0.0], [8.821068998604742, 0.0, 0.0, 8.821068998604742, 0.0, 0.0], [8.603864833098271, 0.0, 0.0, 8.603864833098271, 0.0, 0.0], [8.860351449833665, 0.0, 0.0, 8.860351449833665, 0.0, 0.0], [3.6787379062365195, 0.0, 0.0, 3.6787379062365195, 0.0, 0.0], [8.73491888611565, 0.0, 0.0, 8.73491888611565, 0.0, 0.0], [6.046037507030851, 0.0, 0.0, 6.046037507030851, 0.0, 0.0], [6.168913736529448, 0.0, 0.0, 6.168913736529448, 0.0, 0.0], [8.73440331817253, 0.0, 0.0, 8.73440331817253, 0.0, 0.0], [4.609951803342316, 0.0, 0.0, 4.609951803342316, 0.0, 0.0], [7.7177013357142, 0.0, 0.0, 7.7177013357142, 0.0, 0.0], [8.818298254536431, 0.0, 0.0, 8.818298254536431, 0.0, 0.0], [8.707110590456347, 0.0, 0.0, 8.707110590456347, 0.0, 0.0], [4.220040488177133, 0.0, 0.0, 4.220040488177133, 0.0, 0.0], [3.947603850304687, 0.0, 0.0, 3.947603850304687, 0.0, 0.0], [8.617324303152072, 0.0, 0.0, 8.617324303152072, 0.0, 0.0], [8.882418082559358, 0.0, 0.0, 8.882418082559358, 0.0, 0.0], [6.872837408213226, 0.0, 0.0, 6.872837408213226, 0.0, 0.0], [4.403310013256808, 0.0, 0.0, 4.403310013256808, 0.0, 0.0], [3.7272399816479074, 0.0, 0.0, 3.7272399816479074, 0.0, 0.0], [8.891405181000088, 0.0, 0.0, 8.891405181000088, 0.0, 0.0], [8.172494654276147, 0.0, 0.0, 8.172494654276147, 0.0, 0.0], [8.202220665225948, 0.0, 0.0, 8.202220665225948, 0.0, 0.0]], \"facecolors\": [\"#7B06FE\", \"#7B06FE\", \"#7B06FE\", \"#7B06FE\", \"#7B06FE\", \"#7B06FE\", \"#7B06FE\", \"#7B06FE\", \"#7B06FE\", \"#7B06FE\", \"#7B06FE\", \"#7B06FE\", \"#7B06FE\", \"#7B06FE\", \"#7B06FE\", \"#7B06FE\", \"#7B06FE\", \"#7B06FE\", \"#7B06FE\", \"#7B06FE\", \"#7B06FE\", \"#7B06FE\", \"#7B06FE\", \"#7B06FE\", \"#7B06FE\", \"#7B06FE\", \"#7B06FE\", \"#7B06FE\", \"#7B06FE\", \"#7B06FE\", \"#7B06FE\", \"#7B06FE\", \"#FF4D27\", \"#FF4D27\"], \"edgecolors\": [\"#7B06FE\", \"#7B06FE\", \"#7B06FE\", \"#7B06FE\", \"#7B06FE\", \"#7B06FE\", \"#7B06FE\", \"#7B06FE\", \"#7B06FE\", \"#7B06FE\", \"#7B06FE\", \"#7B06FE\", \"#7B06FE\", \"#7B06FE\", \"#7B06FE\", \"#7B06FE\", \"#7B06FE\", \"#7B06FE\", \"#7B06FE\", \"#7B06FE\", \"#7B06FE\", \"#7B06FE\", \"#7B06FE\", \"#7B06FE\", \"#7B06FE\", \"#7B06FE\", \"#7B06FE\", \"#7B06FE\", \"#7B06FE\", \"#7B06FE\", \"#7B06FE\", \"#7B06FE\", \"#FF4D27\", \"#FF4D27\"], \"paths\": [[[[0.0, -0.5], [0.13260155, -0.5], [0.25978993539242673, -0.44731684579412084], [0.3535533905932738, -0.3535533905932738], [0.44731684579412084, -0.25978993539242673], [0.5, -0.13260155], [0.5, 0.0], [0.5, 0.13260155], [0.44731684579412084, 0.25978993539242673], [0.3535533905932738, 0.3535533905932738], [0.25978993539242673, 0.44731684579412084], [0.13260155, 0.5], [0.0, 0.5], [-0.13260155, 0.5], [-0.25978993539242673, 0.44731684579412084], [-0.3535533905932738, 0.3535533905932738], [-0.44731684579412084, 0.25978993539242673], [-0.5, 0.13260155], [-0.5, 0.0], [-0.5, -0.13260155], [-0.44731684579412084, -0.25978993539242673], [-0.3535533905932738, -0.3535533905932738], [-0.25978993539242673, -0.44731684579412084], [-0.13260155, -0.5], [0.0, -0.5]], [\"M\", \"C\", \"C\", \"C\", \"C\", \"C\", \"C\", \"C\", \"C\", \"Z\"]]]}], \"markers\": [], \"xlim\": [0.0, 1.0], \"lines\": [], \"ylim\": [-0.1, 0.38], \"xscale\": \"linear\", \"sharey\": [], \"zoomable\": true, \"axes\": [{\"tickvalues\": null, \"scale\": \"linear\", \"grid\": {\"alpha\": 1.0, \"gridOn\": true, \"dasharray\": \"none\", \"color\": \"#FFFFFF\"}, \"tickformat\": null, \"position\": \"bottom\", \"visible\": true, \"nticks\": 6, \"fontsize\": 10.0}, {\"tickvalues\": null, \"scale\": \"linear\", \"grid\": {\"alpha\": 1.0, \"gridOn\": true, \"dasharray\": \"none\", \"color\": \"#FFFFFF\"}, \"tickformat\": null, \"position\": \"left\", \"visible\": true, \"nticks\": 6, \"fontsize\": 10.0}], \"id\": \"el24796140354461106128\", \"images\": [], \"axesbg\": \"#DDDDDD\", \"paths\": [{\"facecolor\": \"#008000\", \"zorder\": 1000001.0, \"alpha\": 0.5, \"yindex\": 1, \"xindex\": 0, \"edgewidth\": 1.0, \"edgecolor\": \"none\", \"id\": \"el24796140354460095152\", \"dasharray\": \"none\", \"coordinates\": \"axes\", \"pathcodes\": [\"M\", \"L\", \"L\", \"L\", \"Z\"], \"data\": \"data03\"}, {\"facecolor\": \"#FFFF00\", \"zorder\": 1000001.0, \"alpha\": 0.5, \"yindex\": 2, \"xindex\": 0, \"edgewidth\": 1.0, \"edgecolor\": \"none\", \"id\": \"el24796140354460096832\", \"dasharray\": \"none\", \"coordinates\": \"axes\", \"pathcodes\": [\"M\", \"L\", \"L\", \"L\", \"Z\"], \"data\": \"data03\"}, {\"facecolor\": \"#FF0000\", \"zorder\": 1000001.0, \"alpha\": 0.2, \"yindex\": 3, \"xindex\": 0, \"edgewidth\": 1.0, \"edgecolor\": \"none\", \"id\": \"el24796140354460098512\", \"dasharray\": \"none\", \"coordinates\": \"axes\", \"pathcodes\": [\"M\", \"L\", \"L\", \"L\", \"Z\"], \"data\": \"data03\"}, {\"facecolor\": \"#FF0F07\", \"zorder\": 1000001.0, \"alpha\": 1, \"yindex\": 4, \"xindex\": 0, \"edgewidth\": 1.0, \"edgecolor\": \"#FF0F07\", \"id\": \"el24796140354460140992\", \"dasharray\": \"none\", \"coordinates\": \"axes\", \"pathcodes\": [\"M\", \"L\", \"L\", \"L\", \"Z\"], \"data\": \"data03\"}, {\"facecolor\": \"#750FFE\", \"zorder\": 1000001.0, \"alpha\": 1, \"yindex\": 5, \"xindex\": 0, \"edgewidth\": 1.0, \"edgecolor\": \"#750FFE\", \"id\": \"el24796140354460142840\", \"dasharray\": \"none\", \"coordinates\": \"axes\", \"pathcodes\": [\"M\", \"L\", \"L\", \"L\", \"Z\"], \"data\": \"data03\"}, {\"facecolor\": \"#FFFFFF\", \"zorder\": 1000000.0, \"alpha\": 0.8, \"yindex\": 1, \"xindex\": 0, \"edgewidth\": 1.0, \"edgecolor\": \"#CCCCCC\", \"id\": \"el24796140354460068608\", \"dasharray\": \"none\", \"coordinates\": \"axes\", \"pathcodes\": [\"M\", \"L\", \"S\", \"L\", \"S\", \"L\", \"S\", \"L\", \"S\", \"Z\"], \"data\": \"data04\"}], \"bbox\": [0.125, 0.125, 0.775, 0.755]}], \"plugins\": [{\"type\": \"reset\"}, {\"button\": true, \"type\": \"zoom\", \"enabled\": false}, {\"button\": true, \"type\": \"boxzoom\", \"enabled\": false}, {\"hoffset\": 0, \"labels\": [\"0c83820e0060061941946a68f0\", \"1733981849c04af6ae996424e0\", \"1125390c5add882663707cbf2f\", \"2410f90c3c1ad303184fcf7bf5\", \"022478c58a1fbb91f2022bf36f\", \"0c83820e0060061941946a68f0\", \"1733981849c04af6ae996424e0\", \"1125390c5add882663707cbf2f\", \"2410f90c3c1ad303184fcf7bf5\", \"022478c58a1fbb91f2022bf36f\", \"3a96bf992f7527f42eb3dab5ef\", \"184af6a375706e604132428008\", \"009ef96711dfbee0513a90a090\", \"06273cd54233f548a66e4bc060\", \"305cb6ddda2c4e21184b802670\", \"0781dacd5bd3d20501ce483466\", \"3d4403a2e9f179119ab1d510b0\", \"1cefed47ef30e2abc2fab59c8f\", \"31445202992e8424e138e10428\", \"2bfcf170f18f47108305a86a90\", \"1ff2bc7cc13d268fd438c5d6f4\", \"3515080e9f1f901ded2c222408\", \"0822c9dff9148d209ab200cae0\", \"2f52d5ea152c8c90c2268d8660\", \"0715dde195e109487316f371df\", \"37fa0df5c75f284a7216801b2b\", \"2f6ad89296f7e1e79ee4eff181\", \"3b9629635edae6b69e815a5e02\", \"1384bbf3f0da584d09c2c88088\", \"0045c6f8269fa82435cf56ecff\", \"131a8d7c583c89551ccd48c1dc\", \"3bfefd222c3875a02d732e6fd0\", \"000000000060031c61c67f86a0\", \"000000000060031c61c67f86a0\"], \"type\": \"tooltip\", \"location\": \"mouse\", \"voffset\": 10, \"id\": \"el24796140354460032080\"}, {\"rules\": [\"B2ce3aeikq4aeikw5c/S1367\", \"B2ei3acijk4inrty5acy6-ac7e8/S1c2en3jknqr4-aejq5ai6ikn7c\", \"B012ak3cijnq4aceijy5-ejky6-ce7c8/S01c2-c3aejkn4-aeiwy5y6n\", \"B01e2-a3-cjq4-cikny5acq6-ci7c/S012cei3aij4ajt5ijkny6ik8\", \"B012-ci3-aej4-aikrt5jnqr6akn7/S012ac3ainq4ceqrt5ackqr\", \"B2ce3aeikq4aeikw5c/S1367\", \"B2ei3acijk4inrty5acy6-ac7e8/S1c2en3jknqr4-aejq5ai6ikn7c\", \"B012ak3cijnq4aceijy5-ejky6-ce7c8/S01c2-c3aejkn4-aeiwy5y6n\", \"B01e2-a3-cjq4-cikny5acq6-ci7c/S012cei3aij4ajt5ijkny6ik8\", \"B012-ci3-aej4-aikrt5jnqr6akn7/S012ac3ainq4ceqrt5ackqr\", \"B012-cn3-enq4cik5-aeq6-ci78/S01c2akn3-cen4-cejkz5-ekr6cek78\", \"B2a3kqr4ikty5eijk6acn7c8/S2a3eijky4jnwyz5-airy6ack7\", \"B2cn3akqr4-antw5-acky6-i7c/S1c2ak3ek4-ciqrtz5akqy6aek7c\", \"B2e3ceiry4-aiwy5ijkny6akn7/S1e2aci3acijy4-ajknty5cq6in7c\", \"B2-ak3ijknr4-aijnqz5-aijn6en7c8/S1c2i3y4-cikrwy5ceiqr6ck8\", \"B12e3eijkr4-acikny5cn6-ce7e/S01c2in3aejkr4-acinrw5ckq6-a\", \"B2cin3aiy4-aejkrz5ijn6aci8/S02cek3jkqry4akrtyz5-ajkq6aci7e8\", \"B012a3ajkqr4-kqyz5aeijk6ak7c8/S02-n3cnry4-ijkw5-ci6-c7\", \"B2a3cijq4-aeqtwy5iqr6in8/S2cn3ejny4ajnty5ekr6ac8\", \"B2ci3aekny4ackntz5enqry6-ak7/S13aenq4-inqtw5eknry6ek7e8\", \"B1e2cen3-cery4eiknrw5-e678/S01e2-ik3cjy4aceiyz5aer6eik7\", \"B2a3cejq4-aikty5cinqr6-cn8/S1c2n3ceinq4ijqty5ijr6ain8\", \"B2en3ainry4-cqrtwz5ciry6ak/S1e2a3r4-aikqw5-aej6ak7\", \"B2e3-acky4jkny5cikqr6-ak7e/S2ace3aqy4aejry5-inqr6aik78\", \"B012-i3-ijkn4ciy5kn6-a7e/S012ck3-aqr4-cinqtz5-aein6ikn\", \"B01c2akn3-ajky4aeiyz5-ci6-n7e8/S03ck4-ijknt5-aikn6ei7c8\", \"B02kn3aey4jntwz5-ckq6-ce7e/S012-k3-ceq4-etyz5-nqy6aik78\", \"B1c2in3jkn4-eiqrwy5ajq6-n78/S01e2kn3-ceny4-acwy5aijqy6ae78\", \"B2a3ar4cqtwyz5qy6-e78/S2ain3-inqy4aejkwz5-aejk6-in\", \"B012-k3-knqy4acjryz5-aei6ac/S12-c3eijr4eiknq5cejkn6ckn\", \"B1e23aey4ejrwy5-aijn6-n7e8/S1e2ain3ajqry4eijtwz5iy6k7c\", \"B2-an3-eikq4acikqt5eijkq678/S12ei3aeiny4cint5-cqr6aek78\", \"B3/S23\", \"B3/S23\"], \"type\": \"clickinfo\", \"id\": \"el24796140354460032080\", \"labels\": [\"0c83820e0060061941946a68f0\", \"1733981849c04af6ae996424e0\", \"1125390c5add882663707cbf2f\", \"2410f90c3c1ad303184fcf7bf5\", \"022478c58a1fbb91f2022bf36f\", \"0c83820e0060061941946a68f0\", \"1733981849c04af6ae996424e0\", \"1125390c5add882663707cbf2f\", \"2410f90c3c1ad303184fcf7bf5\", \"022478c58a1fbb91f2022bf36f\", \"3a96bf992f7527f42eb3dab5ef\", \"184af6a375706e604132428008\", \"009ef96711dfbee0513a90a090\", \"06273cd54233f548a66e4bc060\", \"305cb6ddda2c4e21184b802670\", \"0781dacd5bd3d20501ce483466\", \"3d4403a2e9f179119ab1d510b0\", \"1cefed47ef30e2abc2fab59c8f\", \"31445202992e8424e138e10428\", \"2bfcf170f18f47108305a86a90\", \"1ff2bc7cc13d268fd438c5d6f4\", \"3515080e9f1f901ded2c222408\", \"0822c9dff9148d209ab200cae0\", \"2f52d5ea152c8c90c2268d8660\", \"0715dde195e109487316f371df\", \"37fa0df5c75f284a7216801b2b\", \"2f6ad89296f7e1e79ee4eff181\", \"3b9629635edae6b69e815a5e02\", \"1384bbf3f0da584d09c2c88088\", \"0045c6f8269fa82435cf56ecff\", \"131a8d7c583c89551ccd48c1dc\", \"3bfefd222c3875a02d732e6fd0\", \"000000000060031c61c67f86a0\", \"000000000060031c61c67f86a0\"]}], \"id\": \"el24796140354467510480\", \"height\": 504.0, \"data\": {\"data03\": [[0.7215821812596007, 0.9553242930726373, 0.9135229422894986, 0.8717215915063596, 0.8323018500998633, 0.7928821086933668], [0.7727854582693293, 0.9553242930726373, 0.9135229422894986, 0.8717215915063596, 0.8323018500998633, 0.7928821086933668], [0.7727854582693293, 0.973720172395669, 0.9319188216125303, 0.8901174708293913, 0.850697729422895, 0.8112779880163985], [0.7215821812596007, 0.973720172395669, 0.9319188216125303, 0.8901174708293913, 0.850697729422895, 0.8112779880163985]], \"data01\": [[0.0, 0.0]], \"data04\": [[0.7164618535586278, 0.7771142121307684], [0.982078853046595, 0.7771142121307684], [0.9871991807475679, 0.7771142121307684], [0.9871991807475679, 0.7823701776516345], [0.9871991807475679, 0.9816041206769683], [0.9871991807475679, 0.9868600861978345], [0.982078853046595, 0.9868600861978345], [0.7164618535586278, 0.9868600861978345], [0.711341525857655, 0.9868600861978345], [0.711341525857655, 0.9816041206769683], [0.711341525857655, 0.7823701776516345], [0.711341525857655, 0.7771142121307684], [0.7164618535586278, 0.7771142121307684]], \"data02\": [[0.321636, 0.14867], [0.019919, 0.002572], [0.022815, 0.00557], [0.417415, 0.098694], [0.084043, 0.036189], [0.316082, 0.144094], [0.016928, 0.002308], [0.023104, 0.004945], [0.430551, 0.101365], [0.074235, 0.033086], [0.185792, 0.119161], [0.253568, 0.13943], [0.020131, 0.01066], [0.101852, 0.032517], [0.023084, 0.000618], [0.340072, 0.15847], [0.0199, 0.0101], [0.550777, 0.133415], [0.554252, 0.147002], [0.034876, 0.020657], [0.489023, 0.143845], [0.39422, 0.167817], [0.032118, 0.005496], [0.076012, 0.027663], [0.068578, 0.014057], [0.215438, 0.083427], [0.072518, 0.03355], [0.019017, 0.003947], [0.493316, 0.215395], [0.042749, 0.010969], [0.106887, 0.039119], [0.018284, 0.00198], [0.15376, 0.094752], [0.154527, 0.090349]]}});\n",
       "      });\n",
       "    });\n",
       "}else{\n",
       "    // require.js not available: dynamically load d3 & mpld3\n",
       "    mpld3_load_lib(\"https://mpld3.github.io/js/d3.v3.min.js\", function(){\n",
       "         mpld3_load_lib(\"https://mpld3.github.io/js/mpld3.v0.3.js\", function(){\n",
       "                 \n",
       "    mpld3.register_plugin(\"clickinfo\", ClickInfo);\n",
       "    ClickInfo.prototype = Object.create(mpld3.Plugin.prototype);\n",
       "    ClickInfo.prototype.constructor = ClickInfo;\n",
       "    ClickInfo.prototype.requiredProps = [\"id\",\"labels\",\"rules\"];\n",
       "    function ClickInfo(fig, props){\n",
       "        mpld3.Plugin.call(this, fig, props);\n",
       "    };\n",
       "    \n",
       "    ClickInfo.prototype.draw = function(){\n",
       "        var obj = mpld3.get_element(this.props.id);\n",
       "        var labels = (this.props.labels);\n",
       "        var rules = (this.props.rules);\n",
       "        \n",
       "        obj.elements().on(\"mousedown\",\n",
       "                          function(d, i){\n",
       "                          txt=labels[i];\n",
       "                          window.prompt(\"You clicked Point \"+ i + \", Ctrl+C to copy to clipboard, Click 'OK' or 'Cancel' to open the CA in a pop-up Rulestring:\", txt);\n",
       "                            \n",
       "                            rule=rules[i];\n",
       "\n",
       "//                            var s = template.formatUnicorn(rule,soup);\n",
       "//                            var s = 'bbbbbboooooooo!';\n",
       "//                            var divs=div_template.formatUnicorn(s);\n",
       "//                            document.getElementById(\"viewer\").innerHTML = s;\n",
       "//                            document.getElementById(\"viewer\").visibility = \"show\";\n",
       "//                            document.getElementById(\"viewer\")\n",
       "                            window.open(\"/view.php?rule_alias=\"+rule);\n",
       "\n",
       "//                            var sp1 = document.createElement('textarea');\n",
       "//                            elementText = document.createTextNode(s);                            \n",
       "//                            sp1.appendChild(elementText);\n",
       "\n",
       "//                            var sp2 = document.getElementById(\"textarea\");\n",
       "//                            var parentDiv = sp2.parentNode;\n",
       "//                            parentDiv.replaceChild(sp1, sp2);\n",
       "\n",
       "//                            var cv1=document.createElement('canvas')\n",
       "//                             cv1.appendChild(document.createTextNode(''));\n",
       "//                            cv1.setAttribute('width','480');\n",
       "//                            cv1.setAttribute('height','480');\n",
       "\n",
       "                            var newviewer=document.createElement('div');\n",
       "                            newviewer.setAttribute('class','viewer');\n",
       "                            newviewer.setAttribute('id','viewer');\n",
       "                            newviewer.appendChild(sp1);\n",
       "                            newviewer.appendChild(cv1);\n",
       "\n",
       "//                            newviewer.appendChild(document.getElementById('cv1'))\n",
       "                            document.body.appendChild(newviewer);\n",
       "//                            parentDiv.parentNode.appendChild(newviewer);\n",
       "\n",
       "                            document.getElementById('viewer').contentWindow.location.reload();\n",
       "\n",
       "//                            viewer.innerHTML=s;\n",
       "alert(txt);\n",
       "                          //document.getElementById(\"viewer\").innerHTML = rule;\n",
       "\n",
       "                          \n",
       "                          });\n",
       "    }\n",
       "    \n",
       "    \n",
       "    \n",
       "                 mpld3.draw_figure(\"fig_el247961403544675104805697480371\", {\"width\": 504.0, \"axes\": [{\"yscale\": \"linear\", \"ydomain\": [-0.1, 0.38], \"axesbgalpha\": null, \"xdomain\": [0.0, 1.0], \"texts\": [{\"zorder\": 3, \"alpha\": 1, \"position\": [0.5, -0.05518763796909494], \"id\": \"el24796140354461217400\", \"color\": \"#000000\", \"h_anchor\": \"middle\", \"v_baseline\": \"hanging\", \"fontsize\": 15.0, \"text\": \"Avg Temp\", \"rotation\": -0.0, \"coordinates\": \"axes\"}, {\"zorder\": 3, \"alpha\": 1, \"position\": [-0.09024577572964669, 0.5], \"id\": \"el24796140354460776768\", \"color\": \"#000000\", \"h_anchor\": \"middle\", \"v_baseline\": \"auto\", \"fontsize\": 15.0, \"text\": \"mean(abs(d_Temp)) - abs(mean(d_Temp))\", \"rotation\": -90.0, \"coordinates\": \"axes\"}, {\"zorder\": 3, \"alpha\": 1, \"position\": [0.5, 1.0157678965625985], \"id\": \"el24796140354460565856\", \"color\": \"#000000\", \"h_anchor\": \"middle\", \"v_baseline\": \"auto\", \"fontsize\": 20.0, \"text\": \"Dynamic landscape, 2D projection\", \"rotation\": -0.0, \"coordinates\": \"axes\"}, {\"zorder\": 1000003.0, \"alpha\": 1, \"position\": [0.7932667690732208, 0.9553242930726373], \"id\": \"el24796140354460069336\", \"color\": \"#000000\", \"h_anchor\": \"start\", \"v_baseline\": \"auto\", \"fontsize\": 10.0, \"text\": \"Uncond_Comp\", \"rotation\": -0.0, \"coordinates\": \"axes\"}, {\"zorder\": 1000003.0, \"alpha\": 1, \"position\": [0.7932667690732208, 0.9135229422894986], \"id\": \"el24796140354460095768\", \"color\": \"#000000\", \"h_anchor\": \"start\", \"v_baseline\": \"auto\", \"fontsize\": 10.0, \"text\": \"Cond_Comp\", \"rotation\": -0.0, \"coordinates\": \"axes\"}, {\"zorder\": 1000003.0, \"alpha\": 1, \"position\": [0.7932667690732208, 0.8717215915063596], \"id\": \"el24796140354460097448\", \"color\": \"#000000\", \"h_anchor\": \"start\", \"v_baseline\": \"auto\", \"fontsize\": 10.0, \"text\": \"Chaos\", \"rotation\": -0.0, \"coordinates\": \"axes\"}, {\"zorder\": 1000003.0, \"alpha\": 1, \"position\": [0.7932667690732208, 0.8323018500998633], \"id\": \"el24796140354460139928\", \"color\": \"#000000\", \"h_anchor\": \"start\", \"v_baseline\": \"auto\", \"fontsize\": 10.0, \"text\": \"sample\", \"rotation\": -0.0, \"coordinates\": \"axes\"}, {\"zorder\": 1000003.0, \"alpha\": 1, \"position\": [0.7932667690732208, 0.7928821086933668], \"id\": \"el24796140354460141664\", \"color\": \"#000000\", \"h_anchor\": \"start\", \"v_baseline\": \"auto\", \"fontsize\": 10.0, \"text\": \"reference\", \"rotation\": -0.0, \"coordinates\": \"axes\"}], \"sharex\": [], \"collections\": [{\"offsetcoordinates\": \"display\", \"alphas\": [0.5], \"edgewidths\": [1.0], \"zorder\": 1, \"offsets\": \"data01\", \"yindex\": 1, \"xindex\": 0, \"pathcoordinates\": \"data\", \"id\": \"el24796140355484263200\", \"pathtransforms\": [], \"facecolors\": [\"#008000\"], \"edgecolors\": [], \"paths\": [[[[0.12, 0.07500000000000001], [0.12, 0.125], [0.4, 0.215], [0.4, 0.165], [0.4, 0.165], [0.12, 0.07500000000000001]], [\"M\", \"L\", \"L\", \"L\", \"L\", \"L\", \"Z\"]]]}, {\"offsetcoordinates\": \"display\", \"alphas\": [0.5], \"edgewidths\": [1.0], \"zorder\": 1, \"offsets\": \"data01\", \"yindex\": 0, \"xindex\": 0, \"pathcoordinates\": \"data\", \"id\": \"el24796140354459946904\", \"pathtransforms\": [], \"facecolors\": [\"#FFFF00\"], \"edgecolors\": [], \"paths\": [[[[0.015, 0.009946941188791317], [0.015, 0.014946941188791318], [0.017142857142857144, 0.016296485031500184], [0.019285714285714285, 0.017596505955331895], [0.02142857142857143, 0.018854421454599337], [0.02357142857142857, 0.020075914228472942], [0.025714285714285714, 0.021265457861439827], [0.027857142857142858, 0.022426652810737534], [0.03, 0.02356245046045434], [0.03214285714285714, 0.024675307848649207], [0.03428571428571429, 0.025767297698913217], [0.03642857142857143, 0.02684018864591421], [0.038571428571428576, 0.02789550500173977], [0.04071428571428572, 0.028934572123470684], [0.04285714285714286, 0.029958551423472417], [0.045, 0.030968467784686933], [0.047142857142857146, 0.03196523131041616], [0.04928571428571429, 0.032949654782736607], [0.05142857142857143, 0.0339224678253189], [0.053571428571428575, 0.03488432850362945], [0.055714285714285716, 0.03583583290976222], [0.05785714285714286, 0.036777523145796714], [0.060000000000000005, 0.03770989402244363], [0.062142857142857146, 0.03863339871804698], [0.06428571428571428, 0.03954845358945097], [0.06642857142857143, 0.04045544228577542], [0.06857142857142857, 0.04135471928525511], [0.07071428571428572, 0.042246612951491805], [0.07285714285714286, 0.04313142818695434], [0.07500000000000001, 0.04400944874704474], [0.07714285714285715, 0.04488093926657467], [0.07928571428571429, 0.04574614704136246], [0.08142857142857143, 0.04660530360033824], [0.08357142857142857, 0.04745862609763713], [0.08571428571428572, 0.04830631854936491], [0.08785714285714286, 0.04914857293580454], [0.09, 0.04998557018661817], [0.09214285714285715, 0.05081748106394657], [0.09428571428571429, 0.05164446695610856], [0.09642857142857143, 0.05246668059277081], [0.09857142857142857, 0.053284266690925085], [0.10071428571428571, 0.054097362539721416], [0.10285714285714286, 0.054906098531118865], [0.10500000000000001, 0.05571059864239458], [0.10714285714285715, 0.05651098087576917], [0.10928571428571429, 0.05730735765973889], [0.11142857142857143, 0.058099836216133544], [0.11357142857142857, 0.058888518896428016], [0.11571428571428571, 0.05967350349041314], [0.11785714285714287, 0.060454883509965834], [0.12, 0.061232748450342295], [0.12, 0.0310327484503423], [0.12, 0.0310327484503423], [0.11785714285714287, 0.030769169224251547], [0.11571428571428571, 0.030502074918984573], [0.11357142857142857, 0.030231376039285163], [0.11142857142857143, 0.029956979073276397], [0.10928571428571429, 0.02967878623116746], [0.10714285714285715, 0.029396695161483452], [0.10500000000000001, 0.029110598642394583], [0.10285714285714286, 0.028820384245404583], [0.10071428571428571, 0.02852593396829284], [0.09857142857142857, 0.028227123833782224], [0.09642857142857143, 0.02792382344991367], [0.09428571428571429, 0.027615895527537133], [0.09214285714285715, 0.027303195349660855], [0.09, 0.02698557018661817], [0.08785714285714286, 0.02666285865009025], [0.08571428571428572, 0.026334889977936336], [0.08357142857142857, 0.026001483240494276], [0.08142857142857143, 0.02566244645748109], [0.07928571428571429, 0.025317575612791028], [0.07714285714285715, 0.02496665355228895], [0.07500000000000001, 0.024609448747044738], [0.07285714285714286, 0.024245713901240057], [0.07071428571428572, 0.02387518438006324], [0.06857142857142857, 0.02349757642811225], [0.06642857142857143, 0.023112585142918272], [0.06428571428571428, 0.02271988216087955], [0.062142857142857146, 0.02231911300376127], [0.060000000000000005, 0.02190989402244363], [0.05785714285714286, 0.02149180886008243], [0.055714285714285716, 0.021064404338333648], [0.053571428571428575, 0.02062718564648659], [0.05142857142857143, 0.02017961068246176], [0.04928571428571429, 0.019721083354165173], [0.047142857142857146, 0.019250945596130442], [0.045, 0.018768467784686937], [0.04285714285714286, 0.01827283713775813], [0.04071428571428572, 0.017763143552042115], [0.038571428571428576, 0.01723836214459691], [0.03642857142857143, 0.016697331503057068], [0.03428571428571429, 0.016138726270341786], [0.03214285714285714, 0.015561022134363493], [0.03, 0.014962450460454342], [0.027857142857142858, 0.014340938525023248], [0.025714285714285714, 0.013694029290011258], [0.02357142857142857, 0.013018771371330083], [0.02142857142857143, 0.012311564311742195], [0.019285714285714285, 0.011567934526760465], [0.017142857142857144, 0.010782199317214467], [0.015, 0.009946941188791317]], [\"M\", \"L\", \"L\", \"L\", \"L\", \"L\", \"L\", \"L\", \"L\", \"L\", \"L\", \"L\", \"L\", \"L\", \"L\", \"L\", \"L\", \"L\", \"L\", \"L\", \"L\", \"L\", \"L\", \"L\", \"L\", \"L\", \"L\", \"L\", \"L\", \"L\", \"L\", \"L\", \"L\", \"L\", \"L\", \"L\", \"L\", \"L\", \"L\", \"L\", \"L\", \"L\", \"L\", \"L\", \"L\", \"L\", \"L\", \"L\", \"L\", \"L\", \"L\", \"L\", \"L\", \"L\", \"L\", \"L\", \"L\", \"L\", \"L\", \"L\", \"L\", \"L\", \"L\", \"L\", \"L\", \"L\", \"L\", \"L\", \"L\", \"L\", \"L\", \"L\", \"L\", \"L\", \"L\", \"L\", \"L\", \"L\", \"L\", \"L\", \"L\", \"L\", \"L\", \"L\", \"L\", \"L\", \"L\", \"L\", \"L\", \"L\", \"L\", \"L\", \"L\", \"L\", \"L\", \"L\", \"L\", \"L\", \"L\", \"L\", \"L\", \"L\", \"Z\"]]]}, {\"offsetcoordinates\": \"display\", \"alphas\": [0.2], \"edgewidths\": [1.0], \"zorder\": 1, \"offsets\": \"data01\", \"yindex\": 0, \"xindex\": 0, \"pathcoordinates\": \"data\", \"id\": \"el24796140354460030568\", \"pathtransforms\": [], \"facecolors\": [\"#FF0000\"], \"edgecolors\": [], \"paths\": [[[[0.65, 0.0885], [0.65, 0.1715], [0.653061224489796, 0.16947959183673472], [0.6561224489795918, 0.1674591836734694], [0.6591836734693878, 0.1654387755102041], [0.6622448979591837, 0.16341836734693876], [0.6653061224489796, 0.1613979591836735], [0.6683673469387755, 0.15937755102040818], [0.6714285714285715, 0.15735714285714286], [0.6744897959183673, 0.15533673469387757], [0.6775510204081633, 0.15331632653061228], [0.6806122448979592, 0.15129591836734696], [0.6836734693877551, 0.14927551020408167], [0.686734693877551, 0.14725510204081635], [0.689795918367347, 0.14523469387755103], [0.6928571428571428, 0.14321428571428574], [0.6959183673469388, 0.14119387755102042], [0.6989795918367347, 0.1391734693877551], [0.7020408163265306, 0.1371530612244898], [0.7051020408163265, 0.1351326530612245], [0.7081632653061225, 0.1331122448979592], [0.7112244897959183, 0.1310918367346939], [0.7142857142857143, 0.1290714285714286], [0.7173469387755103, 0.12705102040816327], [0.7204081632653061, 0.12503061224489798], [0.7234693877551021, 0.12301020408163267], [0.726530612244898, 0.12098979591836734], [0.7295918367346939, 0.11896938775510207], [0.7326530612244898, 0.11694897959183674], [0.7357142857142858, 0.11492857142857144], [0.7387755102040816, 0.11290816326530614], [0.7418367346938776, 0.11088775510204082], [0.7448979591836735, 0.10886734693877552], [0.7479591836734694, 0.10684693877551023], [0.7510204081632653, 0.10482653061224491], [0.7540816326530613, 0.1028061224489796], [0.7571428571428571, 0.10078571428571431], [0.7602040816326531, 0.09876530612244899], [0.763265306122449, 0.09674489795918369], [0.7663265306122449, 0.09472448979591838], [0.7693877551020408, 0.09270408163265309], [0.7724489795918368, 0.09068367346938776], [0.7755102040816326, 0.08866326530612248], [0.7785714285714286, 0.08664285714285715], [0.7816326530612245, 0.08462244897959184], [0.7846938775510204, 0.08260204081632656], [0.7877551020408163, 0.08058163265306124], [0.7908163265306123, 0.07856122448979592], [0.7938775510204081, 0.07654081632653063], [0.7969387755102041, 0.07452040816326533], [0.8, 0.07250000000000001], [0.8, 0.0675], [0.8, 0.0675], [0.7969387755102041, 0.06792857142857142], [0.7938775510204081, 0.06835714285714285], [0.7908163265306123, 0.0687857142857143], [0.7877551020408163, 0.06921428571428571], [0.7846938775510204, 0.06964285714285713], [0.7816326530612245, 0.07007142857142859], [0.7785714285714286, 0.0705], [0.7755102040816326, 0.07092857142857142], [0.7724489795918368, 0.07135714285714286], [0.7693877551020408, 0.07178571428571429], [0.7663265306122449, 0.0722142857142857], [0.763265306122449, 0.07264285714285716], [0.7602040816326531, 0.07307142857142856], [0.7571428571428571, 0.07349999999999998], [0.7540816326530613, 0.07392857142857143], [0.7510204081632653, 0.07435714285714286], [0.7479591836734694, 0.07478571428571427], [0.7448979591836735, 0.07521428571428572], [0.7418367346938776, 0.07564285714285715], [0.7387755102040816, 0.07607142857142857], [0.7357142857142858, 0.07650000000000001], [0.7326530612244898, 0.07692857142857142], [0.7295918367346939, 0.07735714285714285], [0.726530612244898, 0.07778571428571429], [0.7234693877551021, 0.07821428571428572], [0.7204081632653061, 0.07864285714285713], [0.7173469387755103, 0.07907142857142858], [0.7142857142857143, 0.07949999999999999], [0.7112244897959183, 0.07992857142857142], [0.7081632653061225, 0.08035714285714286], [0.7051020408163265, 0.08078571428571428], [0.7020408163265306, 0.08121428571428571], [0.6989795918367347, 0.08164285714285716], [0.6959183673469388, 0.08207142857142857], [0.6928571428571428, 0.08249999999999999], [0.689795918367347, 0.08292857142857143], [0.686734693877551, 0.08335714285714285], [0.6836734693877551, 0.08378571428571427], [0.6806122448979592, 0.08421428571428573], [0.6775510204081633, 0.08464285714285714], [0.6744897959183673, 0.08507142857142855], [0.6714285714285715, 0.08550000000000002], [0.6683673469387755, 0.08592857142857141], [0.6653061224489796, 0.08635714285714284], [0.6622448979591837, 0.08678571428571429], [0.6591836734693878, 0.08721428571428572], [0.6561224489795918, 0.08764285714285713], [0.653061224489796, 0.08807142857142859], [0.65, 0.0885]], [\"M\", \"L\", \"L\", \"L\", \"L\", \"L\", \"L\", \"L\", \"L\", \"L\", \"L\", \"L\", \"L\", \"L\", \"L\", \"L\", \"L\", \"L\", \"L\", \"L\", \"L\", \"L\", \"L\", \"L\", \"L\", \"L\", \"L\", \"L\", \"L\", \"L\", \"L\", \"L\", \"L\", \"L\", \"L\", \"L\", \"L\", \"L\", \"L\", \"L\", \"L\", \"L\", \"L\", \"L\", \"L\", \"L\", \"L\", \"L\", \"L\", \"L\", \"L\", \"L\", \"L\", \"L\", \"L\", \"L\", \"L\", \"L\", \"L\", \"L\", \"L\", \"L\", \"L\", \"L\", \"L\", \"L\", \"L\", \"L\", \"L\", \"L\", \"L\", \"L\", \"L\", \"L\", \"L\", \"L\", \"L\", \"L\", \"L\", \"L\", \"L\", \"L\", \"L\", \"L\", \"L\", \"L\", \"L\", \"L\", \"L\", \"L\", \"L\", \"L\", \"L\", \"L\", \"L\", \"L\", \"L\", \"L\", \"L\", \"L\", \"L\", \"L\", \"Z\"]]]}, {\"offsetcoordinates\": \"data\", \"alphas\": [1.0], \"edgewidths\": [1.0], \"zorder\": 1, \"offsets\": \"data02\", \"yindex\": 1, \"xindex\": 0, \"pathcoordinates\": \"display\", \"id\": \"el24796140354460032080\", \"pathtransforms\": [[7.735700330458063, 0.0, 0.0, 7.735700330458063, 0.0, 0.0], [8.885057029113321, 0.0, 0.0, 8.885057029113321, 0.0, 0.0], [3.8294951511371287, 0.0, 0.0, 3.8294951511371287, 0.0, 0.0], [3.82812872516375, 0.0, 0.0, 3.82812872516375, 0.0, 0.0], [3.954492792386036, 0.0, 0.0, 3.954492792386036, 0.0, 0.0], [7.749120864471363, 0.0, 0.0, 7.749120864471363, 0.0, 0.0], [8.883208357821898, 0.0, 0.0, 8.883208357821898, 0.0, 0.0], [3.8633616079662128, 0.0, 0.0, 3.8633616079662128, 0.0, 0.0], [3.841857304698974, 0.0, 0.0, 3.841857304698974, 0.0, 0.0], [3.912012405348767, 0.0, 0.0, 3.912012405348767, 0.0, 0.0], [8.436996735052395, 0.0, 0.0, 8.436996735052395, 0.0, 0.0], [8.18808696900079, 0.0, 0.0, 8.18808696900079, 0.0, 0.0], [8.821068998604742, 0.0, 0.0, 8.821068998604742, 0.0, 0.0], [8.603864833098271, 0.0, 0.0, 8.603864833098271, 0.0, 0.0], [8.860351449833665, 0.0, 0.0, 8.860351449833665, 0.0, 0.0], [3.6787379062365195, 0.0, 0.0, 3.6787379062365195, 0.0, 0.0], [8.73491888611565, 0.0, 0.0, 8.73491888611565, 0.0, 0.0], [6.046037507030851, 0.0, 0.0, 6.046037507030851, 0.0, 0.0], [6.168913736529448, 0.0, 0.0, 6.168913736529448, 0.0, 0.0], [8.73440331817253, 0.0, 0.0, 8.73440331817253, 0.0, 0.0], [4.609951803342316, 0.0, 0.0, 4.609951803342316, 0.0, 0.0], [7.7177013357142, 0.0, 0.0, 7.7177013357142, 0.0, 0.0], [8.818298254536431, 0.0, 0.0, 8.818298254536431, 0.0, 0.0], [8.707110590456347, 0.0, 0.0, 8.707110590456347, 0.0, 0.0], [4.220040488177133, 0.0, 0.0, 4.220040488177133, 0.0, 0.0], [3.947603850304687, 0.0, 0.0, 3.947603850304687, 0.0, 0.0], [8.617324303152072, 0.0, 0.0, 8.617324303152072, 0.0, 0.0], [8.882418082559358, 0.0, 0.0, 8.882418082559358, 0.0, 0.0], [6.872837408213226, 0.0, 0.0, 6.872837408213226, 0.0, 0.0], [4.403310013256808, 0.0, 0.0, 4.403310013256808, 0.0, 0.0], [3.7272399816479074, 0.0, 0.0, 3.7272399816479074, 0.0, 0.0], [8.891405181000088, 0.0, 0.0, 8.891405181000088, 0.0, 0.0], [8.172494654276147, 0.0, 0.0, 8.172494654276147, 0.0, 0.0], [8.202220665225948, 0.0, 0.0, 8.202220665225948, 0.0, 0.0]], \"facecolors\": [\"#7B06FE\", \"#7B06FE\", \"#7B06FE\", \"#7B06FE\", \"#7B06FE\", \"#7B06FE\", \"#7B06FE\", \"#7B06FE\", \"#7B06FE\", \"#7B06FE\", \"#7B06FE\", \"#7B06FE\", \"#7B06FE\", \"#7B06FE\", \"#7B06FE\", \"#7B06FE\", \"#7B06FE\", \"#7B06FE\", \"#7B06FE\", \"#7B06FE\", \"#7B06FE\", \"#7B06FE\", \"#7B06FE\", \"#7B06FE\", \"#7B06FE\", \"#7B06FE\", \"#7B06FE\", \"#7B06FE\", \"#7B06FE\", \"#7B06FE\", \"#7B06FE\", \"#7B06FE\", \"#FF4D27\", \"#FF4D27\"], \"edgecolors\": [\"#7B06FE\", \"#7B06FE\", \"#7B06FE\", \"#7B06FE\", \"#7B06FE\", \"#7B06FE\", \"#7B06FE\", \"#7B06FE\", \"#7B06FE\", \"#7B06FE\", \"#7B06FE\", \"#7B06FE\", \"#7B06FE\", \"#7B06FE\", \"#7B06FE\", \"#7B06FE\", \"#7B06FE\", \"#7B06FE\", \"#7B06FE\", \"#7B06FE\", \"#7B06FE\", \"#7B06FE\", \"#7B06FE\", \"#7B06FE\", \"#7B06FE\", \"#7B06FE\", \"#7B06FE\", \"#7B06FE\", \"#7B06FE\", \"#7B06FE\", \"#7B06FE\", \"#7B06FE\", \"#FF4D27\", \"#FF4D27\"], \"paths\": [[[[0.0, -0.5], [0.13260155, -0.5], [0.25978993539242673, -0.44731684579412084], [0.3535533905932738, -0.3535533905932738], [0.44731684579412084, -0.25978993539242673], [0.5, -0.13260155], [0.5, 0.0], [0.5, 0.13260155], [0.44731684579412084, 0.25978993539242673], [0.3535533905932738, 0.3535533905932738], [0.25978993539242673, 0.44731684579412084], [0.13260155, 0.5], [0.0, 0.5], [-0.13260155, 0.5], [-0.25978993539242673, 0.44731684579412084], [-0.3535533905932738, 0.3535533905932738], [-0.44731684579412084, 0.25978993539242673], [-0.5, 0.13260155], [-0.5, 0.0], [-0.5, -0.13260155], [-0.44731684579412084, -0.25978993539242673], [-0.3535533905932738, -0.3535533905932738], [-0.25978993539242673, -0.44731684579412084], [-0.13260155, -0.5], [0.0, -0.5]], [\"M\", \"C\", \"C\", \"C\", \"C\", \"C\", \"C\", \"C\", \"C\", \"Z\"]]]}], \"markers\": [], \"xlim\": [0.0, 1.0], \"lines\": [], \"ylim\": [-0.1, 0.38], \"xscale\": \"linear\", \"sharey\": [], \"zoomable\": true, \"axes\": [{\"tickvalues\": null, \"scale\": \"linear\", \"grid\": {\"alpha\": 1.0, \"gridOn\": true, \"dasharray\": \"none\", \"color\": \"#FFFFFF\"}, \"tickformat\": null, \"position\": \"bottom\", \"visible\": true, \"nticks\": 6, \"fontsize\": 10.0}, {\"tickvalues\": null, \"scale\": \"linear\", \"grid\": {\"alpha\": 1.0, \"gridOn\": true, \"dasharray\": \"none\", \"color\": \"#FFFFFF\"}, \"tickformat\": null, \"position\": \"left\", \"visible\": true, \"nticks\": 6, \"fontsize\": 10.0}], \"id\": \"el24796140354461106128\", \"images\": [], \"axesbg\": \"#DDDDDD\", \"paths\": [{\"facecolor\": \"#008000\", \"zorder\": 1000001.0, \"alpha\": 0.5, \"yindex\": 1, \"xindex\": 0, \"edgewidth\": 1.0, \"edgecolor\": \"none\", \"id\": \"el24796140354460095152\", \"dasharray\": \"none\", \"coordinates\": \"axes\", \"pathcodes\": [\"M\", \"L\", \"L\", \"L\", \"Z\"], \"data\": \"data03\"}, {\"facecolor\": \"#FFFF00\", \"zorder\": 1000001.0, \"alpha\": 0.5, \"yindex\": 2, \"xindex\": 0, \"edgewidth\": 1.0, \"edgecolor\": \"none\", \"id\": \"el24796140354460096832\", \"dasharray\": \"none\", \"coordinates\": \"axes\", \"pathcodes\": [\"M\", \"L\", \"L\", \"L\", \"Z\"], \"data\": \"data03\"}, {\"facecolor\": \"#FF0000\", \"zorder\": 1000001.0, \"alpha\": 0.2, \"yindex\": 3, \"xindex\": 0, \"edgewidth\": 1.0, \"edgecolor\": \"none\", \"id\": \"el24796140354460098512\", \"dasharray\": \"none\", \"coordinates\": \"axes\", \"pathcodes\": [\"M\", \"L\", \"L\", \"L\", \"Z\"], \"data\": \"data03\"}, {\"facecolor\": \"#FF0F07\", \"zorder\": 1000001.0, \"alpha\": 1, \"yindex\": 4, \"xindex\": 0, \"edgewidth\": 1.0, \"edgecolor\": \"#FF0F07\", \"id\": \"el24796140354460140992\", \"dasharray\": \"none\", \"coordinates\": \"axes\", \"pathcodes\": [\"M\", \"L\", \"L\", \"L\", \"Z\"], \"data\": \"data03\"}, {\"facecolor\": \"#750FFE\", \"zorder\": 1000001.0, \"alpha\": 1, \"yindex\": 5, \"xindex\": 0, \"edgewidth\": 1.0, \"edgecolor\": \"#750FFE\", \"id\": \"el24796140354460142840\", \"dasharray\": \"none\", \"coordinates\": \"axes\", \"pathcodes\": [\"M\", \"L\", \"L\", \"L\", \"Z\"], \"data\": \"data03\"}, {\"facecolor\": \"#FFFFFF\", \"zorder\": 1000000.0, \"alpha\": 0.8, \"yindex\": 1, \"xindex\": 0, \"edgewidth\": 1.0, \"edgecolor\": \"#CCCCCC\", \"id\": \"el24796140354460068608\", \"dasharray\": \"none\", \"coordinates\": \"axes\", \"pathcodes\": [\"M\", \"L\", \"S\", \"L\", \"S\", \"L\", \"S\", \"L\", \"S\", \"Z\"], \"data\": \"data04\"}], \"bbox\": [0.125, 0.125, 0.775, 0.755]}], \"plugins\": [{\"type\": \"reset\"}, {\"button\": true, \"type\": \"zoom\", \"enabled\": false}, {\"button\": true, \"type\": \"boxzoom\", \"enabled\": false}, {\"hoffset\": 0, \"labels\": [\"0c83820e0060061941946a68f0\", \"1733981849c04af6ae996424e0\", \"1125390c5add882663707cbf2f\", \"2410f90c3c1ad303184fcf7bf5\", \"022478c58a1fbb91f2022bf36f\", \"0c83820e0060061941946a68f0\", \"1733981849c04af6ae996424e0\", \"1125390c5add882663707cbf2f\", \"2410f90c3c1ad303184fcf7bf5\", \"022478c58a1fbb91f2022bf36f\", \"3a96bf992f7527f42eb3dab5ef\", \"184af6a375706e604132428008\", \"009ef96711dfbee0513a90a090\", \"06273cd54233f548a66e4bc060\", \"305cb6ddda2c4e21184b802670\", \"0781dacd5bd3d20501ce483466\", \"3d4403a2e9f179119ab1d510b0\", \"1cefed47ef30e2abc2fab59c8f\", \"31445202992e8424e138e10428\", \"2bfcf170f18f47108305a86a90\", \"1ff2bc7cc13d268fd438c5d6f4\", \"3515080e9f1f901ded2c222408\", \"0822c9dff9148d209ab200cae0\", \"2f52d5ea152c8c90c2268d8660\", \"0715dde195e109487316f371df\", \"37fa0df5c75f284a7216801b2b\", \"2f6ad89296f7e1e79ee4eff181\", \"3b9629635edae6b69e815a5e02\", \"1384bbf3f0da584d09c2c88088\", \"0045c6f8269fa82435cf56ecff\", \"131a8d7c583c89551ccd48c1dc\", \"3bfefd222c3875a02d732e6fd0\", \"000000000060031c61c67f86a0\", \"000000000060031c61c67f86a0\"], \"type\": \"tooltip\", \"location\": \"mouse\", \"voffset\": 10, \"id\": \"el24796140354460032080\"}, {\"rules\": [\"B2ce3aeikq4aeikw5c/S1367\", \"B2ei3acijk4inrty5acy6-ac7e8/S1c2en3jknqr4-aejq5ai6ikn7c\", \"B012ak3cijnq4aceijy5-ejky6-ce7c8/S01c2-c3aejkn4-aeiwy5y6n\", \"B01e2-a3-cjq4-cikny5acq6-ci7c/S012cei3aij4ajt5ijkny6ik8\", \"B012-ci3-aej4-aikrt5jnqr6akn7/S012ac3ainq4ceqrt5ackqr\", \"B2ce3aeikq4aeikw5c/S1367\", \"B2ei3acijk4inrty5acy6-ac7e8/S1c2en3jknqr4-aejq5ai6ikn7c\", \"B012ak3cijnq4aceijy5-ejky6-ce7c8/S01c2-c3aejkn4-aeiwy5y6n\", \"B01e2-a3-cjq4-cikny5acq6-ci7c/S012cei3aij4ajt5ijkny6ik8\", \"B012-ci3-aej4-aikrt5jnqr6akn7/S012ac3ainq4ceqrt5ackqr\", \"B012-cn3-enq4cik5-aeq6-ci78/S01c2akn3-cen4-cejkz5-ekr6cek78\", \"B2a3kqr4ikty5eijk6acn7c8/S2a3eijky4jnwyz5-airy6ack7\", \"B2cn3akqr4-antw5-acky6-i7c/S1c2ak3ek4-ciqrtz5akqy6aek7c\", \"B2e3ceiry4-aiwy5ijkny6akn7/S1e2aci3acijy4-ajknty5cq6in7c\", \"B2-ak3ijknr4-aijnqz5-aijn6en7c8/S1c2i3y4-cikrwy5ceiqr6ck8\", \"B12e3eijkr4-acikny5cn6-ce7e/S01c2in3aejkr4-acinrw5ckq6-a\", \"B2cin3aiy4-aejkrz5ijn6aci8/S02cek3jkqry4akrtyz5-ajkq6aci7e8\", \"B012a3ajkqr4-kqyz5aeijk6ak7c8/S02-n3cnry4-ijkw5-ci6-c7\", \"B2a3cijq4-aeqtwy5iqr6in8/S2cn3ejny4ajnty5ekr6ac8\", \"B2ci3aekny4ackntz5enqry6-ak7/S13aenq4-inqtw5eknry6ek7e8\", \"B1e2cen3-cery4eiknrw5-e678/S01e2-ik3cjy4aceiyz5aer6eik7\", \"B2a3cejq4-aikty5cinqr6-cn8/S1c2n3ceinq4ijqty5ijr6ain8\", \"B2en3ainry4-cqrtwz5ciry6ak/S1e2a3r4-aikqw5-aej6ak7\", \"B2e3-acky4jkny5cikqr6-ak7e/S2ace3aqy4aejry5-inqr6aik78\", \"B012-i3-ijkn4ciy5kn6-a7e/S012ck3-aqr4-cinqtz5-aein6ikn\", \"B01c2akn3-ajky4aeiyz5-ci6-n7e8/S03ck4-ijknt5-aikn6ei7c8\", \"B02kn3aey4jntwz5-ckq6-ce7e/S012-k3-ceq4-etyz5-nqy6aik78\", \"B1c2in3jkn4-eiqrwy5ajq6-n78/S01e2kn3-ceny4-acwy5aijqy6ae78\", \"B2a3ar4cqtwyz5qy6-e78/S2ain3-inqy4aejkwz5-aejk6-in\", \"B012-k3-knqy4acjryz5-aei6ac/S12-c3eijr4eiknq5cejkn6ckn\", \"B1e23aey4ejrwy5-aijn6-n7e8/S1e2ain3ajqry4eijtwz5iy6k7c\", \"B2-an3-eikq4acikqt5eijkq678/S12ei3aeiny4cint5-cqr6aek78\", \"B3/S23\", \"B3/S23\"], \"type\": \"clickinfo\", \"id\": \"el24796140354460032080\", \"labels\": [\"0c83820e0060061941946a68f0\", \"1733981849c04af6ae996424e0\", \"1125390c5add882663707cbf2f\", \"2410f90c3c1ad303184fcf7bf5\", \"022478c58a1fbb91f2022bf36f\", \"0c83820e0060061941946a68f0\", \"1733981849c04af6ae996424e0\", \"1125390c5add882663707cbf2f\", \"2410f90c3c1ad303184fcf7bf5\", \"022478c58a1fbb91f2022bf36f\", \"3a96bf992f7527f42eb3dab5ef\", \"184af6a375706e604132428008\", \"009ef96711dfbee0513a90a090\", \"06273cd54233f548a66e4bc060\", \"305cb6ddda2c4e21184b802670\", \"0781dacd5bd3d20501ce483466\", \"3d4403a2e9f179119ab1d510b0\", \"1cefed47ef30e2abc2fab59c8f\", \"31445202992e8424e138e10428\", \"2bfcf170f18f47108305a86a90\", \"1ff2bc7cc13d268fd438c5d6f4\", \"3515080e9f1f901ded2c222408\", \"0822c9dff9148d209ab200cae0\", \"2f52d5ea152c8c90c2268d8660\", \"0715dde195e109487316f371df\", \"37fa0df5c75f284a7216801b2b\", \"2f6ad89296f7e1e79ee4eff181\", \"3b9629635edae6b69e815a5e02\", \"1384bbf3f0da584d09c2c88088\", \"0045c6f8269fa82435cf56ecff\", \"131a8d7c583c89551ccd48c1dc\", \"3bfefd222c3875a02d732e6fd0\", \"000000000060031c61c67f86a0\", \"000000000060031c61c67f86a0\"]}], \"id\": \"el24796140354467510480\", \"height\": 504.0, \"data\": {\"data03\": [[0.7215821812596007, 0.9553242930726373, 0.9135229422894986, 0.8717215915063596, 0.8323018500998633, 0.7928821086933668], [0.7727854582693293, 0.9553242930726373, 0.9135229422894986, 0.8717215915063596, 0.8323018500998633, 0.7928821086933668], [0.7727854582693293, 0.973720172395669, 0.9319188216125303, 0.8901174708293913, 0.850697729422895, 0.8112779880163985], [0.7215821812596007, 0.973720172395669, 0.9319188216125303, 0.8901174708293913, 0.850697729422895, 0.8112779880163985]], \"data01\": [[0.0, 0.0]], \"data04\": [[0.7164618535586278, 0.7771142121307684], [0.982078853046595, 0.7771142121307684], [0.9871991807475679, 0.7771142121307684], [0.9871991807475679, 0.7823701776516345], [0.9871991807475679, 0.9816041206769683], [0.9871991807475679, 0.9868600861978345], [0.982078853046595, 0.9868600861978345], [0.7164618535586278, 0.9868600861978345], [0.711341525857655, 0.9868600861978345], [0.711341525857655, 0.9816041206769683], [0.711341525857655, 0.7823701776516345], [0.711341525857655, 0.7771142121307684], [0.7164618535586278, 0.7771142121307684]], \"data02\": [[0.321636, 0.14867], [0.019919, 0.002572], [0.022815, 0.00557], [0.417415, 0.098694], [0.084043, 0.036189], [0.316082, 0.144094], [0.016928, 0.002308], [0.023104, 0.004945], [0.430551, 0.101365], [0.074235, 0.033086], [0.185792, 0.119161], [0.253568, 0.13943], [0.020131, 0.01066], [0.101852, 0.032517], [0.023084, 0.000618], [0.340072, 0.15847], [0.0199, 0.0101], [0.550777, 0.133415], [0.554252, 0.147002], [0.034876, 0.020657], [0.489023, 0.143845], [0.39422, 0.167817], [0.032118, 0.005496], [0.076012, 0.027663], [0.068578, 0.014057], [0.215438, 0.083427], [0.072518, 0.03355], [0.019017, 0.003947], [0.493316, 0.215395], [0.042749, 0.010969], [0.106887, 0.039119], [0.018284, 0.00198], [0.15376, 0.094752], [0.154527, 0.090349]]}});\n",
       "            })\n",
       "         });\n",
       "}\n",
       "</script>"
      ],
      "text/plain": [
       "<IPython.core.display.HTML object>"
      ]
     },
     "execution_count": 11,
     "metadata": {},
     "output_type": "execute_result"
    },
    {
     "data": {
      "image/png": "[encoded data removed]",
      "text/plain": [
       "<matplotlib.figure.Figure at 0x7fa6d1fe9a20>"
      ]
     },
     "metadata": {},
     "output_type": "display_data"
    }
   ],
   "source": [
    "### Plotting sample_data\n",
    "\n",
    "%matplotlib inline\n",
    "\n",
    "# mpld3.enable_notebook()\n",
    "from graphics import *\n",
    "fig, ax = plt.subplots(subplot_kw=dict(axisbg='#DDDDDD'\n",
    "#                                        ,projection='3d'\n",
    "                                      ))\n",
    "fig.set_size_inches([6,6])\n",
    "\n",
    "ax.grid(color='white', linestyle='solid')\n",
    "ax.set_ylim(-.1,0.38)\n",
    "ax.set_xlim(0,1)\n",
    "\n",
    "fig2,ax2=plt.subplots(subplot_kw=dict(axisbg='#DDDDDD'\n",
    "                                       ,projection='3d'\n",
    "                                      ))\n",
    "fig2.set_size_inches([10,10])\n",
    "# fig2.subplots_adjust(left=0.2, right=0.8, top=0.9, bottom=0.3)\n",
    "\n",
    "ax2.grid(color='white', linestyle='solid')\n",
    "ax2.set_ylim(-.1,0.38)\n",
    "ax2.set_xlim(0,1)\n",
    "\n",
    "fig,ax,fig2,ax2 = make_figure((fig,ax,fig2,ax2),sample_data)\n",
    "fig.set_size_inches([7,7])\n",
    "ax.set_ylim(-.1,0.38)\n",
    "ax.set_xlim(0,1)\n",
    "\n",
    "# display(HTML(viewer))\n",
    "\n",
    "\n",
    "\n",
    "mpld3.display(fig)\n",
    "# mpld3.display(fig2)\n",
    "\n",
    "\n",
    "\n"
   ]
  },
  {
   "cell_type": "code",
   "execution_count": 6,
   "metadata": {},
   "outputs": [
    {
     "name": "stdout",
     "output_type": "stream",
     "text": [
      "{'s': {'1': ['1e', '1k']}, 'b': {'1': ['1e', '1k']}}\n"
     ]
    }
   ],
   "source": [
    "print {'b':{'1':['1e','1k']},'s':{'1':['1e','1k']}}\n",
    "\n"
   ]
  },
  {
   "cell_type": "code",
   "execution_count": 7,
   "metadata": {},
   "outputs": [
    {
     "name": "stdout",
     "output_type": "stream",
     "text": [
      "b3aceijknqrys3aceijknqry2aceikn\n"
     ]
    }
   ],
   "source": [
    "# len(KBs.henseldict)\n",
    "# len(KBs.rca2ntca)\n",
    "# KBs.henseldict[:51]\n",
    "from KBs import *\n",
    "import itertools\n",
    "import collections\n",
    "if 1:\n",
    "        OUT = ''\n",
    "        rulestr =  '000000000060031c61c67f86a0'\n",
    "        r=hex2bin(rulestr,102);\n",
    "        r=r[::-1];\n",
    "        rule=[i for i,x in enumerate(r) if x=='1'];\n",
    "#         print r\n",
    "        lst = [henseldict[i] for i in rule]\n",
    "        lst.sort()\n",
    "        \n",
    "        #### group by B/S\n",
    "        d = collections.OrderedDict((('b',{}),('s',{}))) ### set default\n",
    "#         d = {'b':{},'s':{}}   ### set default\n",
    "        d.update(\n",
    "            {k:list(gp) for k,gp in itertools.groupby(lst, lambda x:x[0])}        \n",
    "        )\n",
    "        for k,lst in d.iteritems():\n",
    "            d[k] = {k:list(gp) for k,gp in itertools.groupby(lst, lambda x:x[1])}\n",
    "            \n",
    "        for bs, dd in d.iteritems():\n",
    "            OUT += bs\n",
    "            for k,lst in dd.iteritems():\n",
    "                OUT += k + ''.join( conf[-1] for conf in lst)\n",
    "        OUT = OUT.replace('_','')\n",
    "        alias = OUT\n",
    "#         return OUT\n",
    "print OUT\n",
    "# t"
   ]
  },
  {
   "cell_type": "code",
   "execution_count": 27,
   "metadata": {},
   "outputs": [
    {
     "name": "stdout",
     "output_type": "stream",
     "text": [
      "None\n"
     ]
    },
    {
     "data": {
      "text/plain": [
       "['b3a',\n",
       " 'b3c',\n",
       " 'b3e',\n",
       " 'b3i',\n",
       " 'b3j',\n",
       " 'b3k',\n",
       " 'b3n',\n",
       " 'b3q',\n",
       " 'b3r',\n",
       " 'b3y',\n",
       " 's2a',\n",
       " 's2c',\n",
       " 's2e',\n",
       " 's2i',\n",
       " 's2k',\n",
       " 's2n',\n",
       " 's3a',\n",
       " 's3c',\n",
       " 's3e',\n",
       " 's3i',\n",
       " 's3j',\n",
       " 's3k',\n",
       " 's3n',\n",
       " 's3q',\n",
       " 's3r',\n",
       " 's3y']"
      ]
     },
     "execution_count": 27,
     "metadata": {},
     "output_type": "execute_result"
    }
   ],
   "source": [
    "print lst.sort()\n",
    "# lst"
   ]
  },
  {
   "cell_type": "code",
   "execution_count": null,
   "metadata": {
    "collapsed": true
   },
   "outputs": [],
   "source": []
  },
  {
   "cell_type": "code",
   "execution_count": 7,
   "metadata": {},
   "outputs": [
    {
     "name": "stdout",
     "output_type": "stream",
     "text": [
      "['b3a', 'b3c', 'b3e', 'b3i', 'b3j', 'b3k', 'b3n', 'b3q', 'b3r', 'b3y', 'b4a', 'b4c', 'b4e', 'b4i', 'b4j', 'b4k', 'b4n', 'b4q', 'b4r', 'b4t', 'b4w', 'b4y', 'b4z', 'b5a', 'b5c', 'b5e', 'b5i', 'b5j', 'b5k', 'b5n', 'b5q', 'b5r', 'b5y', 'b6a', 'b6c', 'b6e', 'b6i', 'b6k', 'b6n', 'b7c', 'b7e', 'b8_']\n"
     ]
    },
    {
     "ename": "Exception",
     "evalue": "stop",
     "output_type": "error",
     "traceback": [
      "\u001b[0;31m---------------------------------------------------------------------------\u001b[0m",
      "\u001b[0;31mException\u001b[0m                                 Traceback (most recent call last)",
      "\u001b[0;32m<ipython-input-7-7c3d8aaed7f8>\u001b[0m in \u001b[0;36m<module>\u001b[0;34m()\u001b[0m\n\u001b[1;32m      9\u001b[0m \u001b[0mlst\u001b[0m\u001b[0;34m.\u001b[0m\u001b[0msort\u001b[0m\u001b[0;34m(\u001b[0m\u001b[0;34m)\u001b[0m\u001b[0;34m\u001b[0m\u001b[0m\n\u001b[1;32m     10\u001b[0m \u001b[0;32mprint\u001b[0m \u001b[0mlst\u001b[0m\u001b[0;34m\u001b[0m\u001b[0m\n\u001b[0;32m---> 11\u001b[0;31m \u001b[0;32mraise\u001b[0m\u001b[0;34m(\u001b[0m\u001b[0mException\u001b[0m\u001b[0;34m(\u001b[0m\u001b[0;34m'stop'\u001b[0m\u001b[0;34m)\u001b[0m\u001b[0;34m)\u001b[0m\u001b[0;34m\u001b[0m\u001b[0m\n\u001b[0m\u001b[1;32m     12\u001b[0m \u001b[0;31m#### group by B/S\u001b[0m\u001b[0;34m\u001b[0m\u001b[0;34m\u001b[0m\u001b[0m\n\u001b[1;32m     13\u001b[0m \u001b[0md\u001b[0m \u001b[0;34m=\u001b[0m \u001b[0mcollections\u001b[0m\u001b[0;34m.\u001b[0m\u001b[0mOrderedDict\u001b[0m\u001b[0;34m(\u001b[0m\u001b[0;34m(\u001b[0m\u001b[0;34m(\u001b[0m\u001b[0;34m'b'\u001b[0m\u001b[0;34m,\u001b[0m\u001b[0;34m{\u001b[0m\u001b[0;34m}\u001b[0m\u001b[0;34m)\u001b[0m\u001b[0;34m,\u001b[0m\u001b[0;34m(\u001b[0m\u001b[0;34m's'\u001b[0m\u001b[0;34m,\u001b[0m\u001b[0;34m{\u001b[0m\u001b[0;34m}\u001b[0m\u001b[0;34m)\u001b[0m\u001b[0;34m)\u001b[0m\u001b[0;34m)\u001b[0m \u001b[0;31m### set default\u001b[0m\u001b[0;34m\u001b[0m\u001b[0m\n",
      "\u001b[0;31mException\u001b[0m: stop"
     ]
    }
   ],
   "source": [
    "        from KBs import *\n",
    "        OUT = ''\n",
    "        rulestr =  '131c3c3c001fff03e03e000ea0'\n",
    "        r=hex2bin(rulestr,102);\n",
    "        r=r[::-1];\n",
    "        rule=[i for i,x in enumerate(r) if x=='1'];\n",
    "#         print r\n",
    "        lst = [henseldict[i] for i in rule]\n",
    "        lst.sort()\n",
    "        print lst\n",
    "        raise(Exception('stop'))\n",
    "        #### group by B/S\n",
    "        d = collections.OrderedDict((('b',{}),('s',{}))) ### set default\n",
    "#         d = {'b':{},'s':{}}   ### set default\n",
    "        d.update(\n",
    "            {k:list(gp) for k,gp in itertools.groupby(lst, lambda x:x[0])}        \n",
    "        )\n",
    "        for k,lst in d.iteritems():\n",
    "            d[k] = {k:list(gp) for k,gp in itertools.groupby(lst, lambda x:x[1])}\n",
    "            \n",
    "        for bs, dd in d.iteritems():\n",
    "            OUT += bs\n",
    "            for k,lst in dd.iteritems():\n",
    "                OUT += k + ''.join( conf[-1] for conf in lst)\n",
    "        OUT = OUT.replace('_','')\n",
    "        alias = OUT"
   ]
  },
  {
   "cell_type": "code",
   "execution_count": 11,
   "metadata": {},
   "outputs": [
    {
     "name": "stdout",
     "output_type": "stream",
     "text": [
      "b3s23\n"
     ]
    }
   ],
   "source": [
    "import re\n",
    "alias = 'b3_/s23'\n",
    "p_clean = re.compile(r'[^\\da-zA-Z]')\n",
    "alias = p_clean.sub( '', alias)\n",
    "print alias"
   ]
  },
  {
   "cell_type": "code",
   "execution_count": 70,
   "metadata": {},
   "outputs": [
    {
     "name": "stdout",
     "output_type": "stream",
     "text": [
      "000000000000030460461586a0\n",
      "000000000000030060060006a0\n",
      "b3aceijknqrys2aceikn\n",
      "b3aceijknqrys\n"
     ]
    }
   ],
   "source": [
    "p_NOTnumletter = re.compile(r'[^\\da-zA-Z]')\n",
    "alias = 'b3_/s2'\n",
    "alias = p_NOTnumletter.sub( '', alias)\n",
    "OUT = ['0']*102\n",
    "\n",
    "d = collections.OrderedDict((('b',{}),('s',{}))) ### set default\n",
    "# d.update()\n",
    "# alias.split('s')\n",
    "s = alias\n",
    "lst = [x for x  in re.split(\"([bs])\", s) if x]\n",
    "if len(lst) % 2: #### Padding to even length\n",
    "    lst += ['']\n",
    "d  = dict(ntuple(lst,2))\n",
    "\n",
    "idxs = []\n",
    "for k, v in d.iteritems():\n",
    "    s = v\n",
    "    lst = [x for x in re.split(\"(\\d)\", s) if x]\n",
    "    L  = len(lst)\n",
    "    v_old = ''\n",
    "    for i,v in enumerate(lst):\n",
    "        if v.isdigit():\n",
    "            if v_old.isdigit():\n",
    "                idx = [henselidx.get( k + v_old + i,None) for i in subconf]\n",
    "                idxs.extend(idx)\n",
    "            if i + 1 == L:\n",
    "                idx = [henselidx.get( k + v + i,None) for i in subconf]\n",
    "                idxs.extend(idx)\n",
    "        else:\n",
    "            idx = [henselidx[ k + num + v_i]  for v_i in v ]\n",
    "            idxs.extend(idx)\n",
    "        v_old = v\n",
    "\n",
    "idxs = [ x for x in idxs if x is not None] \n",
    "for i in idxs:\n",
    "    if not i is None:\n",
    "        OUT[i] = '1'\n",
    "bitstr=''.join(OUT[::-1]);\n",
    "hexstr=hex(int(bitstr,2)).lstrip('0x').rstrip('L').zfill(26)\n",
    "return hexstr\n",
    "\n",
    "# print idxs\n",
    "#     print ntuple([x for x  in re.split(\"(\\d)\", v)],2)\n",
    "#     d[k] = dict(ntuple([x for x  in re.split(\"(\\d)\", v) if x],2))\n",
    "# print d\n",
    "hexstr = kb.alias2rulestr(\"B3/S2\")\n",
    "print hexstr\n",
    "print kb.rulestr2alias(rulestr)\n",
    "print kb.rulestr2alias(hexstr)"
   ]
  },
  {
   "cell_type": "code",
   "execution_count": null,
   "metadata": {
    "collapsed": true
   },
   "outputs": [],
   "source": [
    "KB"
   ]
  },
  {
   "cell_type": "code",
   "execution_count": 46,
   "metadata": {},
   "outputs": [
    {
     "data": {
      "text/plain": [
       "False"
      ]
     },
     "execution_count": 46,
     "metadata": {},
     "output_type": "execute_result"
    }
   ],
   "source": [
    "''.isdigit()"
   ]
  },
  {
   "cell_type": "code",
   "execution_count": 8,
   "metadata": {},
   "outputs": [
    {
     "ename": "NameError",
     "evalue": "name 'ali' is not defined",
     "output_type": "error",
     "traceback": [
      "\u001b[0;31m---------------------------------------------------------------------------\u001b[0m",
      "\u001b[0;31mNameError\u001b[0m                                 Traceback (most recent call last)",
      "\u001b[0;32m<ipython-input-8-0116f80a18ab>\u001b[0m in \u001b[0;36m<module>\u001b[0;34m()\u001b[0m\n\u001b[1;32m      4\u001b[0m \u001b[0malias\u001b[0m \u001b[0;34m=\u001b[0m \u001b[0mp_clean\u001b[0m\u001b[0;34m.\u001b[0m\u001b[0msub\u001b[0m\u001b[0;34m(\u001b[0m \u001b[0;34m''\u001b[0m\u001b[0;34m,\u001b[0m \u001b[0malias\u001b[0m\u001b[0;34m)\u001b[0m\u001b[0;34m\u001b[0m\u001b[0m\n\u001b[1;32m      5\u001b[0m \u001b[0;34m\u001b[0m\u001b[0m\n\u001b[0;32m----> 6\u001b[0;31m \u001b[0mali\u001b[0m\u001b[0;34m=\u001b[0m\u001b[0mali\u001b[0m\u001b[0;34m.\u001b[0m\u001b[0mreplace\u001b[0m\u001b[0;34m(\u001b[0m\u001b[0;34m'/'\u001b[0m\u001b[0;34m,\u001b[0m\u001b[0;34m''\u001b[0m\u001b[0;34m)\u001b[0m\u001b[0;34m.\u001b[0m\u001b[0mlower\u001b[0m\u001b[0;34m(\u001b[0m\u001b[0;34m)\u001b[0m\u001b[0;34m;\u001b[0m\u001b[0;34m\u001b[0m\u001b[0m\n\u001b[0m\u001b[1;32m      7\u001b[0m \u001b[0mself\u001b[0m\u001b[0;34m.\u001b[0m\u001b[0ms\u001b[0m\u001b[0;34m=\u001b[0m\u001b[0;34m[\u001b[0m\u001b[0;34m'0'\u001b[0m\u001b[0;34m]\u001b[0m\u001b[0;34m*\u001b[0m\u001b[0;36m102\u001b[0m\u001b[0;34m;\u001b[0m\u001b[0;34m\u001b[0m\u001b[0m\n\u001b[1;32m      8\u001b[0m \u001b[0;32mwhile\u001b[0m \u001b[0mTrue\u001b[0m\u001b[0;34m:\u001b[0m\u001b[0;34m\u001b[0m\u001b[0m\n",
      "\u001b[0;31mNameError\u001b[0m: name 'ali' is not defined"
     ]
    }
   ],
   "source": [
    "# self.s=['0']*102;       \n",
    "\n",
    "while True:\n",
    "    prime=ali[0];\n",
    "    ali=ali[1:];\n",
    "    sold=[];\n",
    "    # sold=ali[0];\n",
    "    # nold=\n",
    "    neg=0;\n",
    "    for i,s in enumerate(ali):\n",
    "        if s.isdigit(): \n",
    "            neg=0;      \n",
    "            if sold==[]:\n",
    "                pass\n",
    "            elif sold.isdigit():\n",
    "                add_all(self.s,prime,sold);\n",
    "                # golly.note('added all of '+prime+sold)\n",
    "            nold=s;\n",
    "\n",
    "        elif s in ['b','s']:\n",
    "            ali=ali[i:];\n",
    "            break\n",
    "        elif s=='-':\n",
    "            neg=1;\n",
    "            add_all(self.s,prime,nold);\n",
    "            # golly.note('added all of '+prime+sold)\n",
    "        else:\n",
    "            conf=prime+nold+s;\n",
    "            self.s[henselidx[conf]]=str(1-neg);\n",
    "            # golly.note('added '+conf)\n",
    "        alii=ali[i+1:];\n",
    "        sold=s;\n",
    "        # golly.note(alii)  \n",
    "    if sold.isdigit():\n",
    "        add_all(self.s,prime,sold);\n",
    "        # golly.note('added all of '+prime+s)\n",
    "    if i+1==len(ali):\n",
    "        break\n",
    "ruleprj=''.join(self.s[::-1]);\n",
    "rulestr=hex(int(ruleprj,2)).lstrip('0x').rstrip('L').zfill(26);\n",
    "return rulestr"
   ]
  },
  {
   "cell_type": "code",
   "execution_count": 10,
   "metadata": {
    "collapsed": true
   },
   "outputs": [],
   "source": [
    "from KBs import *\n",
    "class kb_2dntca():\n",
    "    def __init__(self):\n",
    "        pass\n",
    "    def rulestr2alias(self, rulestr):\n",
    "        OUT = ''\n",
    "        # rulestr =  '000000000060031c61c67f86a0'\n",
    "        r=hex2bin(rulestr,102);\n",
    "        r=r[::-1];\n",
    "        rule=[i for i,x in enumerate(r) if x=='1'];\n",
    "#         print r\n",
    "        lst = [henseldict[i] for i in rule]\n",
    "        lst.sort()\n",
    "        \n",
    "        #### group by B/S\n",
    "        d = collections.OrderedDict((('b',{}),('s',{}))) ### set default\n",
    "#         d = {'b':{},'s':{}}   ### set default\n",
    "        d.update(\n",
    "            {k:list(gp) for k,gp in itertools.groupby(lst, lambda x:x[0])}        \n",
    "        )\n",
    "        for k,lst in d.iteritems():\n",
    "            d[k] = {k:list(gp) for k,gp in itertools.groupby(lst, lambda x:x[1])}\n",
    "            \n",
    "        for bs, dd in d.iteritems():\n",
    "            OUT += bs\n",
    "            for k,lst in dd.iteritems():\n",
    "                OUT += k + ''.join( conf[-1] for conf in lst)\n",
    "        OUT = OUT.replace('_','')\n",
    "        alias = OUT\n",
    "        return alias\n",
    "\n",
    "    def alias2rulestr(self, alias):\n",
    "        alias = p_NOTnumletter.sub( '', alias).lower()\n",
    "        OUT = ['0']*102\n",
    "        print alias\n",
    "        d = collections.OrderedDict((('b',{}),('s',{}))) ### set default\n",
    "        # d.update()\n",
    "        # alias.split('s')\n",
    "        s = alias\n",
    "        lst = [x for x  in re.split(\"([bs])\", s) if x]\n",
    "        if len(lst) % 2: #### Padding to even length\n",
    "            lst += ['']\n",
    "        d  = dict(ntuple(lst,2))\n",
    "        idxs = []\n",
    "        for k, v in d.iteritems():\n",
    "            s = v\n",
    "            lst = [x for x in re.split(\"(\\d)\", s) if x]\n",
    "            L  = len(lst)\n",
    "            v_old = ''\n",
    "            for i,v in enumerate(lst):\n",
    "                if v.isdigit():\n",
    "                    if v_old.isdigit():\n",
    "                        idx = [henselidx.get( k + v_old + c,None) for c in subconf]\n",
    "                        idxs.extend(idx)\n",
    "                    if i + 1 == L:\n",
    "                        idx = [henselidx.get( k + v + c,None) for c in subconf]\n",
    "                        idxs.extend(idx)\n",
    "                else:\n",
    "                    idx = [henselidx[ k + num + v_i]  for v_i in v ]\n",
    "                    idxs.extend(idx)\n",
    "                v_old = v\n",
    "        idxs = [ x for x in idxs if x is not None] \n",
    "        for i in idxs:\n",
    "            if not i is None:\n",
    "                OUT[i] = '1'\n",
    "        bitstr=''.join(OUT[::-1]);\n",
    "        hexstr=hex(int(bitstr,2)).lstrip('0x').rstrip('L').zfill(26)\n",
    "        return hexstr\n",
    "    def rulestr2adv(self,rulestr):\n",
    "        ruleprj=np.array( \n",
    "            list(hex2bin(rulestr,102)[::-1]),\n",
    "            np.int);\n",
    " "
   ]
  },
  {
   "cell_type": "code",
   "execution_count": 3,
   "metadata": {},
   "outputs": [
    {
     "name": "stdout",
     "output_type": "stream",
     "text": [
      "b345678s012678\n",
      "3f9fbe3e001fff07e07e15fea0\n"
     ]
    },
    {
     "data": {
      "text/plain": [
       "'b3aceijknqry5aceijknqry4aceijknqrtwyz7ce6aceikn8s1ce02aceikn7ce6aceikn8'"
      ]
     },
     "execution_count": 3,
     "metadata": {},
     "output_type": "execute_result"
    }
   ],
   "source": [
    "# mpld3.display(fig)\n",
    "import KBs\n",
    "\n",
    "kb = KBs.kb_2dntca()\n",
    "\n",
    "hexstr = kb.alias2rulestr(\"B345678/S012678\")\n",
    "# hexstr = kb.alias2rulestr(\"B3/S23\")\n",
    "print hexstr\n",
    "kb.rulestr2alias(hexstr)"
   ]
  },
  {
   "cell_type": "code",
   "execution_count": null,
   "metadata": {
    "collapsed": true
   },
   "outputs": [],
   "source": [
    "'b3ianjrecqyks2ac3i2e3a2k3nj2i3re2n3cqyk'\n",
    "{'b':{'3':('3i','3a','3n','3j','3r','3e','3c','3q','3y','3k','3s')}"
   ]
  },
  {
   "cell_type": "code",
   "execution_count": 13,
   "metadata": {},
   "outputs": [
    {
     "data": {
      "text/plain": [
       "0.0"
      ]
     },
     "execution_count": 13,
     "metadata": {},
     "output_type": "execute_result"
    }
   ],
   "source": [
    "import numpy as np\n",
    "\n",
    "sum(float(x)>0.3 for x in list(sample_data[:,3]))/sample_data.shape[0]"
   ]
  },
  {
   "cell_type": "code",
   "execution_count": 14,
   "metadata": {},
   "outputs": [
    {
     "name": "stdout",
     "output_type": "stream",
     "text": [
      "Log of the process:\n",
      "Starting to profile 1 rules at 2 replicates,\n",
      " totaling 2 instances\n",
      "0 of 2 \n",
      "1 of 2 \n",
      "data is succesfully generated at 2 replicates\n",
      "\n",
      " Detail of the input:\n",
      "      hmax            100       \n",
      "      siz             (400, 20, 20)\n",
      "      alias           b3ianjrecqyks2ac3i2e3a2k3nj2i3re2n3cqyk\n",
      "      N               400       \n",
      "      dimsiz          [400, 100, 400]\n",
      "      familyname      2dntca    \n",
      "      rulestr         000000000060031c61c67f86a0\n",
      "data generated for 2dntca_000000000060031c61c67f86a0\n"
     ]
    }
   ],
   "source": [
    "# len(ntca_list)\n",
    "# .shape\n",
    "# print(tst_data)\n",
    "print('\\n'.join(log));"
   ]
  },
  {
   "cell_type": "code",
   "execution_count": 15,
   "metadata": {
    "collapsed": true
   },
   "outputs": [],
   "source": [
    "# from nbconvert import HTMLExporter\n",
    "# import codecs\n",
    "# import nbformat\n",
    "# exporter = HTMLExporter()\n",
    "# # execfile()\n",
    "# output_notebook = nbformat.read('calc_temp.ipynb', as_version=4)\n",
    "# output, resources = exporter.from_notebook_node(output_notebook)\n",
    "# codecs.open('test.html', 'w', encoding='utf-8').write(output)"
   ]
  }
 ],
 "metadata": {
  "kernelspec": {
   "display_name": "Python 3",
   "language": "python",
   "name": "python3"
  },
  "language_info": {
   "codemirror_mode": {
    "name": "ipython",
    "version": 2
   },
   "file_extension": ".py",
   "mimetype": "text/x-python",
   "name": "python",
   "nbconvert_exporter": "python",
   "pygments_lexer": "ipython2",
   "version": "2.7.12"
  }
 },
 "nbformat": 4,
 "nbformat_minor": 1
}
