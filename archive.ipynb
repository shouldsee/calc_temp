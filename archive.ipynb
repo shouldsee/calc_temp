{
 "cells": [
  {
   "cell_type": "code",
   "execution_count": null,
   "metadata": {
    "collapsed": true
   },
   "outputs": [],
   "source": [
    "### Was debugging the convolution\n",
    "\n",
    "# %matplotlib notebook\n",
    "# fig=plt.figure();\n",
    "# ax=plt.subplot(1,1,1);\n",
    "# fi=ax.imshow(a[:,:].squeeze())\n",
    "\n",
    "# for i in range(500):\n",
    "# #     a=rule[rca2ntca[spsig.convolve2d(a,fir,'same')]];\n",
    "#     a=rule[rca2ntca[\n",
    "#         np.around(convolve_int(a,fir,'wrap')).astype(np.int)\n",
    "#     ]]\n",
    "#     if not (i%step):\n",
    "#         fi.set_array(a[:,:].squeeze())\n",
    "#         fig.canvas.draw()\n",
    "#         time.sleep(0.05)"
   ]
  },
  {
   "cell_type": "code",
   "execution_count": null,
   "metadata": {
    "collapsed": true
   },
   "outputs": [],
   "source": [
    "# dt=readcsv('const.csv')\n",
    "# rca2ntca=list(int(x) for x in dt['rca2ntca'])\n",
    "# dt=readcsv('hdist')\n",
    "# hdist=list(float(x) for x in dt['hdist'])\n",
    "# print(rca2ntca)\n",
    "# ca1.rulestr2alias()\n",
    "# print(ca1.alias)\n",
    "# fir=(2**np.arange(0,9)).reshape([1,3,3]);\n",
    "# pj=rca2ntca;\n",
    "# convolve_int(a,fir,'wrap').astype(np.int)\n",
    "# adv=lambda a, horizon: ruleprj[pj[np.around(convolve_int(a,fir,'wrap'))]]\n",
    "# print(ca1.adv)\n",
    "# with open('hdist','r') as fin:\n",
    "#     tp=[];\n",
    "#     lines=fin.readlines();\n",
    "#     for line in lines[1:]:\n",
    "#         tp += [float(line.rstrip('\\n'))];\n",
    "\n",
    "# with open('tp', 'wb') as f:  # Python 3: open(..., 'wb')\n",
    "#     pickle.dump([hdist,tst_data], f)\n",
    "# tp=[];"
   ]
  }
 ],
 "metadata": {
  "kernelspec": {
   "display_name": "Python 3",
   "language": "python",
   "name": "python3"
  },
  "language_info": {
   "codemirror_mode": {
    "name": "ipython",
    "version": 3
   },
   "file_extension": ".py",
   "mimetype": "text/x-python",
   "name": "python",
   "nbconvert_exporter": "python",
   "pygments_lexer": "ipython3",
   "version": "3.5.2"
  }
 },
 "nbformat": 4,
 "nbformat_minor": 2
}
