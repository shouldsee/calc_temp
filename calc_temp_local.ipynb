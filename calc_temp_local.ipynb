{
 "cells": [
  {
   "cell_type": "code",
   "execution_count": 2,
   "metadata": {
    "collapsed": false,
    "deletable": true,
    "editable": true
   },
   "outputs": [
    {
     "data": {
      "text/html": [
       "<script>\n",
       "code_show=true; \n",
       "function code_toggle() {\n",
       " if (code_show){\n",
       " $('div.input').hide();\n",
       " } else {\n",
       " $('div.input').show();\n",
       " }\n",
       " code_show = !code_show\n",
       "} \n",
       "$( document ).ready(code_toggle);\n",
       "</script>\n",
       "<form action=\"javascript:code_toggle()\"><input type=\"submit\" value=\"Click here to toggle on/off the raw code.\"></form>"
      ],
      "text/plain": [
       "<IPython.core.display.HTML object>"
      ]
     },
     "execution_count": 2,
     "metadata": {},
     "output_type": "execute_result"
    }
   ],
   "source": [
    "from astropy.convolution import *\n",
    "import sys\n",
    "import os\n",
    "sys.path.append(os.path.abspath('..'))\n",
    "%matplotlib notebook\n",
    "# utils=os.path.abspath('..')\n",
    "from utils import *\n",
    "import time\n",
    "from KBs import *\n",
    "(HTML(tog))"
   ]
  },
  {
   "cell_type": "code",
   "execution_count": 3,
   "metadata": {
    "collapsed": false,
    "deletable": true,
    "editable": true
   },
   "outputs": [
    {
     "name": "stdout",
     "output_type": "stream",
     "text": [
      "fail to fetch query, using default rule, B3/S23 \n",
      "example query2dntca_000000000060031c61c67f86a0\n"
     ]
    },
    {
     "data": {
      "text/plain": [
       "KBs.CA_sys"
      ]
     },
     "execution_count": 3,
     "metadata": {},
     "output_type": "execute_result"
    }
   ],
   "source": [
    "convolve_int=lambda a,fir,method:np.around(convolve(a,fir,method)).astype(np.int);\n",
    "## Using B3/S23 as example\n",
    "\n",
    "from os import environ\n",
    "try:\n",
    "    query = environ['query'];\n",
    "    \n",
    "    familyname, input_rulestr = query.split('_');\n",
    "except:\n",
    "#     familynam\n",
    "    query='2dntca_000000000060031c61c67f86a0';\n",
    "    print('fail to fetch query, using default rule, B3/S23 \\n' +\n",
    "    'example query'+query);\n",
    "\n",
    "familyname, input_rulestr = query.split('_');\n",
    "# if not 'input_rulestr' in locals():\n",
    "#     input_rulestr='000000000060031c61c67f86a0';\n",
    "# input_rulestr\n",
    "CA_sys"
   ]
  },
  {
   "cell_type": "code",
   "execution_count": 4,
   "metadata": {
    "collapsed": false,
    "deletable": true,
    "editable": true
   },
   "outputs": [],
   "source": [
    "\n",
    "# @function\n",
    "def measure_temperature(sys0=None,hdist=None,*args,**kwargs):\n",
    "#     varargin = measure_temperature.varargin\n",
    "#     nargin = measure_temperature.nargin\n",
    "    sysX=copy.copy(sys0)\n",
    "    jmax=sysX.N;\n",
    "    \n",
    "    if init_data == None:\n",
    "        avi=sysX.rdf()\n",
    "        siz=avi.shape\n",
    "        siz=(sysX.hmax,)+siz;\n",
    "        tmp=np.zeros(siz)\n",
    "        smtmp=np.zeros(siz)\n",
    "    else:\n",
    "        avi = init_data['avi'];\n",
    "        tmp = init_data['tmp'];\n",
    "        smtmp = init_data['smtmp'];\n",
    "\n",
    "    avc=avi\n",
    "    i=0\n",
    "    fir=np.reshape(2 ** (np.arange(0,9)),[1,3,3])\n",
    "    trans=6\n",
    "    mtp=0\n",
    "    stp=0\n",
    "    while i+1 < sysX.hmax:\n",
    "\n",
    "        i=i + 1\n",
    "        avcnew=(sysX.adv(avc,i))\n",
    "        cavc=convolve_int(avc,fir,'wrap').astype(np.int);\n",
    "        cavcnew=convolve_int(avcnew,fir,'wrap').astype(np.int);\n",
    "        idx=np.ravel_multi_index((cavc,cavcnew),[2**9,2**9]);\n",
    "        tmp[i,:,:,:]=np.expand_dims(hdist.flat[idx],0)\n",
    "        if i >= trans:\n",
    "            smtmpnow=np.mean(tmp[i - trans:i,:,:,:],axis=0)\n",
    "            smtmp[i - trans,:,:,:]=smtmpnow\n",
    "            if i >= trans + 10:\n",
    "                mtp=np.mean(smtmpnow.flat)\n",
    "                stpmat=((smtmp[i - trans,:,:,:] - smtmp[i - trans - trans,:,:,:]))\n",
    "                a=np.mean(np.abs(stpmat.flat))\n",
    "                b=abs(np.mean(stpmat.flat))\n",
    "                stp=a - b\n",
    "                stp1=np.mean(avcnew.flat)\n",
    "                stp1=min(stp1,1 - stp1)\n",
    "        avc=avcnew;\n",
    "        #     im1=[avc(1,:,:)];\n",
    "        if mtp < 0.02 and i > 20:\n",
    "            break\n",
    "    \n",
    "    fam_alias=sys0.familyname+'_'+sys0.alias;\n",
    "# /home/shouldsee/Documents/repos/CA_tfmat/custom_function/measure_temperature.m:55\n",
    "    # s=sprintf('%s\\\\t%s\\\\t%d\\\\t%f\\\\t%f\\\\t%f\\\\n',fam_alias,num2str(sys0.od),i,mtp,stp,stp1)\n",
    "    try:\n",
    "        s='{}\\t{}\\t{:d}\\t{:f}\\t{:f}\\t{:f}\\n'.format(fam_alias,sysX.rulestr,chunk_pos,mtp,stp,stp1)\n",
    "    except:\n",
    "        s='{}\\t{}\\t{:d}\\t{:f}\\t{:f}\\t{:f}\\n'.format(fam_alias,sysX.rulestr,-1,mtp,stp,stp1)\n",
    "# /home/shouldsee/Documents/repos/CA_tfmat/custom_function/measure_temperature.m:56\n",
    "    return s\n",
    "    \n",
    "# if __name__ == '__main__':\n",
    "#     pass\n",
    "    "
   ]
  },
  {
   "cell_type": "code",
   "execution_count": 5,
   "metadata": {
    "collapsed": false,
    "deletable": true,
    "editable": true
   },
   "outputs": [],
   "source": [
    "# #test\n",
    "# ca1=CA_sys('2dntca',input_rulestr,[600,100,400]);\n",
    "# ca1.rulestr2alias();\n",
    "# s=measure_temperature(ca1,hdist);\n",
    "# output_data=[];\n",
    "\n",
    "ntca_list='''0c83820e0060061941946a68f0\n",
    "1733981849c04af6ae996424e0\n",
    "1125390c5add882663707cbf2f\n",
    "2410f90c3c1ad303184fcf7bf5\n",
    "022478c58a1fbb91f2022bf36f\n",
    "3a96bf992f7527f42eb3dab5ef\n",
    "184af6a375706e604132428008\n",
    "009ef96711dfbee0513a90a090\n",
    "06273cd54233f548a66e4bc060\n",
    "305cb6ddda2c4e21184b802670\n",
    "0781dacd5bd3d20501ce483466\n",
    "3d4403a2e9f179119ab1d510b0\n",
    "1cefed47ef30e2abc2fab59c8f\n",
    "31445202992e8424e138e10428\n",
    "2bfcf170f18f47108305a86a90\n",
    "1ff2bc7cc13d268fd438c5d6f4\n",
    "3515080e9f1f901ded2c222408\n",
    "0822c9dff9148d209ab200cae0\n",
    "2f52d5ea152c8c90c2268d8660\n",
    "0715dde195e109487316f371df\n",
    "37fa0df5c75f284a7216801b2b\n",
    "2f6ad89296f7e1e79ee4eff181\n",
    "3b9629635edae6b69e815a5e02\n",
    "1384bbf3f0da584d09c2c88088\n",
    "0045c6f8269fa82435cf56ecff\n",
    "131a8d7c583c89551ccd48c1dc\n",
    "3bfefd222c3875a02d732e6fd0\n",
    "2c13b0a7d574623e8ffa9560e0\n",
    "1cde2410a7da1cdd2db0b6a937'''\n",
    "ntca_list=ntca_list.splitlines();"
   ]
  },
  {
   "cell_type": "code",
   "execution_count": 6,
   "metadata": {
    "collapsed": false,
    "deletable": true,
    "editable": true
   },
   "outputs": [
    {
     "name": "stdout",
     "output_type": "stream",
     "text": [
      "state dumped to ' rand_state '\n",
      "0\n"
     ]
    }
   ],
   "source": [
    "# generate random \n",
    "random_temp = 'rand_state'\n",
    "def random_batch(random_temp,des_count = None):\n",
    "    np.random.seed(0);\n",
    "    try:\n",
    "        f=open(random_temp,'a+');\n",
    "        f.close()\n",
    "    except:\n",
    "        pass\n",
    "\n",
    "    with open(random_temp,'rb') as f:\n",
    "        try:\n",
    "            count, state, = pickle.load(f);\n",
    "            np.random.set_state(state);\n",
    "        except:\n",
    "            count = -1;\n",
    "            print('no random state loaded, start from seed');\n",
    "    if des_count == None:\n",
    "        des_count = count + 1;\n",
    "    elif des_count <= count:\n",
    "        count = -1;\n",
    "        np.random.seed(0);\n",
    "    while count < des_count:\n",
    "        count = count + 1; \n",
    "        a=np.random.random([2**12,102]) < 0.5;\n",
    "        state = np.random.get_state();\n",
    "        \n",
    "    with open(random_temp,'wb') as f:\n",
    "        pickle.dump([count,state],f);\n",
    "        print('state dumped to', '\\'',random_temp,'\\'')\n",
    "    print(count)\n",
    "    return a\n",
    "a = random_batch(random_temp,0);\n",
    "lst = ['']*a.shape[0];\n",
    "# print(len(lst))\n",
    "# alst=(list(hex(int(''.join(list(ains.astype(np.int).astype(np.str))),2)) for ains in a));\n",
    "# print('done')\n",
    "# alst[-1]\n",
    "\n",
    "bin2hex=lambda ains, bit: hex(int(''.join(list(np.array(ains).astype(np.int).astype(np.str))),2))[2:].zfill(bit);"
   ]
  },
  {
   "cell_type": "code",
   "execution_count": 7,
   "metadata": {
    "collapsed": false,
    "deletable": true,
    "editable": true
   },
   "outputs": [
    {
     "data": {
      "text/plain": [
       "(3, 102)"
      ]
     },
     "execution_count": 7,
     "metadata": {},
     "output_type": "execute_result"
    }
   ],
   "source": [
    "# '0x3e87d9dfb4bcd9e00cafb23026'\n",
    "# bin2hex([1,0,0,1,0,1,0,1],26)\n",
    "a[0:3].shape"
   ]
  },
  {
   "cell_type": "code",
   "execution_count": 8,
   "metadata": {
    "collapsed": false,
    "deletable": true,
    "editable": true
   },
   "outputs": [],
   "source": [
    "\n",
    "def worker(piece):\n",
    "    chunk_pos,familyname, rulestr, init_data = piece;\n",
    "#     rulestr = pos_rulestr\n",
    "#     global output\n",
    "#     familyname, rulestr = fam_rulestr;\n",
    "#     ca1.rulestr = rulestr;\n",
    "    ca1=CA_sys(familyname, rulestr,[600,100,400]);\n",
    "    ca1.rulestr2alias();\n",
    "    s=measure_temperature(ca1,hdist,init_data = init_data);\n",
    "#     with open(outfname,'a') as outf:\n",
    "#         f.write(outfname);\n",
    "#     print(s)\n",
    "    return s;\n",
    "#     print('{:d} of {:d}'.format(num,len(ntca_list)))\n",
    "#     return s;\n",
    "#     output+=[s];\n",
    "\n",
    "# len(ipt)\n",
    "# ntca_list.shape\n"
   ]
  },
  {
   "cell_type": "code",
   "execution_count": null,
   "metadata": {
    "collapsed": false,
    "deletable": true,
    "editable": true
   },
   "outputs": [
    {
     "name": "stdout",
     "output_type": "stream",
     "text": [
      "Using 6 threads\n",
      "state dumped to ' rand_state '\n",
      "0\n",
      "122  of  4096\n",
      "wrote result to file\n",
      "134  of  4096\n",
      "wrote result to file\n",
      "146  of  4096\n",
      "wrote result to file\n",
      "158  of  4096\n",
      "wrote result to file\n",
      "170  of  4096\n",
      "wrote result to file\n",
      "182  of  4096\n",
      "wrote result to file\n",
      "194  of  4096\n",
      "wrote result to file\n",
      "206  of  4096\n",
      "wrote result to file\n",
      "218  of  4096\n",
      "wrote result to file\n",
      "230  of  4096\n"
     ]
    }
   ],
   "source": [
    "import csv, multiprocessing, sys\n",
    "# import multiprocessing  \n",
    "from os import environ, path, mkdir\n",
    "try:\n",
    "    data_dir = environ['data']+'/calc_temp_data/';\n",
    "except:\n",
    "    data_dir = path.abspath('../')+'/calc_temp_data/';\n",
    "try:\n",
    "    open(data_dir+'tst','a+')\n",
    "except:\n",
    "    mkdir(data_dir)\n",
    "\n",
    "process_num = multiprocessing.cpu_count() - 2;  \n",
    "print('Using {:d} threads'.format(process_num))\n",
    "count = -1;\n",
    "while count < 100:\n",
    "    count=count+1;\n",
    "    a = random_batch(random_temp,count);\n",
    "    ipt = a;\n",
    "\n",
    "\n",
    "\n",
    "\n",
    "    outfname = data_dir+'result_count{:d}.csv'.format(count);\n",
    "    ca0=CA_sys('2dntca',input_rulestr,[600,100,400]);\n",
    "    ca0.rulestr2alias();\n",
    "\n",
    "    # print(ca0)\n",
    "    if __name__ == '__main__':\n",
    "        \n",
    "        pool = multiprocessing.Pool(processes=process_num)   # default 1 proc per CPU\n",
    "        chunk_size = process_num*2;\n",
    "        siz_ipt = len(ipt);\n",
    "\n",
    "        init_data={};    \n",
    "        avi=ca0.rdf()\n",
    "        siz=avi.shape\n",
    "        siz=(ca0.hmax,)+siz;\n",
    "        tmp=np.zeros(siz)\n",
    "        smtmp=np.zeros(siz)\n",
    "        init_data = {'avi':avi,\n",
    "                 'tmp':tmp,\n",
    "                 'smtmp':smtmp};\n",
    "\n",
    "    #     init_data=\n",
    "    #     chunk_ca=[ca0]*chunk_size;\n",
    "        chunk_familyname = ['2dntca']*chunk_size\n",
    "        chunk_pos = list(range(0,chunk_size));\n",
    "        chunk_rule = ipt[0:chunk_size];\n",
    "        try:\n",
    "            chunk_rule =list(bin2hex(ains,26) for ains in chunk_rule);\n",
    "        except:\n",
    "            pass\n",
    "\n",
    "        chunk_init_data=[init_data]*chunk_size;\n",
    "        chunk = np.vstack((chunk_pos,chunk_familyname,chunk_rule,chunk_init_data)).T;\n",
    "    #     print(chunk[0].shape)\n",
    "    # chunk.shape\n",
    "    #     print(chunk_rule)\n",
    "    #     print(chunk[0][2])\n",
    "        f=open('progress','a+');\n",
    "        f.close();\n",
    "\n",
    "        with open('progress','rb') as fpg:\n",
    "            try:\n",
    "                lastchk = pickle.load(fpg);\n",
    "            except:\n",
    "                lastchk = 0;\n",
    "    #     siz_ipt=121;\n",
    "        for chunk_ind in range(lastchk,siz_ipt,chunk_size): \n",
    "            print(chunk_ind , ' of ',siz_ipt );\n",
    "\n",
    "            chunk_rule = ipt[chunk_ind:chunk_ind+chunk_size];\n",
    "            try:\n",
    "                chunk_rule = list(bin2hex(ains,26) for ains in chunk_rule);\n",
    "            except:\n",
    "                pass\n",
    "            chunk_pos = range(chunk_ind,chunk_ind+chunk_size)\n",
    "    #         chunk_rule = list(x for x in zip(,chunk_rule));\n",
    "            chunk[:,0]=chunk_pos\n",
    "            chunk[:,2]=chunk_rule;\n",
    "            init_data['avi']=ca0.rdf();\n",
    "            chunk[:,3]=[init_data]*chunk_size;\n",
    "    #         print(chunk)\n",
    "            outf=open(outfname,'a');\n",
    "\n",
    "            for resultset in pool.imap(worker, chunk):\n",
    "    #             print(resultset)\n",
    "                outf.write(resultset);\n",
    "            print('wrote result to file')\n",
    "            outf.close();\n",
    "\n",
    "            with open('progress','wb') as fpg:\n",
    "                pickle.dump(chunk_ind + 1,fpg)\n",
    "\n",
    "        pool.close()\n",
    "        pool.join()   \n",
    "        print('done')\n",
    "        with open('progress','wb') as fpg:\n",
    "            pickle.dump(0,fpg)\n"
   ]
  },
  {
   "cell_type": "code",
   "execution_count": null,
   "metadata": {
    "collapsed": false,
    "deletable": true,
    "editable": true
   },
   "outputs": [],
   "source": [
    "chunk_rule\n",
    "pool.close()"
   ]
  },
  {
   "cell_type": "code",
   "execution_count": null,
   "metadata": {
    "collapsed": false,
    "deletable": true,
    "editable": true
   },
   "outputs": [],
   "source": []
  },
  {
   "cell_type": "code",
   "execution_count": null,
   "metadata": {
    "collapsed": false,
    "deletable": true,
    "editable": true
   },
   "outputs": [],
   "source": [
    "a = random_batch(random_temp);\n",
    "lst = ['']*a.shape[0];\n",
    "# print(len(lst))\n",
    "alst=list(hex(int(''.join(list(ains.astype(np.int).astype(np.str))),2)) for ains in a);\n",
    "alst[1]"
   ]
  },
  {
   "cell_type": "code",
   "execution_count": null,
   "metadata": {
    "collapsed": false,
    "deletable": true,
    "editable": true
   },
   "outputs": [],
   "source": [
    "%matplotlib inline\n",
    "np.random.seed(0);\n",
    "a=np.random.random([2**18,102])<np.random.random();\n",
    "st0 = np.random.get_state();\n",
    "# a[-1,:]\n",
    "# b=np.random.random([2**18,102])<np.random.random();\n",
    "# fig, ax=plt.subplots()\n",
    "# ax.imshow(b[0,:100].reshape([10,-1]))"
   ]
  },
  {
   "cell_type": "code",
   "execution_count": null,
   "metadata": {
    "collapsed": true,
    "deletable": true,
    "editable": true
   },
   "outputs": [],
   "source": [
    "### Profiling loop\n",
    "# output_data=[];\n",
    "    \n",
    "# repeat=2;\n",
    "input_list=[input_rulestr];\n",
    "ipt_list=input_list*repeat;\n",
    "# for i in range(5):\n",
    "l_ipt=len(input_list)\n",
    "log = ['Log of the process:'];\n",
    "logs='Starting to profile {:d} rules at {:d} replicates,\\n totaling {:d} instances'.format(l_ipt,repeat,l_ipt*repeat);\n",
    "log += [logs];\n",
    "# print('Starting to profile {:d} rules at {:d} replicates,\\n totaling {:d} instances'.format(l_ipt,repeat,l_ipt*repeat))\n",
    "\n",
    "for num,rulestr in enumerate(ipt_list):\n",
    "    ca1=CA_sys(familyname,rulestr,[400,100,400]);\n",
    "    ca1.rulestr2alias();\n",
    "    s=measure_temperature(ca1,hdist);\n",
    "    output_data+=[s];\n",
    "#     print('{:d} of {:d}'.format(num,len(ipt_list)))\n",
    "    logs =('{:d} of {:d} '.format(num,len(ipt_list)));\n",
    "    log += [logs];\n",
    "\n",
    "# print('data is succesfully generated at {:d} replicates'.format(repeat))\n",
    "logs=('data is succesfully generated at {:d} replicates'.format(repeat))\n",
    "log  += [logs];\n",
    "\n",
    "temp_data=[];\n",
    "for line in output_data:\n",
    "    temp_data+=[line.rstrip('\\n').split('\\t')];\n",
    "sample_data=np.array(temp_data)"
   ]
  },
  {
   "cell_type": "code",
   "execution_count": null,
   "metadata": {
    "collapsed": false,
    "deletable": true,
    "editable": true
   },
   "outputs": [],
   "source": [
    "import csv\n",
    "# data=[[]]*5;\n",
    "def csv2dat(fname):\n",
    "    dat=[];\n",
    "    with open(fname, 'r') as csvfile:\n",
    "        spamreader = csv.reader(csvfile, delimiter='\\t')\n",
    "        for row in (spamreader):\n",
    "            dat+=[row];\n",
    "\n",
    "    return np.array(dat);\n",
    "# with open(infname) as :\n",
    "infname = 'result.csv'\n",
    "sample_data= csv2dat(infname);\n",
    "sample_data.shape\n",
    "# sample_data[1,:]"
   ]
  },
  {
   "cell_type": "code",
   "execution_count": null,
   "metadata": {
    "collapsed": false,
    "deletable": true,
    "editable": true
   },
   "outputs": [],
   "source": [
    "# print('\\n Detail of the input:')\n",
    "logs='\\n Detail of the input:';\n",
    "log+=[logs];\n",
    "for k,v in ca1.__dict__.items():\n",
    "    if not callable(v):\n",
    "#         print(k+str(v).ljust(-10))\n",
    "#         print(\"{:5} {:<15} {:<10}\".format('',k, str(v)))\n",
    "\n",
    "        logs=(\"{:5} {:<15} {:<10}\".format('',k, str(v)));\n",
    "        log+=[logs];\n",
    "    "
   ]
  },
  {
   "cell_type": "code",
   "execution_count": null,
   "metadata": {
    "collapsed": false,
    "deletable": true,
    "editable": true
   },
   "outputs": [],
   "source": [
    "# import numpy as np\n",
    "\n",
    "# # TEST sample_data\n",
    "# sample_data=np.array([['2dntca_b3ianjrecqyks2ac3i2e3a2k3nj2i3re2n3cqyk',\n",
    "#         '000000000060031c61c67f86a0', '99', '0.148772', '0.087523',\n",
    "#         '0.089563'],\n",
    "#        ['2dntca_b3ianjrecqyks2ac3i2e3a2k3nj2i3re2n3cqyk',\n",
    "#         '000000000060031c61c67f86a0', '99', '0.152794', '0.086693',\n",
    "#         '0.091644'],\n",
    "#        ['2dntca_b3ianjrecqyks2ac3i2e3a2k3nj2i3re2n3cqyk',\n",
    "#         '000000000060031c61c67f86a0', '99', '0.148733', '0.089657',\n",
    "#         '0.089387'],\n",
    "#        ['2dntca_b3ianjrecqyks2ac3i2e3a2k3nj2i3re2n3cqyk',\n",
    "#         '000000000060031c61c67f86a0', '99', '0.150105', '0.092000',\n",
    "#         '0.090981'],\n",
    "#        ['2dntca_b3ianjrecqyks2ac3i2e3a2k3nj2i3re2n3cqyk',\n",
    "#         '000000000060031c61c67f86a0', '99', '0.153150', '0.089772',\n",
    "#         '0.090938']], \n",
    "#       dtype='<U46')\n"
   ]
  },
  {
   "cell_type": "markdown",
   "metadata": {
    "deletable": true,
    "editable": true
   },
   "source": [
    "## Landscape of the observed dynamics\n",
    "* Hover on the point to get the NTCA(non-totalistic cellular automata) rule-string. Click to display the rulestring as a copyable string.\n",
    "* Click on the bottom-left widgets to Zoom-and-pan"
   ]
  },
  {
   "cell_type": "code",
   "execution_count": null,
   "metadata": {
    "collapsed": false,
    "deletable": true,
    "editable": true,
    "scrolled": false
   },
   "outputs": [],
   "source": [
    "%matplotlib inline\n",
    "# mpld3.enable_notebook()\n",
    "from graphics import *\n",
    "fig, ax = plt.subplots(subplot_kw=dict( axisbg = '#DDDDDD'\n",
    "#                                         ,facecolor='#DDDDDD'\n",
    "#                                        ,projection='3d'\n",
    "                                      ))\n",
    "fig.set_size_inches([10,10])\n",
    "\n",
    "ax.grid(color='white', linestyle='solid')\n",
    "ax.set_ylim(0,0.38)\n",
    "ax.set_xlim(0,1)\n",
    "\n",
    "fig2,ax2=plt.subplots(subplot_kw=dict(axisbg = '#DDDDDD',\n",
    "#                                       facecolor='#DDDDDD',\n",
    "                                       projection='3d'\n",
    "                                      ))\n",
    "fig2.set_size_inches([10,10])\n",
    "# fig2.subplots_adjust(left=0.2, right=0.8, top=0.9, bottom=0.3)\n",
    "\n",
    "ax2.grid(color='white', linestyle='solid')\n",
    "ax2.set_ylim(0,0.38)\n",
    "ax2.set_xlim(0,1)\n",
    "\n",
    "fig,ax,fig2,ax2 = make_figure((fig,ax,fig2,ax2),sample_data)\n",
    "fig.set_size_inches([10,10])\n",
    "mpld3.display(fig)\n"
   ]
  },
  {
   "cell_type": "code",
   "execution_count": null,
   "metadata": {
    "collapsed": false,
    "deletable": true,
    "editable": true
   },
   "outputs": [],
   "source": [
    "# len(ntca_list)\n",
    "# .shape\n",
    "# print(tst_data)\n",
    "print('\\n'.join(log));"
   ]
  },
  {
   "cell_type": "code",
   "execution_count": null,
   "metadata": {
    "collapsed": false,
    "deletable": true,
    "editable": true
   },
   "outputs": [],
   "source": [
    "# from nbconvert import HTMLExporter\n",
    "# import codecs\n",
    "# import nbformat\n",
    "# exporter = HTMLExporter()\n",
    "# # execfile()\n",
    "# output_notebook = nbformat.read('calc_temp.ipynb', as_version=4)\n",
    "# output, resources = exporter.from_notebook_node(output_notebook)\n",
    "# codecs.open('test.html', 'w', encoding='utf-8').write(output)"
   ]
  }
 ],
 "metadata": {
  "kernelspec": {
   "display_name": "Python 3",
   "language": "python",
   "name": "python3"
  },
  "language_info": {
   "codemirror_mode": {
    "name": "ipython",
    "version": 3
   },
   "file_extension": ".py",
   "mimetype": "text/x-python",
   "name": "python",
   "nbconvert_exporter": "python",
   "pygments_lexer": "ipython3",
   "version": "3.5.2"
  }
 },
 "nbformat": 4,
 "nbformat_minor": 0
}
