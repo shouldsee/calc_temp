{
 "cells": [
  {
   "cell_type": "code",
   "execution_count": 4,
   "metadata": {
    "collapsed": false
   },
   "outputs": [
    {
     "data": {
      "text/html": [
       "<script src=\"lv-plugin.js\"></script>\n",
       "\n",
       "<meta name=\"LifeViewer\" content=\"viewer textarea 60 hide\">\n",
       "\n",
       "<div class=\"viewer\" id=\"viewer\"><textarea>bob!</textarea><br><canvas width=\"480\" height=\"480\"></canvas></div>\n"
      ],
      "text/plain": [
       "<IPython.core.display.HTML object>"
      ]
     },
     "execution_count": 4,
     "metadata": {},
     "output_type": "execute_result"
    }
   ],
   "source": [
    "from IPython.display import HTML\n",
    "viewer='''<script src=\"lv-plugin.js\"></script>\\n\n",
    "<meta name=\"LifeViewer\" content=\"viewer textarea 60 hide\">\\n\n",
    "<div class=\"viewer\" id=\"viewer\"><textarea>bob!</textarea><br><canvas width=\"480\" height=\"480\"></canvas></div>\\n''';\n",
    "HTML(viewer)\n"
   ]
  }
 ],
 "metadata": {
  "kernelspec": {
   "display_name": "Python 3",
   "language": "python",
   "name": "python3"
  },
  "language_info": {
   "codemirror_mode": {
    "name": "ipython",
    "version": 3
   },
   "file_extension": ".py",
   "mimetype": "text/x-python",
   "name": "python",
   "nbconvert_exporter": "python",
   "pygments_lexer": "ipython3",
   "version": "3.5.2"
  }
 },
 "nbformat": 4,
 "nbformat_minor": 2
}
