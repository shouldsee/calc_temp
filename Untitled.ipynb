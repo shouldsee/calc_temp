{
 "cells": [
  {
   "cell_type": "code",
   "execution_count": 12,
   "metadata": {},
   "outputs": [
    {
     "data": {
      "text/plain": [
       "{'0': ['_'],\n",
       " '1': ['c', 'e'],\n",
       " '2': ['a', 'c', 'e', 'k', 'i', 'n'],\n",
       " '3': ['i', 'a', 'n', 'j', 'r', 'e', 'c', 'q', 'y', 'k'],\n",
       " '4': ['a', 'r', 'i', 'n', 'w', 'k', 'y', 'q', 't', 'j', 'z', 'e', 'c'],\n",
       " '5': ['i', 'a', 'j', 'n', 'r', 'q', 'c', 'y', 'k', 'e'],\n",
       " '6': ['a', 'c', 'k', 'n', 'e', 'i'],\n",
       " '7': ['c', 'e'],\n",
       " '8': ['_']}"
      ]
     },
     "execution_count": 12,
     "metadata": {},
     "output_type": "execute_result"
    }
   ],
   "source": [
    "from KBs import *\n",
    "import itertools\n",
    "# itm = henseldict.items()\n",
    "henseldict = {}\n",
    "\n",
    "for x in itertools.product(['b','s'],range(9)):\n",
    "    bs = x[0]\n",
    "    pref = ''.join(str(x) for x in  x)\n",
    "    val = [k[-1] for k in hensellist if k.startswith(pref) ]\n",
    "    henseldict[str(x[1])]=val\n",
    "henseldict"
   ]
  },
  {
   "cell_type": "code",
   "execution_count": 19,
   "metadata": {},
   "outputs": [],
   "source": [
    "def invert(s):\n",
    "    print s\n",
    "    num = s[0]\n",
    "    conf = henseldict[num]\n",
    "    return ''.join([x for x in conf if x not in s])\n",
    "# print invert('5-kn')"
   ]
  },
  {
   "cell_type": "code",
   "execution_count": 36,
   "metadata": {},
   "outputs": [
    {
     "name": "stdout",
     "output_type": "stream",
     "text": [
      "('5-kn',)\n",
      "('5-kn',)\n",
      "5-kn\n"
     ]
    }
   ],
   "source": [
    "# ?re.sub\n",
    "alias = 'B1c2ae3aknq4aijqty5-kn6-n78/S01e2ackn3aekq4ijntwyz5-iq6eikn78'\n",
    "o = re.search('(\\d-[a-zA-Z]+)',alias)\n",
    "print o.group()"
   ]
  },
  {
   "cell_type": "code",
   "execution_count": 34,
   "metadata": {},
   "outputs": [],
   "source": [
    "??re.subn"
   ]
  },
  {
   "cell_type": "code",
   "execution_count": 44,
   "metadata": {},
   "outputs": [
    {
     "name": "stdout",
     "output_type": "stream",
     "text": [
      "b1c2ae3aknq4aijqty5iajrqcye6ackei78s01e2ackn3aekq4ijntwyz5ajnrcyke6eikn78\n"
     ]
    },
    {
     "data": {
      "text/plain": [
       "'3fdbe9b8fd5cfaf6453019daca'"
      ]
     },
     "execution_count": 44,
     "metadata": {},
     "output_type": "execute_result"
    }
   ],
   "source": [
    "from KBs import *\n",
    "import re\n",
    "alias = 'B1c2ae3aknq4aijqty5-kn6-n78/S01e2ackn3aekq4ijntwyz5-iq6eikn78'\n",
    "\n",
    "def invert(s):\n",
    "    num = s[0]\n",
    "    conf = henseldict[num]\n",
    "    return ''.join([num]+[x for x in conf if x not in s])\n",
    "def alias2rulestr(self,alias): \n",
    "# alias.replace('-','')\n",
    "    alias = re.sub('(\\d-[a-zA-Z]+)',lambda o:invert(o.group()),alias)\n",
    "    alias = p_NOTnumletter.sub( '', alias).lower()\n",
    "    OUT = ['0']*102\n",
    "    print alias\n",
    "    d = collections.OrderedDict((('b',{}),('s',{}))) ### set default\n",
    "    # d.update()\n",
    "    # alias.split('s')\n",
    "    s = alias\n",
    "    lst = [x for x  in re.split(\"([bs])\", s) if x]\n",
    "    if len(lst) % 2: #### Padding to even length\n",
    "        lst += ['']\n",
    "    d  = dict(ntuple(lst,2))\n",
    "    idxs = []\n",
    "    for k, v in d.items():\n",
    "        s = v\n",
    "        lst = [x for x in re.split(\"(\\d)\", s) if x]\n",
    "        L  = len(lst)\n",
    "        v_old = ''\n",
    "        for i,v in enumerate(lst):\n",
    "            if v.isdigit():\n",
    "                if v_old.isdigit():\n",
    "                    idx = [henselidx.get( k + v_old + c,None) for c in subconf]\n",
    "                    idxs.extend(idx)\n",
    "                if i + 1 == L:\n",
    "                    idx = [henselidx.get( k + v + c,None) for c in subconf]\n",
    "                    idxs.extend(idx)\n",
    "                num = v\n",
    "            else:\n",
    "                idx = [henselidx[ k + num + v_i]  for v_i in v ]\n",
    "                idxs.extend(idx)\n",
    "            v_old = v\n",
    "    idxs = [ x for x in idxs if x is not None] \n",
    "    for i in idxs:\n",
    "        if not i is None:\n",
    "            OUT[i] = '1'\n",
    "    bitstr=''.join(OUT[::-1]);\n",
    "    hexstr=hex(int(bitstr,2)).lstrip('0x').rstrip('L').zfill(26)\n",
    "    return hexstr\n",
    "alias2rulestr(None,alias)"
   ]
  },
  {
   "cell_type": "code",
   "execution_count": null,
   "metadata": {},
   "outputs": [],
   "source": [
    "111110100000111011010000000001010110010100000111011010011101000100110100010000000110011101101011001010\n",
    "111110100000111011010000000001010110010100000111011010011101000100110100000000000110011101101011001010"
   ]
  }
 ],
 "metadata": {
  "kernelspec": {
   "display_name": "Python 2",
   "language": "python",
   "name": "python2"
  },
  "language_info": {
   "codemirror_mode": {
    "name": "ipython",
    "version": 2
   },
   "file_extension": ".py",
   "mimetype": "text/x-python",
   "name": "python",
   "nbconvert_exporter": "python",
   "pygments_lexer": "ipython2",
   "version": "2.7.12"
  }
 },
 "nbformat": 4,
 "nbformat_minor": 2
}
