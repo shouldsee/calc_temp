{
 "cells": [
  {
   "cell_type": "code",
   "execution_count": 1,
   "metadata": {},
   "outputs": [
    {
     "name": "stdout",
     "output_type": "stream",
     "text": [
      "is in ipython: 1\n",
      "[WARN] pymisca.vis_util cannot find network\n"
     ]
    }
   ],
   "source": [
    "from pymisca.util import *\n",
    "from pymisca.vis_util import *\n",
    "import IPython.display as ipd\n",
    "\n",
    "import KBs\n",
    "import random\n",
    "\n",
    "DIR = 'data_pdist'\n",
    "!mkdir -p {DIR}\n"
   ]
  },
  {
   "cell_type": "markdown",
   "metadata": {},
   "source": [
    "appx 10 rule per sec\n",
    "caching time is 1 min \n",
    "then 600 rules per cache"
   ]
  },
  {
   "cell_type": "code",
   "execution_count": null,
   "metadata": {},
   "outputs": [
    {
     "name": "stderr",
     "output_type": "stream",
     "text": [
      "KBs.py:375: RuntimeWarning: invalid value encountered in divide\n",
      "  COR = COV /  np.sqrt(D[:,None]*D[None,:])\n"
     ]
    },
    {
     "name": "stdout",
     "output_type": "stream",
     "text": [
      "finished 0 of 1440\n",
      "finished 1 of 1440\n",
      "finished 2 of 1440\n",
      "finished 3 of 1440\n",
      "finished 4 of 1440\n",
      "finished 5 of 1440\n",
      "finished 6 of 1440\n"
     ]
    },
    {
     "name": "stderr",
     "output_type": "stream",
     "text": [
      "KBs.py:375: RuntimeWarning: invalid value encountered in divide\n",
      "  COR = COV /  np.sqrt(D[:,None]*D[None,:])\n"
     ]
    },
    {
     "name": "stdout",
     "output_type": "stream",
     "text": [
      "finished 7 of 1440\n",
      "finished 8 of 1440\n",
      "finished 9 of 1440\n",
      "finished 10 of 1440\n",
      "finished 11 of 1440\n",
      "finished 12 of 1440\n",
      "finished 13 of 1440\n",
      "finished 14 of 1440\n",
      "finished 15 of 1440\n",
      "finished 16 of 1440\n",
      "finished 17 of 1440\n",
      "finished 18 of 1440\n",
      "finished 19 of 1440\n"
     ]
    },
    {
     "name": "stderr",
     "output_type": "stream",
     "text": [
      "KBs.py:375: RuntimeWarning: invalid value encountered in divide\n",
      "  COR = COV /  np.sqrt(D[:,None]*D[None,:])\n"
     ]
    },
    {
     "name": "stdout",
     "output_type": "stream",
     "text": [
      "finished 20 of 1440\n",
      "finished 21 of 1440\n"
     ]
    },
    {
     "name": "stderr",
     "output_type": "stream",
     "text": [
      "KBs.py:375: RuntimeWarning: invalid value encountered in divide\n",
      "  COR = COV /  np.sqrt(D[:,None]*D[None,:])\n"
     ]
    },
    {
     "name": "stdout",
     "output_type": "stream",
     "text": [
      "finished 22 of 1440\n",
      "finished 23 of 1440\n",
      "finished 24 of 1440\n",
      "finished 25 of 1440\n",
      "finished 26 of 1440\n",
      "finished 27 of 1440\n",
      "finished 28 of 1440\n",
      "finished 29 of 1440\n",
      "finished 30 of 1440\n",
      "finished 31 of 1440\n",
      "finished 32 of 1440\n",
      "finished 33 of 1440\n",
      "finished 34 of 1440\n",
      "finished 35 of 1440\n"
     ]
    },
    {
     "name": "stderr",
     "output_type": "stream",
     "text": [
      "KBs.py:375: RuntimeWarning: invalid value encountered in divide\n",
      "  COR = COV /  np.sqrt(D[:,None]*D[None,:])\n"
     ]
    },
    {
     "name": "stdout",
     "output_type": "stream",
     "text": [
      "finished 36 of 1440\n",
      "finished 37 of 1440\n",
      "finished 38 of 1440\n",
      "finished 39 of 1440\n",
      "finished 40 of 1440\n",
      "finished 41 of 1440\n",
      "finished 42 of 1440\n"
     ]
    },
    {
     "name": "stderr",
     "output_type": "stream",
     "text": [
      "KBs.py:375: RuntimeWarning: invalid value encountered in divide\n",
      "  COR = COV /  np.sqrt(D[:,None]*D[None,:])\n"
     ]
    },
    {
     "name": "stdout",
     "output_type": "stream",
     "text": [
      "finished 43 of 1440\n",
      "finished 44 of 1440\n",
      "finished 45 of 1440\n",
      "finished 46 of 1440\n",
      "finished 47 of 1440\n",
      "finished 48 of 1440\n",
      "finished 49 of 1440\n",
      "finished 50 of 1440\n",
      "finished 51 of 1440\n",
      "finished 52 of 1440\n",
      "finished 53 of 1440\n",
      "finished 54 of 1440\n",
      "finished 55 of 1440\n",
      "finished 56 of 1440\n",
      "finished 57 of 1440\n",
      "finished 58 of 1440\n",
      "finished 59 of 1440\n",
      "finished 60 of 1440\n"
     ]
    },
    {
     "name": "stderr",
     "output_type": "stream",
     "text": [
      "KBs.py:375: RuntimeWarning: invalid value encountered in divide\n",
      "  COR = COV /  np.sqrt(D[:,None]*D[None,:])\n"
     ]
    },
    {
     "name": "stdout",
     "output_type": "stream",
     "text": [
      "finished 61 of 1440\n",
      "finished 62 of 1440\n",
      "finished 63 of 1440\n",
      "finished 64 of 1440\n",
      "finished 65 of 1440\n"
     ]
    },
    {
     "name": "stderr",
     "output_type": "stream",
     "text": [
      "KBs.py:375: RuntimeWarning: invalid value encountered in divide\n",
      "  COR = COV /  np.sqrt(D[:,None]*D[None,:])\n"
     ]
    },
    {
     "name": "stdout",
     "output_type": "stream",
     "text": [
      "finished 66 of 1440\n",
      "finished 67 of 1440\n",
      "finished 68 of 1440\n",
      "finished 69 of 1440\n",
      "finished 70 of 1440\n",
      "finished 71 of 1440\n"
     ]
    },
    {
     "name": "stderr",
     "output_type": "stream",
     "text": [
      "KBs.py:375: RuntimeWarning: invalid value encountered in divide\n",
      "  COR = COV /  np.sqrt(D[:,None]*D[None,:])\n"
     ]
    },
    {
     "name": "stdout",
     "output_type": "stream",
     "text": [
      "finished 72 of 1440\n",
      "finished 73 of 1440\n",
      "finished 74 of 1440\n",
      "finished 75 of 1440\n",
      "finished 76 of 1440\n",
      "finished 77 of 1440\n",
      "finished 78 of 1440\n",
      "finished 79 of 1440\n",
      "finished 80 of 1440\n",
      "finished 81 of 1440\n",
      "finished 82 of 1440\n",
      "finished 83 of 1440\n",
      "finished 84 of 1440\n",
      "finished 85 of 1440\n",
      "finished 86 of 1440\n",
      "finished 87 of 1440\n",
      "finished 88 of 1440\n",
      "finished 89 of 1440\n",
      "finished 90 of 1440\n",
      "finished 91 of 1440\n",
      "finished 92 of 1440\n",
      "finished 93 of 1440\n",
      "finished 94 of 1440\n",
      "finished 95 of 1440\n",
      "finished 96 of 1440\n"
     ]
    },
    {
     "name": "stderr",
     "output_type": "stream",
     "text": [
      "KBs.py:375: RuntimeWarning: invalid value encountered in divide\n",
      "  COR = COV /  np.sqrt(D[:,None]*D[None,:])\n"
     ]
    },
    {
     "name": "stdout",
     "output_type": "stream",
     "text": [
      "finished 97 of 1440\n",
      "finished 98 of 1440\n",
      "finished 99 of 1440\n",
      "finished 100 of 1440\n",
      "finished 101 of 1440\n",
      "finished 102 of 1440\n",
      "finished 103 of 1440\n",
      "finished 104 of 1440\n",
      "finished 105 of 1440\n",
      "finished 106 of 1440\n"
     ]
    },
    {
     "name": "stderr",
     "output_type": "stream",
     "text": [
      "KBs.py:375: RuntimeWarning: invalid value encountered in divide\n",
      "  COR = COV /  np.sqrt(D[:,None]*D[None,:])\n"
     ]
    },
    {
     "name": "stdout",
     "output_type": "stream",
     "text": [
      "finished 107 of 1440\n"
     ]
    },
    {
     "name": "stderr",
     "output_type": "stream",
     "text": [
      "KBs.py:375: RuntimeWarning: invalid value encountered in divide\n",
      "  COR = COV /  np.sqrt(D[:,None]*D[None,:])\n"
     ]
    },
    {
     "name": "stdout",
     "output_type": "stream",
     "text": [
      "finished 108 of 1440\n",
      "finished 109 of 1440\n",
      "finished 110 of 1440\n",
      "finished 111 of 1440\n",
      "finished 112 of 1440\n",
      "finished 113 of 1440\n",
      "finished 114 of 1440\n",
      "finished 115 of 1440\n",
      "finished 116 of 1440\n"
     ]
    },
    {
     "name": "stderr",
     "output_type": "stream",
     "text": [
      "KBs.py:375: RuntimeWarning: invalid value encountered in divide\n",
      "  COR = COV /  np.sqrt(D[:,None]*D[None,:])\n"
     ]
    },
    {
     "name": "stdout",
     "output_type": "stream",
     "text": [
      "finished 117 of 1440\n",
      "finished 118 of 1440\n",
      "finished 119 of 1440\n",
      "finished 120 of 1440\n",
      "finished 121 of 1440\n",
      "finished 122 of 1440\n",
      "finished 123 of 1440\n",
      "finished 124 of 1440\n",
      "finished 125 of 1440\n",
      "finished 126 of 1440\n",
      "finished 127 of 1440\n",
      "finished 128 of 1440\n",
      "finished 129 of 1440\n",
      "finished 130 of 1440\n",
      "finished 131 of 1440\n",
      "finished 132 of 1440\n",
      "finished 133 of 1440\n",
      "finished 134 of 1440\n",
      "finished 135 of 1440\n",
      "finished 136 of 1440\n",
      "finished 137 of 1440\n",
      "finished 138 of 1440\n",
      "finished 139 of 1440\n",
      "finished 140 of 1440\n",
      "finished 141 of 1440\n",
      "finished 142 of 1440\n",
      "finished 143 of 1440\n",
      "finished 144 of 1440\n",
      "finished 145 of 1440\n",
      "finished 146 of 1440\n",
      "finished 147 of 1440\n",
      "finished 148 of 1440\n",
      "finished 149 of 1440\n",
      "finished 150 of 1440\n",
      "finished 151 of 1440\n"
     ]
    },
    {
     "name": "stderr",
     "output_type": "stream",
     "text": [
      "KBs.py:375: RuntimeWarning: invalid value encountered in divide\n",
      "  COR = COV /  np.sqrt(D[:,None]*D[None,:])\n"
     ]
    },
    {
     "name": "stdout",
     "output_type": "stream",
     "text": [
      "finished 152 of 1440\n",
      "finished 153 of 1440\n",
      "finished 154 of 1440\n",
      "finished 155 of 1440\n",
      "finished 156 of 1440\n",
      "finished 157 of 1440\n",
      "finished 158 of 1440\n",
      "finished 159 of 1440\n",
      "finished 160 of 1440\n",
      "finished 161 of 1440\n",
      "finished 162 of 1440\n",
      "finished 163 of 1440\n",
      "finished 164 of 1440\n"
     ]
    },
    {
     "name": "stderr",
     "output_type": "stream",
     "text": [
      "KBs.py:375: RuntimeWarning: invalid value encountered in divide\n",
      "  COR = COV /  np.sqrt(D[:,None]*D[None,:])\n",
      "KBs.py:375: RuntimeWarning: invalid value encountered in divide\n",
      "  COR = COV /  np.sqrt(D[:,None]*D[None,:])\n"
     ]
    },
    {
     "name": "stdout",
     "output_type": "stream",
     "text": [
      "finished 165 of 1440\n",
      "finished 166 of 1440\n",
      "finished 167 of 1440\n",
      "finished 168 of 1440\n",
      "finished 169 of 1440\n",
      "finished 170 of 1440\n",
      "finished 171 of 1440\n",
      "finished 172 of 1440\n",
      "finished 173 of 1440\n",
      "finished 174 of 1440\n",
      "finished 175 of 1440\n",
      "finished 176 of 1440\n",
      "finished 177 of 1440\n",
      "finished 178 of 1440\n",
      "finished 179 of 1440\n",
      "finished 180 of 1440\n",
      "finished 181 of 1440\n",
      "finished 182 of 1440\n",
      "finished 183 of 1440\n"
     ]
    },
    {
     "name": "stderr",
     "output_type": "stream",
     "text": [
      "KBs.py:375: RuntimeWarning: invalid value encountered in divide\n",
      "  COR = COV /  np.sqrt(D[:,None]*D[None,:])\n"
     ]
    },
    {
     "name": "stdout",
     "output_type": "stream",
     "text": [
      "finished 184 of 1440\n",
      "finished 185 of 1440\n",
      "finished 186 of 1440\n",
      "finished 187 of 1440\n",
      "finished 188 of 1440\n",
      "finished 189 of 1440\n",
      "finished 190 of 1440\n"
     ]
    },
    {
     "name": "stderr",
     "output_type": "stream",
     "text": [
      "KBs.py:375: RuntimeWarning: invalid value encountered in divide\n",
      "  COR = COV /  np.sqrt(D[:,None]*D[None,:])\n"
     ]
    },
    {
     "name": "stdout",
     "output_type": "stream",
     "text": [
      "finished 191 of 1440\n",
      "finished 192 of 1440\n",
      "finished 193 of 1440\n",
      "finished 194 of 1440\n",
      "finished 195 of 1440\n",
      "finished 196 of 1440\n",
      "finished 197 of 1440\n",
      "finished 198 of 1440\n",
      "finished 199 of 1440\n",
      "finished 200 of 1440\n",
      "finished 201 of 1440\n",
      "finished 202 of 1440\n",
      "finished 203 of 1440\n",
      "finished 204 of 1440\n"
     ]
    },
    {
     "name": "stderr",
     "output_type": "stream",
     "text": [
      "KBs.py:375: RuntimeWarning: invalid value encountered in divide\n",
      "  COR = COV /  np.sqrt(D[:,None]*D[None,:])\n"
     ]
    },
    {
     "name": "stdout",
     "output_type": "stream",
     "text": [
      "finished 205 of 1440\n",
      "finished 206 of 1440\n",
      "finished 207 of 1440\n",
      "finished 208 of 1440\n",
      "finished 209 of 1440\n",
      "finished 210 of 1440\n",
      "finished 211 of 1440\n",
      "finished 212 of 1440\n",
      "finished 213 of 1440\n",
      "finished 214 of 1440\n",
      "finished 215 of 1440\n",
      "finished 216 of 1440\n",
      "finished 217 of 1440\n",
      "finished 218 of 1440\n",
      "finished 219 of 1440\n",
      "finished 220 of 1440\n"
     ]
    },
    {
     "name": "stderr",
     "output_type": "stream",
     "text": [
      "KBs.py:375: RuntimeWarning: invalid value encountered in divide\n",
      "  COR = COV /  np.sqrt(D[:,None]*D[None,:])\n"
     ]
    },
    {
     "name": "stdout",
     "output_type": "stream",
     "text": [
      "finished 221 of 1440\n",
      "finished 222 of 1440\n"
     ]
    },
    {
     "name": "stderr",
     "output_type": "stream",
     "text": [
      "KBs.py:375: RuntimeWarning: invalid value encountered in divide\n",
      "  COR = COV /  np.sqrt(D[:,None]*D[None,:])\n"
     ]
    },
    {
     "name": "stdout",
     "output_type": "stream",
     "text": [
      "finished 223 of 1440\n",
      "finished 224 of 1440\n",
      "finished 225 of 1440\n",
      "finished 226 of 1440\n",
      "finished 227 of 1440\n"
     ]
    },
    {
     "name": "stderr",
     "output_type": "stream",
     "text": [
      "KBs.py:375: RuntimeWarning: invalid value encountered in divide\n",
      "  COR = COV /  np.sqrt(D[:,None]*D[None,:])\n"
     ]
    },
    {
     "name": "stdout",
     "output_type": "stream",
     "text": [
      "finished 228 of 1440\n",
      "finished 229 of 1440\n",
      "finished 230 of 1440\n",
      "finished 231 of 1440\n",
      "finished 232 of 1440\n",
      "finished 233 of 1440\n",
      "finished 234 of 1440\n",
      "finished 235 of 1440\n",
      "finished 236 of 1440\n",
      "finished 237 of 1440\n",
      "finished 238 of 1440\n",
      "finished 239 of 1440\n",
      "finished 240 of 1440\n",
      "finished 241 of 1440\n",
      "finished 242 of 1440\n",
      "finished 243 of 1440\n",
      "finished 244 of 1440\n"
     ]
    },
    {
     "name": "stderr",
     "output_type": "stream",
     "text": [
      "KBs.py:375: RuntimeWarning: invalid value encountered in divide\n",
      "  COR = COV /  np.sqrt(D[:,None]*D[None,:])\n"
     ]
    },
    {
     "name": "stdout",
     "output_type": "stream",
     "text": [
      "finished 245 of 1440\n",
      "finished 246 of 1440\n",
      "finished 247 of 1440\n"
     ]
    },
    {
     "name": "stderr",
     "output_type": "stream",
     "text": [
      "KBs.py:375: RuntimeWarning: invalid value encountered in divide\n",
      "  COR = COV /  np.sqrt(D[:,None]*D[None,:])\n"
     ]
    },
    {
     "name": "stdout",
     "output_type": "stream",
     "text": [
      "finished 248 of 1440\n",
      "finished 249 of 1440\n",
      "finished 250 of 1440\n",
      "finished 251 of 1440\n",
      "finished 252 of 1440\n",
      "finished 253 of 1440\n",
      "finished 254 of 1440\n",
      "finished 255 of 1440\n",
      "finished 256 of 1440\n",
      "finished 257 of 1440\n",
      "finished 258 of 1440\n",
      "finished 259 of 1440\n",
      "finished 260 of 1440\n"
     ]
    }
   ],
   "source": [
    "%%time\n",
    "import os\n",
    "import workers\n",
    "import time\n",
    "\n",
    "ts = []\n",
    "t0 = time.time()\n",
    "oit = list(range(60*24))\n",
    "for seed in oit:\n",
    "    bsize= 600\n",
    "    worker = workers.worker0323\n",
    "    kb = KBs.kb_2dntca()\n",
    "    it = kb.bulk_rstr(seed=seed,bsize=bsize)\n",
    "    out = mp_map(worker,it,n_cpu=12)\n",
    "\n",
    "    fname = os.path.join(DIR,'seed%d_size%d.npy'%(seed,bsize))\n",
    "    np.save(fname,out)\n",
    "    \n",
    "    print \"finished %d of %d\"%(seed,len(oit))\n",
    "    t = time.time()\n",
    "    ts.append(t-t0)\n",
    "    t0 = t\n",
    "#     break\n",
    "print 'finished'\n",
    "print 'avgtime:%.5fs'%(np.mean(ts))"
   ]
  },
  {
   "cell_type": "code",
   "execution_count": null,
   "metadata": {},
   "outputs": [],
   "source": [
    "print 'avgtime:%.5fs'%(np.mean(ts))"
   ]
  },
  {
   "cell_type": "code",
   "execution_count": 10,
   "metadata": {},
   "outputs": [
    {
     "data": {
      "text/plain": [
       "<matplotlib.figure.Figure at 0x7fc748a11290>"
      ]
     },
     "metadata": {},
     "output_type": "display_data"
    },
    {
     "data": {
      "image/png": "[encoded data removed]",
      "text/plain": [
       "<matplotlib.figure.Figure at 0x7fc77ff5b8d0>"
      ]
     },
     "metadata": {},
     "output_type": "display_data"
    }
   ],
   "source": [
    "# tst_dct = [{'family':'2dntca','rulestr':x[1]} for x in KBs.tst_data]\n",
    "# tst_out = mp_map(worker,tst_dct,n_cpu=12)\n",
    "# print 'finished'\n",
    "\n",
    "# plt.figure(figsize=(12,7))\n",
    "# dt  = map(lambda x:x.get('data').get('med'),tst_out)\n",
    "# xs,ys = zip(*dt)\n",
    "# plt.scatter(*zip(*dt),color='red')\n",
    "# for i,(x,y) in enumerate(dt):\n",
    "#     x = x+(np.random.random()-0.5)/50.\n",
    "#     y = y+(np.random.random()-0.5)/50.\n",
    "#     plt.text(x,y,i )\n",
    "# plt.plot([0,1],[0,1],'r--')\n",
    "\n",
    "# dt  = map(lambda x:x.get('data').get('med'),out)\n",
    "# xs,ys = zip(*dt)\n",
    "# plt.scatter(*zip(*dt),color='blue')\n",
    "# for i,(x,y) in enumerate(dt):\n",
    "#     x = x+(np.random.random()-0.5)/50.\n",
    "#     y = y+(np.random.random()-0.5)/50.\n",
    "#     plt.text(x,y,i)\n",
    "# plt.plot([0,1],[0,1],'r--')\n",
    "\n",
    "# plt.grid()\n",
    "# plt.show()"
   ]
  }
 ],
 "metadata": {
  "kernelspec": {
   "display_name": "Python 2",
   "language": "python",
   "name": "python2"
  },
  "language_info": {
   "codemirror_mode": {
    "name": "ipython",
    "version": 2
   },
   "file_extension": ".py",
   "mimetype": "text/x-python",
   "name": "python",
   "nbconvert_exporter": "python",
   "pygments_lexer": "ipython2",
   "version": "2.7.12"
  }
 },
 "nbformat": 4,
 "nbformat_minor": 2
}
