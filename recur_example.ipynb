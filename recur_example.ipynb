{
 "cells": [
  {
   "cell_type": "code",
   "execution_count": 1,
   "metadata": {},
   "outputs": [
    {
     "name": "stdout",
     "output_type": "stream",
     "text": [
      "is in ipython: 1\n",
      "alias of mapper 11001010: 202\n",
      "rulestring of rule 110: 01110110\n"
     ]
    },
    {
     "data": {
      "image/png": "[encoded data removed]",
      "text/plain": [
       "<matplotlib.figure.Figure at 0x7f5364656c10>"
      ]
     },
     "metadata": {},
     "output_type": "display_data"
    },
    {
     "name": "stdout",
     "output_type": "stream",
     "text": [
      "(97, 97)\n",
      "(21, 1, 40, 40)\n"
     ]
    }
   ],
   "source": [
    "from recur import *\n",
    "import KBs\n",
    "reload(KBs)\n",
    "import KBs\n",
    "from KBs import *\n",
    "\n",
    "\n",
    "from pymisca.util import *\n",
    "\n",
    "### To be compiled\n",
    "def printmat(mat,sep=',',offset=0):\n",
    "    if isinstance(mat,np.ndarray):\n",
    "        mat=  mat.tolist()\n",
    "    printlines([sep.join(str(y) for y in  x) for x in mat])\n",
    "#     printlines([sep.join(str(y) for y in ('-,')*offset + x) for x in mat])\n",
    "\n",
    "kb  = kb_eca()\n",
    "rstr = '11001010'\n",
    "alias = kb.rulestr2alias(rstr)\n",
    "print 'alias of mapper %s:'%rstr,alias\n",
    "print 'rulestring of rule 110:',kb.alias2rulestr('110')\n",
    "\n",
    "random.seed(0)\n",
    "np.random.seed(30)\n",
    "env = CA_sys()\n",
    "env.family= kb_eca()\n",
    "env.alias = '110'\n",
    "env.alias = '118'\n",
    "env.alias2rulestr()\n",
    "env.change_size((1,100,40**2))\n",
    "hist = sample(env,T=20)\n",
    "# hist.shape\n",
    "out = np.take(hist,0,axis=-1)\n",
    "showsptime(out[::-1])\n",
    "# print out\n",
    "# showsptime(out)\n",
    "plt.grid()\n",
    "plt.show()\n",
    "\n",
    "\n",
    "    \n",
    "import scipy.spatial.distance as spdist\n",
    "# spdist.pdist(np.array(tile0),isCompatible)\n",
    "# ?spdist.cdist\n",
    "def f1():\n",
    "#     X = np.array(tile0)\n",
    "    X = map(tile_flatten,tile0)\n",
    "    D = spdist.cdist(X,X,isCompatible)\n",
    "    print D.shape\n",
    "    return D\n",
    "\n",
    "\n",
    "tile0 = par2tiles(env,3,0)\n",
    "tile1 = par2tiles(env,3,3)\n",
    "\n",
    "# %time D1 = f1()\n",
    "# plt.imshow(D1)\n",
    "# plt.show()\n",
    "\n",
    "f2 = lambda : tile2adj(map(tile_flatten,tile0))\n",
    "# %time D2 = tile2adj(map(tile_flatten,tile0))\n",
    "# plt.imshow(D2)\n",
    "# plt.show()\n",
    "assert np.all(f1()==f2()),'Result disagree'\n",
    "\n",
    "print hist.shape"
   ]
  },
  {
   "cell_type": "code",
   "execution_count": 2,
   "metadata": {},
   "outputs": [
    {
     "name": "stdout",
     "output_type": "stream",
     "text": [
      "[128, 128, 1024]\n"
     ]
    }
   ],
   "source": [
    "\n",
    "print env.dimsiz"
   ]
  },
  {
   "cell_type": "code",
   "execution_count": 3,
   "metadata": {},
   "outputs": [
    {
     "data": {
      "image/png": "[encoded data removed]",
      "text/plain": [
       "<matplotlib.figure.Figure at 0x7f53646c9250>"
      ]
     },
     "metadata": {},
     "output_type": "display_data"
    },
    {
     "name": "stdout",
     "output_type": "stream",
     "text": [
      "No of all tiles: 47260\n",
      "[(47191, [18, 35, 25, 49, 52]), (47209, [21, 86, 32, 63, 79]), (47224, [22, 88, 80]), (47257, [70, 93, 46, 89, 83]), (47259, [0])]\n",
      "Found tiles (len<5): [(47191, [18, 35, 25, 49, 52]), (47209, [21, 86, 32, 63, 79]), (47224, [22, 88, 80]), (47257, [70, 93, 46, 89, 83]), (47259, [0])]\n",
      "(101, 1, 5, 1)\n"
     ]
    },
    {
     "data": {
      "image/png": "[encoded data removed]",
      "text/plain": [
       "<matplotlib.figure.Figure at 0x7f5340189f50>"
      ]
     },
     "metadata": {},
     "output_type": "display_data"
    },
    {
     "name": "stdout",
     "output_type": "stream",
     "text": [
      "CPU times: user 2.12 s, sys: 384 ms, total: 2.5 s\n",
      "Wall time: 2.06 s\n"
     ]
    }
   ],
   "source": [
    "%%time\n",
    "####################################################################\n",
    "#########oooo|oooo|xxx|cccc|oooo####################################\n",
    "####################################################################\n",
    "####################################################################\n",
    "#########oooo|xxxc|ccc|oooo|oooo####################################\n",
    "####################################################################\n",
    "## source oooo->xxxx\n",
    "## sink   cccc->oooo\n",
    "## find paths from sources to sinks\n",
    "\n",
    "\n",
    "# main(per=1,T=3)\n",
    "\n",
    "\n",
    "import simpleCycles\n",
    "### Look for a period 2 glider, drift 1 on a period 2 backgd\n",
    "### common product is 6\n",
    "\n",
    "### find period 2 static tiling\n",
    "### Decide a background to use\n",
    "\n",
    "Tbk = 3\n",
    "tile0 = par2tiles(env,T=Tbk,per=0,n=1)\n",
    "tile = tile0\n",
    "curr = pre2curr(tile,mid=1)\n",
    "# print mat2str(tile_flatten(tile0))\n",
    "amat = tile2adj(tile0)\n",
    "\n",
    "# interm = (amat.sum(axis=0))&(amat.sum(axis=1))!=0\n",
    "# print interm.shape\n",
    "# amat=  amat[interm,:][:,interm]\n",
    "# print amat.shape\n",
    "\n",
    "plt.imshow(amat)\n",
    "plt.show()\n",
    "\n",
    "cks = simpleCycles.simple_cycles(adj2dct(amat))\n",
    "# import networkx as nx\n",
    "# g = nx.DiGraph(amat)\n",
    "# cks = nx.simple_cycles(g)\n",
    "cks = list(cks)\n",
    "print 'No of all tiles:',len(cks)\n",
    "cks = filter(lambda (i,x):len(x)<=5,enumerate(cks))\n",
    "# print len(cks)\n",
    "print cks[:10]\n",
    "\n",
    "ck = cks[0]\n",
    "i,ck = ck\n",
    "bkd = sum([curr[x] for x in ck],())\n",
    "print 'Found tiles (len<5):',cks[:10]\n",
    "\n",
    "show_cycle(env,ck,curr)\n",
    "plt.show()\n"
   ]
  },
  {
   "cell_type": "code",
   "execution_count": 11,
   "metadata": {},
   "outputs": [
    {
     "ename": "IndexError",
     "evalue": "list index out of range",
     "output_type": "error",
     "traceback": [
      "\u001b[0;31m\u001b[0m",
      "\u001b[0;31mIndexError\u001b[0mTraceback (most recent call last)",
      "\u001b[0;32m<ipython-input-11-c594b73b0ac4>\u001b[0m in \u001b[0;36m<module>\u001b[0;34m()\u001b[0m\n\u001b[0;32m----> 1\u001b[0;31m \u001b[0mck\u001b[0m \u001b[0;34m=\u001b[0m \u001b[0mcks\u001b[0m\u001b[0;34m[\u001b[0m\u001b[0;36m2\u001b[0m\u001b[0;34m]\u001b[0m\u001b[0;34m\u001b[0m\u001b[0m\n\u001b[0m\u001b[1;32m      2\u001b[0m \u001b[0mi\u001b[0m\u001b[0;34m,\u001b[0m\u001b[0mck\u001b[0m \u001b[0;34m=\u001b[0m \u001b[0mck\u001b[0m\u001b[0;34m\u001b[0m\u001b[0m\n\u001b[1;32m      3\u001b[0m \u001b[0mbkd\u001b[0m \u001b[0;34m=\u001b[0m \u001b[0msum\u001b[0m\u001b[0;34m(\u001b[0m\u001b[0;34m[\u001b[0m\u001b[0mcurr\u001b[0m\u001b[0;34m[\u001b[0m\u001b[0mx\u001b[0m\u001b[0;34m]\u001b[0m \u001b[0;32mfor\u001b[0m \u001b[0mx\u001b[0m \u001b[0;32min\u001b[0m \u001b[0mck\u001b[0m\u001b[0;34m]\u001b[0m\u001b[0;34m,\u001b[0m\u001b[0;34m(\u001b[0m\u001b[0;34m)\u001b[0m\u001b[0;34m)\u001b[0m\u001b[0;34m\u001b[0m\u001b[0m\n",
      "\u001b[0;31mIndexError\u001b[0m: list index out of range"
     ]
    }
   ],
   "source": [
    "ck = cks[2]\n",
    "i,ck = ck\n",
    "bkd = sum([curr[x] for x in ck],())\n"
   ]
  },
  {
   "cell_type": "code",
   "execution_count": null,
   "metadata": {},
   "outputs": [],
   "source": [
    "from igraph import Graph\n",
    "\n",
    "def cut(lst,i):\n",
    "    if i>=0:\n",
    "        return lst[:i]\n",
    "    else:\n",
    "        return lst[i:]\n",
    "def cycle_cut(ck,N):\n",
    "    if N>=0:\n",
    "        it = itertools.cycle(ck)\n",
    "    else:\n",
    "        it = itertools.cycle(ck[::-1])\n",
    "    out = tuple(next(it) for _ in range(abs(N)))\n",
    "    if N>=0:\n",
    "        pass\n",
    "    else:\n",
    "        out = out[::-1]\n",
    "    return out\n",
    "        \n",
    "print cycle_cut(bkd,5)\n",
    "print cycle_cut(bkd,-5)\n",
    "\n",
    "def tile_filter(tile,L,bkgd):\n",
    "#     L = -(Tb + (1-spper)*Lb)\n",
    "#     query = iter_head(itertools.cycle(bkd),-L)\n",
    "    query = cycle_cut(bkgd,-L)\n",
    "    tile = filter(lambda seq: tuple(cut(seq[2:],L))== query,\n",
    "                 tile)\n",
    "    assert len(tile)!=0, 'tile is empty'\n",
    "    amat = tile2adj(tile)\n",
    "    print amat.shape\n",
    "    tile = np.array(tile)[amat.any(axis= int(L<0))]\n",
    "    return tile\n",
    "#     tile0Right = np.array(tile)[amat.any(axis=1)]\n",
    "#     tileRight = tile0Right\n",
    "\n",
    "def pre2curr(pre,mid=0,env=None):\n",
    "    if isinstance(pre[0],dict):\n",
    "        pre = map(tile_flatten,pre)\n",
    "    if env is None:\n",
    "        out = []    \n",
    "        for x in pre:\n",
    "    #         T = x[]\n",
    "            T,per = x[:2]\n",
    "            move = 0 if (per==0) | mid else  cmp(per,0)*(T//abs(per))\n",
    "            out.append(x[2+T+move:-T+move])\n",
    "    else:\n",
    "        #### To be modified\n",
    "        out = []    \n",
    "        for x in pre:\n",
    "            T,per = x[:2]\n",
    "            ini = np.reshape(x[2:],(1,-1,1))\n",
    "            y = sample(env,T=T,ini=ini)[-1].ravel()[T:-T]\n",
    "            out.append(y)\n",
    "    return out\n",
    "\n",
    "\n",
    "\n",
    "##### Taken from https://stackoverflow.com/a/147539/8083313\n",
    "def gcd(a, b):\n",
    "    \"\"\"Return greatest common divisor using Euclid's Algorithm.\"\"\"\n",
    "    while b:      \n",
    "        a, b = b, a % b\n",
    "    return a\n",
    "\n",
    "def lcm(a, b):\n",
    "    \"\"\"Return lowest common multiple.\"\"\"\n",
    "    return a * b // gcd(a, b)\n",
    "\n",
    "def lcmm(*args):\n",
    "    \"\"\"Return lcm of args.\"\"\"   \n",
    "    return reduce(lcm, args)\n",
    "\n"
   ]
  },
  {
   "cell_type": "code",
   "execution_count": 57,
   "metadata": {},
   "outputs": [
    {
     "data": {
      "text/plain": [
       "2"
      ]
     },
     "execution_count": 57,
     "metadata": {},
     "output_type": "execute_result"
    }
   ],
   "source": [
    "\n",
    "Tb = lcm(abs(per),Tbk)\n",
    "Tb"
   ]
  },
  {
   "cell_type": "code",
   "execution_count": 5,
   "metadata": {},
   "outputs": [
    {
     "name": "stdout",
     "output_type": "stream",
     "text": [
      "8\n",
      "1\n",
      "1\n",
      "-8\n",
      "(512, 512)\n",
      "10\n",
      "(128, 128)\n",
      "131072\n",
      "128\n",
      "512\n",
      "65536\n",
      "\n",
      "### Finding paths on the Graph\n",
      "\n"
     ]
    },
    {
     "name": "stderr",
     "output_type": "stream",
     "text": [
      "/home/shouldsee/.local/lib/python2.7/site-packages/ipykernel_launcher.py:59: DeprecationWarning: elementwise == comparison failed; this will raise an error in the future.\n"
     ]
    },
    {
     "ename": "AttributeError",
     "evalue": "'bool' object has no attribute 'shape'",
     "output_type": "error",
     "traceback": [
      "\u001b[0;31m\u001b[0m",
      "\u001b[0;31mAttributeError\u001b[0mTraceback (most recent call last)",
      "\u001b[0;32m<ipython-input-5-50a4d1208c6f>\u001b[0m in \u001b[0;36m<module>\u001b[0;34m()\u001b[0m\n\u001b[1;32m     58\u001b[0m \u001b[0mtails\u001b[0m  \u001b[0;34m=\u001b[0m \u001b[0;34m[\u001b[0m\u001b[0mx\u001b[0m\u001b[0;34m[\u001b[0m\u001b[0;34m-\u001b[0m\u001b[0;36m2\u001b[0m\u001b[0;34m*\u001b[0m\u001b[0mT\u001b[0m\u001b[0;34m:\u001b[0m\u001b[0;34m]\u001b[0m \u001b[0;32mfor\u001b[0m \u001b[0mx\u001b[0m \u001b[0;32min\u001b[0m \u001b[0mtile\u001b[0m\u001b[0;34m]\u001b[0m\u001b[0;34m\u001b[0m\u001b[0m\n\u001b[1;32m     59\u001b[0m \u001b[0mamat\u001b[0m \u001b[0;34m=\u001b[0m \u001b[0mnp\u001b[0m\u001b[0;34m.\u001b[0m\u001b[0marray\u001b[0m\u001b[0;34m(\u001b[0m\u001b[0mtails\u001b[0m\u001b[0;34m)\u001b[0m\u001b[0;34m[\u001b[0m\u001b[0;34m:\u001b[0m\u001b[0;34m,\u001b[0m\u001b[0mNone\u001b[0m\u001b[0;34m]\u001b[0m \u001b[0;34m==\u001b[0m \u001b[0mnp\u001b[0m\u001b[0;34m.\u001b[0m\u001b[0marray\u001b[0m\u001b[0;34m(\u001b[0m\u001b[0mheads\u001b[0m\u001b[0;34m)\u001b[0m\u001b[0;34m[\u001b[0m\u001b[0mNone\u001b[0m\u001b[0;34m,\u001b[0m\u001b[0;34m:\u001b[0m\u001b[0;34m]\u001b[0m\u001b[0;34m\u001b[0m\u001b[0m\n\u001b[0;32m---> 60\u001b[0;31m \u001b[0;32mprint\u001b[0m \u001b[0mamat\u001b[0m\u001b[0;34m.\u001b[0m\u001b[0mshape\u001b[0m\u001b[0;34m\u001b[0m\u001b[0m\n\u001b[0m\u001b[1;32m     61\u001b[0m \u001b[0mamat\u001b[0m \u001b[0;34m=\u001b[0m \u001b[0mnp\u001b[0m\u001b[0;34m.\u001b[0m\u001b[0mall\u001b[0m\u001b[0;34m(\u001b[0m \u001b[0mamat\u001b[0m\u001b[0;34m,\u001b[0m\u001b[0maxis\u001b[0m\u001b[0;34m=\u001b[0m\u001b[0;34m-\u001b[0m\u001b[0;36m1\u001b[0m\u001b[0;34m)\u001b[0m\u001b[0;34m\u001b[0m\u001b[0m\n\u001b[1;32m     62\u001b[0m \u001b[0mg\u001b[0m \u001b[0;34m=\u001b[0m \u001b[0mGraph\u001b[0m\u001b[0;34m.\u001b[0m\u001b[0mAdjacency\u001b[0m\u001b[0;34m(\u001b[0m\u001b[0mamat\u001b[0m\u001b[0;34m.\u001b[0m\u001b[0mtolist\u001b[0m\u001b[0;34m(\u001b[0m\u001b[0;34m)\u001b[0m\u001b[0;34m)\u001b[0m\u001b[0;34m\u001b[0m\u001b[0m\n",
      "\u001b[0;31mAttributeError\u001b[0m: 'bool' object has no attribute 'shape'"
     ]
    }
   ],
   "source": [
    "# %%time\n",
    "# Tbk = ?\n",
    "per = 2\n",
    "Tb = lcm(abs(per),Tbk)\n",
    "drift = Tb//per\n",
    "# Lb = len(bkd)\n",
    "Lb = lcm(abs(drift),len(bkd))\n",
    "assert Lb <= 5\n",
    "assert Tb <=10\n",
    "print Tb\n",
    "print drift\n",
    "print Lb\n",
    "\n",
    "spper = Tb//per/Lb\n",
    "assert isinstance(spper,int)\n",
    "tile = tile_flatten(par2tiles(env,n=Lb,T=Tb,per=per))\n",
    "# tile = [x for x,_ in filter(lambda (x,y): tuple(x[2+Tb:-Tb])!=tuple(y),zip(tile,pre2curr(tile)))]\n",
    "assert tile\n",
    "tileG = tile\n",
    "\n",
    "tile0 = main(env,glider=bkd,T=Tb,per=0,findall=1)\n",
    "curr = pre2curr(tile0)\n",
    "tile0 = tile_flatten(tile0)\n",
    "\n",
    "\n",
    "### Construct Right tile\n",
    "\n",
    "L = -(Tb + (1-spper)*Lb)\n",
    "print L\n",
    "tileRight = tile_filter(tile0,L,bkd)\n",
    "\n",
    "### Construct Left tile\n",
    "L = Tb + (1+spper)* Lb\n",
    "print L\n",
    "tileLeft = tile_filter(tile0,L,bkd)\n",
    "\n",
    "\n",
    "\n",
    "\n",
    "print len(tile0)\n",
    "print len(tileLeft)\n",
    "print len(tileRight)\n",
    "print len(tileG)\n",
    "\n",
    "\n",
    "msg = '''\n",
    "### Finding paths on the Graph\n",
    "'''\n",
    "print msg\n",
    "\n",
    "tile = sum([ x.tolist() if not isinstance(x,list) else x  for x in \n",
    "            [tileLeft,tileRight,tileG]] ,\n",
    "          [])\n",
    "curr = pre2curr(tile,mid=0,env=env)\n",
    "\n",
    "T = Tb\n",
    "heads  = [x[2:2+2*T] for x in tile]\n",
    "tails  = [x[-2*T:] for x in tile]\n",
    "amat = np.array(tails)[:,None] == np.array(heads)[None,:]\n",
    "print amat.shape\n",
    "amat = np.all( amat,axis=-1)\n",
    "g = Graph.Adjacency(amat.tolist())\n",
    "\n",
    "\n",
    "# find_all_paths(g,0,1)\n",
    "tLidx = range(len(tileLeft))\n",
    "tRidx = range(len(tileLeft),len(tileLeft)+len(tileRight))\n",
    "lst = []\n",
    "res = map(lambda L: g.get_shortest_paths(L,tRidx),tLidx)\n",
    "\n",
    "out = sum(res,[])\n",
    "out = [x for x in out if x]\n",
    "print out[:10]\n",
    "print 'Number of paths:',len(out)"
   ]
  },
  {
   "cell_type": "code",
   "execution_count": null,
   "metadata": {},
   "outputs": [],
   "source": [
    "\n",
    "\n",
    "per = [x[1] for x in tile]\n",
    "per_gb =  [sum(per[i] for i in x) for x in out]\n",
    "\n",
    "print per_gb\n",
    "# i = 82\n",
    "# i = 0\n",
    "lst = np.where(np.array(per_gb)>0)[0]\n",
    "print 'Nonzero drift:',lst\n",
    "\n",
    "import sys\n",
    "\n",
    "def show(i,verbose=0):\n",
    "    print i\n",
    "    ck = out[i]\n",
    "    ck = ck[0:1]*2 + ck + ck[-1:]*2\n",
    "    if verbose:\n",
    "        for i,x in enumerate(ck):\n",
    "            print '%s\\t'%x,\n",
    "            sys.stdout.write('-,'*i*Lb)\n",
    "#             print('-,'*i)\n",
    "            print mat2str([tile[x][2:]],sep=',')\n",
    "        print ck \n",
    "        print [curr[x] for x in ck]\n",
    "    show_cycle( env,ck,curr)\n",
    "# print per_gb\n",
    "# print np.where(np.array(per_gb)==0)[0]\n",
    "    plt.show()\n",
    "# out[0]"
   ]
  },
  {
   "cell_type": "code",
   "execution_count": 43,
   "metadata": {
    "scrolled": false
   },
   "outputs": [
    {
     "name": "stdout",
     "output_type": "stream",
     "text": [
      "0\n",
      "0\t0,0,0,0,0,0,0,0,0,0,0\n",
      "0\t-,0,0,0,0,0,0,0,0,0,0,0\n",
      "0\t-,-,0,0,0,0,0,0,0,0,0,0,0\n",
      "3\t-,-,-,0,0,0,0,0,0,0,0,0,0,0\n",
      "3\t-,-,-,-,0,0,0,0,0,0,0,0,0,0,0\n",
      "3\t-,-,-,-,-,0,0,0,0,0,0,0,0,0,0,0\n",
      "[0, 0, 0, 3, 3, 3]\n",
      "[array([0]), array([0]), array([0]), array([0]), array([0]), array([0])]\n",
      "(101, 1, 6, 1)\n"
     ]
    },
    {
     "data": {
      "image/png": "[encoded data removed]",
      "text/plain": [
       "<matplotlib.figure.Figure at 0x7f818c6203d0>"
      ]
     },
     "metadata": {},
     "output_type": "display_data"
    }
   ],
   "source": [
    "show(0,verbose=1)"
   ]
  },
  {
   "cell_type": "code",
   "execution_count": 13,
   "metadata": {
    "scrolled": false
   },
   "outputs": [
    {
     "data": {
      "text/plain": [
       "[]"
      ]
     },
     "execution_count": 13,
     "metadata": {},
     "output_type": "execute_result"
    }
   ],
   "source": [
    "map(show,lst[:3])"
   ]
  },
  {
   "cell_type": "code",
   "execution_count": null,
   "metadata": {},
   "outputs": [],
   "source": [
    "##### Old implementation\n",
    "# L = -(Tb + (1-spper)*Lb)\n",
    "# L = -L\n",
    "# # query = iter_head(itertools.cycle(bkd),L)\n",
    "# query = cycle_cut(bkd,L)\n",
    "# # print Tb,Lb\n",
    "# tile = filter(lambda seq: tuple(seq[-(L):])== tuple(query),tile0)\n",
    "# assert tile\n",
    "# amat = tile2adj(tile)\n",
    "# tile0Right = np.array(tile)[amat.any(axis=1)]\n",
    "# tileRight = tile0Right\n",
    "\n",
    "# L = Tb + (1+spper)* Lb\n",
    "# # query = iter_head(itertools.cycle(bkd[::-1]),L)[::-1]\n",
    "# query = cycle_cut(bkd,-L)\n",
    "# tile = filter(lambda seq: tuple(seq[2:2+L])== tuple(query),tile0)\n",
    "# assert tile\n",
    "# amat = tile2adj(tile)\n",
    "# tileLeft = np.array(tile)[amat.any(axis=0)]\n"
   ]
  }
 ],
 "metadata": {
  "kernelspec": {
   "display_name": "Python 2",
   "language": "python",
   "name": "python2"
  },
  "language_info": {
   "codemirror_mode": {
    "name": "ipython",
    "version": 2
   },
   "file_extension": ".py",
   "mimetype": "text/x-python",
   "name": "python",
   "nbconvert_exporter": "python",
   "pygments_lexer": "ipython2",
   "version": "2.7.12"
  }
 },
 "nbformat": 4,
 "nbformat_minor": 2
}
